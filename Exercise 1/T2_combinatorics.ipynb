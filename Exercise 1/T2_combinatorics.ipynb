{
 "cells": [
  {
   "cell_type": "markdown",
   "metadata": {},
   "source": [
    "# Exercise 1 - Combinatorics\n",
    " \n",
    "## Radim Briš, Michal Béreš, Matěj Mazůrek\n",
    " \n"
   ]
  },
  {
   "cell_type": "markdown",
   "metadata": {},
   "source": [
    "# Combinatorics"
   ]
  },
  {
   "cell_type": "markdown",
   "metadata": {},
   "source": [
    "**Example 1:**\n",
    "Johnny is deciding how to spend his night out and has several options: 4\n",
    "clubs, 6 bars and 3 musical performances. How many different options does Johnny\n",
    "have, considering he will only attend one event?"
   ]
  },
  {
   "cell_type": "code",
   "execution_count": 6,
   "metadata": {
    "vscode": {
     "languageId": "r"
    }
   },
   "outputs": [
    {
     "data": {
      "text/html": [
       "13"
      ],
      "text/latex": [
       "13"
      ],
      "text/markdown": [
       "13"
      ],
      "text/plain": [
       "[1] 13"
      ]
     },
     "metadata": {},
     "output_type": "display_data"
    },
    {
     "data": {
      "text/html": [
       "13"
      ],
      "text/latex": [
       "13"
      ],
      "text/markdown": [
       "13"
      ],
      "text/plain": [
       "[1] 13"
      ]
     },
     "metadata": {},
     "output_type": "display_data"
    }
   ],
   "source": [
    "c<-c(\"club1\",\"club2\",\"club3\",\"club4\") #set of clubs\n",
    "b<-c(\"bar1\",\"bar2\",\"bar3\",\"bar4\",\"bar5\",\"bar6\") #set of bars\n",
    "m<-c(\"mp1\",\"mp2\",\"mp3\") #set of musical performances\n",
    "total_options1=length(c)+length(b)+length(m) #rule of sum\n",
    "total_options2=length(union(union(c,b),m)) #size of the union\n",
    "total_options1\n",
    "total_options2"
   ]
  },
  {
   "cell_type": "markdown",
   "metadata": {},
   "source": [
    "**Example 2:** Emma is going for lunch to a restaurant with 3 different soups, 5 different\n",
    "main courses and 2 different desserts on the menu. How many unique 3-course meals\n",
    "can Emma create, choosing one of each?"
   ]
  },
  {
   "cell_type": "code",
   "execution_count": 11,
   "metadata": {
    "vscode": {
     "languageId": "r"
    }
   },
   "outputs": [
    {
     "data": {
      "text/html": [
       "30"
      ],
      "text/latex": [
       "30"
      ],
      "text/markdown": [
       "30"
      ],
      "text/plain": [
       "[1] 30"
      ]
     },
     "metadata": {},
     "output_type": "display_data"
    },
    {
     "data": {
      "text/html": [
       "30"
      ],
      "text/latex": [
       "30"
      ],
      "text/markdown": [
       "30"
      ],
      "text/plain": [
       "[1] 30"
      ]
     },
     "metadata": {},
     "output_type": "display_data"
    }
   ],
   "source": [
    "s<-c(\"soup1\",\"soup2\",\"soup3\") #set of soups\n",
    "m<-c(\"mc1\",\"mc2\",\"mc3\",\"mc4\",\"mc5\") #set of main courses\n",
    "d<-c(\"d1\",\"d2\") #set of desserts\n",
    "total_options1=length(s)*length(m)*length(d) #rule of product\n",
    "total_options2=nrow(expand.grid(s, m, d)) #size of the cartesian product\n",
    "total_options1\n",
    "total_options2"
   ]
  },
  {
   "cell_type": "markdown",
   "metadata": {},
   "source": [
    "**Example 3:** Grace is staying at a bed-and-breakfast. In the evening, she is\n",
    "offered a choice of menu items for breakfast in bed, to be delivered the\n",
    "next morning. There are three kinds of items: main dishes, side dishes,\n",
    "and beverages. She is allowed to choose up to one of each, but some of\n",
    "them come with optional extras. From the menu below, how many\n",
    "different breakfasts could she order?\n",
    "![Example Image](menu.png)"
   ]
  },
  {
   "cell_type": "code",
   "execution_count": null,
   "metadata": {
    "vscode": {
     "languageId": "r"
    }
   },
   "outputs": [],
   "source": [
    "#You can try to write the code here "
   ]
  },
  {
   "cell_type": "markdown",
   "metadata": {},
   "source": [
    "## r-permutations\n",
    " \n",
    "P(n, k) - r-permutations, the first argument will be the total number of entities, the second argument the size of the selection\n",
    " \n"
   ]
  },
  {
   "cell_type": "code",
   "execution_count": null,
   "metadata": {
    "vscode": {
     "languageId": "r"
    }
   },
   "outputs": [],
   "source": [
    "# the function is created by the fucntion command, it is an object whose name is given by a variable\n",
    "# to which I will assign this object\n",
    "r_permutation = function(n,k) # here I enter the number of parameters and their names\n",
    "{ # the whole body of the function is enclosed in parentheses {...}\n",
    "    numerator = factorial(n)  # the factorial in the original R exists so we will use it\n",
    "    denominator = factorial(n-k)\n",
    "    return(numerator/denominator)    # what the function returns is given in the return(...) statement\n",
    "}"
   ]
  },
  {
   "cell_type": "markdown",
   "metadata": {},
   "source": [
    "P*(n, k) - r-permutations with repetition\n",
    " \n"
   ]
  },
  {
   "cell_type": "code",
   "execution_count": null,
   "metadata": {
    "vscode": {
     "languageId": "r"
    }
   },
   "outputs": [],
   "source": [
    "r_permutation_repetition = function(n,k)\n",
    "{\n",
    "  return(n^k)\n",
    "}"
   ]
  },
  {
   "cell_type": "markdown",
   "metadata": {},
   "source": [
    "## Permutation\n",
    " \n",
    "P(n)=P(n, n) - permutation\n",
    " \n"
   ]
  },
  {
   "cell_type": "code",
   "execution_count": null,
   "metadata": {
    "vscode": {
     "languageId": "r"
    }
   },
   "outputs": [],
   "source": [
    "permutation = function(n)\n",
    "{\n",
    "  return(r_permutation(n,n))\n",
    "}"
   ]
  },
  {
   "cell_type": "markdown",
   "metadata": {},
   "source": [
    "P*(n1, n2, n3,...., nk) - permutation with repetition, input will be a vector with individual numbers of unique entities\n",
    " \n"
   ]
  },
  {
   "cell_type": "code",
   "execution_count": null,
   "metadata": {
    "vscode": {
     "languageId": "r"
    }
   },
   "outputs": [],
   "source": [
    "permutation_repetition = function(vec_n) # vec_n is the vector of values eg: vec_n=c(2,2,2,4,3)\n",
    "{\n",
    "    n = sum(vec_n) # we calculate how many values we have in total\n",
    "    res_temp=factorial(n) # their factorial=value in the numerator\n",
    "    # a simple loop starts with the for statement, then the iterator name follows in parentheses\n",
    "    # and what list will be taken as iterable object\n",
    "    for(count in vec_n) # count is an iterator and will gradually take values from the vector vec_n\n",
    "    {\n",
    "        # we gradually divide by the factorial of each number of unique entities\n",
    "        res_temp=res_temp/factorial(count) \n",
    "    }\n",
    "    return(res_temp)\n",
    "}"
   ]
  },
  {
   "cell_type": "code",
   "execution_count": null,
   "metadata": {
    "vscode": {
     "languageId": "r"
    }
   },
   "outputs": [],
   "source": [
    "a = c(2,2,2,1,1,1,1,1)\n",
    "permutation_repetition(a)"
   ]
  },
  {
   "cell_type": "markdown",
   "metadata": {},
   "source": [
    "## Combination\n",
    " \n",
    "C(n, k) - combination\n",
    " \n"
   ]
  },
  {
   "cell_type": "code",
   "execution_count": null,
   "metadata": {
    "vscode": {
     "languageId": "r"
    }
   },
   "outputs": [],
   "source": [
    "combinations = function(n,k)\n",
    "{\n",
    "  return(choose(n,k)) # the function for combination already exists in R and is called choose\n",
    "}"
   ]
  },
  {
   "cell_type": "markdown",
   "metadata": {},
   "source": [
    "C*(n, k) - combination with repetition\n",
    " \n"
   ]
  },
  {
   "cell_type": "code",
   "execution_count": null,
   "metadata": {
    "vscode": {
     "languageId": "r"
    }
   },
   "outputs": [],
   "source": [
    "combinations_repetition = function(n,k)\n",
    "{\n",
    "  return(choose(n+k-1,k)) # we use a known formula\n",
    "}"
   ]
  },
  {
   "cell_type": "markdown",
   "metadata": {},
   "source": [
    "# Exercise tasks\n",
    " \n",
    "## Example 1.\n",
    " \n",
    "There are three types of locks available in the store. To open the first lock, it is necessary to press four of the ten buttons marked with numbers 0 to 9.(The order does not matter - the buttons remain pressed.) The second lock will open if we press six of the ten buttons. To open the third lock, it is necessary to set the correct combination on the four discs. Which of these locks best protects against thieves?\n",
    " \n"
   ]
  },
  {
   "cell_type": "code",
   "execution_count": null,
   "metadata": {
    "vscode": {
     "languageId": "r"
    }
   },
   "outputs": [],
   "source": [
    "z1=combinations(10,4)\n",
    "z1"
   ]
  },
  {
   "cell_type": "code",
   "execution_count": null,
   "metadata": {
    "vscode": {
     "languageId": "r"
    }
   },
   "outputs": [],
   "source": [
    "z2=combinations(10,6)\n",
    "z2"
   ]
  },
  {
   "cell_type": "code",
   "execution_count": null,
   "metadata": {
    "vscode": {
     "languageId": "r"
    }
   },
   "outputs": [],
   "source": [
    "z3=r_permutation_repetition(10,4)\n",
    "paste(\"count of possible passwords: \",z1,\",\",z2,\",\",z3)\n",
    "paste(\"probability od random opening: \",1/z1,\",\",1/z2,\",\",1/z3)"
   ]
  },
  {
   "cell_type": "markdown",
   "metadata": {},
   "source": [
    "## Example 2.\n",
    " \n",
    "The store offers two types of briefcase locking. The first briefcase is locked with a six-digit cipher. The second case is locked with two locks that open at the same time. The cipher of each of them consists of three digits. Determine for each briefcase the probability of opening by a thief on the first attempt. Which type of lock is safer?\n",
    " \n"
   ]
  },
  {
   "cell_type": "code",
   "execution_count": null,
   "metadata": {
    "vscode": {
     "languageId": "r"
    }
   },
   "outputs": [],
   "source": [
    "z1=r_permutation_repetition(10,6);\n",
    "z2=r_permutation_repetition(10,3)*r_permutation_repetition(10,3);\n",
    "z2_v2=r_permutation_repetition(10,3)+r_permutation_repetition(10,3);\n",
    "paste(\"count combinations: \",z1,\",\",z2,\",second variant - \",z2_v2)"
   ]
  },
  {
   "cell_type": "markdown",
   "metadata": {},
   "source": [
    "## Example 3.\n",
    " \n",
    "There are 40 balls in the urn - 2 red and 38 white. We randomly pull 2 balls out of the urn. How likely are they both to be red?\n",
    " \n"
   ]
  },
  {
   "cell_type": "code",
   "execution_count": null,
   "metadata": {
    "vscode": {
     "languageId": "r"
    }
   },
   "outputs": [],
   "source": [
    "all_combinations=combinations(40,2);\n",
    "combinations_valid=combinations(2,2);\n",
    "prob=combinations_valid/all_combinations;\n",
    "paste(\"probability is: \",prob)"
   ]
  },
  {
   "cell_type": "markdown",
   "metadata": {},
   "source": [
    "## Example 4.\n",
    " \n",
    "The student had to prepare answers to 40 questions for the exam. He could not answer the two questions the examiner asked him, so he said, “I'm unlucky! These are the only two questions I can't answer. ”How likely is he to tell the truth?\n",
    " \n"
   ]
  },
  {
   "cell_type": "code",
   "execution_count": null,
   "metadata": {
    "vscode": {
     "languageId": "r"
    }
   },
   "outputs": [],
   "source": []
  },
  {
   "cell_type": "markdown",
   "metadata": {},
   "source": [
    "## Example 5.\n",
    " \n",
    "A student passes a chemistry test if he underlines the only two aldehydes on the list of 40 chemical compounds. What is the probability that a student who underlines the compounds at random will pass the test?\n",
    " \n"
   ]
  },
  {
   "cell_type": "code",
   "execution_count": null,
   "metadata": {
    "vscode": {
     "languageId": "r"
    }
   },
   "outputs": [],
   "source": []
  },
  {
   "cell_type": "markdown",
   "metadata": {},
   "source": [
    "## Example 6.\n",
    " \n",
    "A group of 40 tourists returned from abroad, including 2 smugglers. At the border, customs officer called for a personal search of two passengers and it turned out that both were smugglers. The remaining tourists responded: \"The customs officer was really lucky!\", \"Someone reported the smugglers!\",.... How to deal with these statements? Is there a legitimate suspicion that someone reported the smugglers?\n",
    " \n"
   ]
  },
  {
   "cell_type": "code",
   "execution_count": null,
   "metadata": {
    "vscode": {
     "languageId": "r"
    }
   },
   "outputs": [],
   "source": []
  },
  {
   "cell_type": "markdown",
   "metadata": {},
   "source": [
    "## Example 7.\n",
    " \n",
    "From the urn with three balls, two red and one white, two balls will be selected at the same time. The student and the teacher place a bet. If both balls are of the same color, the student wins. If the balls have different colors, the teacher wins. Is the game fair? What are the probabilities of a teacher and a student winning?\n",
    " \n"
   ]
  },
  {
   "cell_type": "code",
   "execution_count": null,
   "metadata": {
    "vscode": {
     "languageId": "r"
    }
   },
   "outputs": [],
   "source": [
    "# the combn function produces combinations of the specified size - the first parameter is a vector of values, the second the size of the selection\n",
    "combn(c('red','red','white'),2)"
   ]
  },
  {
   "cell_type": "markdown",
   "metadata": {},
   "source": [
    "## Example 8.\n",
    " \n",
    "The game described in Example 7 was not fair. What ball(red or white) do we need to add to the urn to make the game fair?\n",
    " \n"
   ]
  },
  {
   "cell_type": "code",
   "execution_count": null,
   "metadata": {
    "vscode": {
     "languageId": "r"
    }
   },
   "outputs": [],
   "source": [
    "combn(c('red','red','white','white'),2)\n",
    "combn(c('red','red','white', 'red'),2)"
   ]
  },
  {
   "cell_type": "markdown",
   "metadata": {},
   "source": [
    "## Example 9.\n",
    " \n",
    "You want to play \"Man, don't be angry\" (a board game requiring a dice), but all the dices are lost. How can a dice be replaced if you have playing cards(a deck of 32 cards) and 4 different colored balls?\n",
    " \n"
   ]
  },
  {
   "cell_type": "code",
   "execution_count": null,
   "metadata": {
    "vscode": {
     "languageId": "r"
    }
   },
   "outputs": [],
   "source": []
  },
  {
   "cell_type": "markdown",
   "metadata": {},
   "source": [
    "## Example 10.\n",
    " \n",
    "You want to play Man, don't be angry, but the dice is lost. How can one replace a dice if he has only 3 different colored balls?\n",
    " \n"
   ]
  },
  {
   "cell_type": "code",
   "execution_count": null,
   "metadata": {
    "vscode": {
     "languageId": "r"
    }
   },
   "outputs": [],
   "source": []
  },
  {
   "cell_type": "markdown",
   "metadata": {},
   "source": [
    "## Example 11.\n",
    " \n",
    "They have a sales event in the Škoda car dealership in February. In addition to the standard equipment, they offer 3 items from the above-standard equipment free of charge. Extra equipment includes 7 items:\n",
    " \n",
    "- cruise control, seat heating, rear airbags, xenon headlights, sunroof, gearbox lock, and  special durable metallic paint. \n",
    "\n",
    "How many options does the customer have to choose 3 items from the above-standard equipment?\n",
    " \n"
   ]
  },
  {
   "cell_type": "code",
   "execution_count": null,
   "metadata": {
    "vscode": {
     "languageId": "r"
    }
   },
   "outputs": [],
   "source": [
    "combinations(7,3)"
   ]
  },
  {
   "cell_type": "markdown",
   "metadata": {},
   "source": [
    "## Example 12.\n",
    " \n",
    "During the exam, 12 students will be sitting in the 5th row. The examiner wants to determine himself where every student will be sitting.\n",
    " \n",
    "- How many ways to organize those 12 students?\n",
    " \n",
    "- Student Brahý asks to be able to sit on aisle seat and leave earlier to catch the train. How many options are there for deploying students if the examiner wants to meet Brahý's request?\n",
    " \n",
    "- How many opportunities are there to organize the students if Pažout and Horáček are not allowed to sit next to each other?\n",
    " \n"
   ]
  },
  {
   "cell_type": "code",
   "execution_count": null,
   "metadata": {
    "vscode": {
     "languageId": "r"
    }
   },
   "outputs": [],
   "source": [
    "# a\n",
    "permutation(12)\n",
    "# b\n",
    "1*permutation(11)+permutation(11)*1\n",
    "# c\n",
    "together=permutation(11)+permutation(11)\n",
    "permutation(12)-together"
   ]
  },
  {
   "cell_type": "markdown",
   "metadata": {},
   "source": [
    "## Example 13.\n",
    " \n",
    "How many anagrams can be created from the word STATISTICS?\n",
    " \n"
   ]
  },
  {
   "cell_type": "code",
   "execution_count": null,
   "metadata": {
    "vscode": {
     "languageId": "r"
    }
   },
   "outputs": [],
   "source": [
    "# 3S,3T,1A,2I,1C  \n",
    "STATISTICS=c(3,3,1,2,1)\n",
    "permutation_repetition(STATISTICS)"
   ]
  },
  {
   "cell_type": "markdown",
   "metadata": {},
   "source": [
    "## Example 14.\n",
    " \n",
    "They got new goods in Tesco - boys' T-shirt in 6 different colors. They have at least 7 pieces of each color. The mother wants to buy 4 T-shirts for her son. How many options are there to choose from\n",
    " \n",
    "- if they have to be all to be different?\n",
    " \n",
    "- if they can all be the same?\n",
    " \n"
   ]
  },
  {
   "cell_type": "code",
   "execution_count": null,
   "metadata": {
    "vscode": {
     "languageId": "r"
    }
   },
   "outputs": [],
   "source": [
    "# a\n",
    "combinations(6,4)\n",
    "# b\n",
    "combinations_repetition(6,4)"
   ]
  },
  {
   "cell_type": "markdown",
   "metadata": {},
   "source": [
    "## Example 15.\n",
    " \n",
    "How many passwords of length 5 can we create from alphabetic characters\n",
    " \n",
    "- if case insensitive?\n",
    " \n",
    "- if case sensitive?\n",
    " \n"
   ]
  },
  {
   "cell_type": "code",
   "execution_count": null,
   "metadata": {
    "vscode": {
     "languageId": "r"
    }
   },
   "outputs": [],
   "source": [
    "# a\n",
    "r_permutation_repetition(26,5)\n",
    "# b\n",
    "r_permutation_repetition(52,5)"
   ]
  },
  {
   "cell_type": "code",
   "execution_count": null,
   "metadata": {
    "vscode": {
     "languageId": "r"
    }
   },
   "outputs": [],
   "source": []
  },
  {
   "cell_type": "markdown",
   "metadata": {},
   "source": [
    "# Bonus Exercise tasks\n",
    " \n",
    "## Bonus Example 1.\n",
    " \n",
    "Which password is more secure?\n",
    " \n",
    "* An eight-character password consisting of numbers only.\n",
    " \n",
    "* A five-character password composed only of letters of the English alphabet.\n",
    " \n"
   ]
  },
  {
   "cell_type": "code",
   "execution_count": null,
   "metadata": {
    "vscode": {
     "languageId": "r"
    }
   },
   "outputs": [],
   "source": [
    "# password 1\n",
    "h1 = r_permutation_repetition(n = 10, k = 8)\n",
    "# password 2\n",
    "h2 = r_permutation_repetition(n = 26, k = 5)\n",
    "h1/h2"
   ]
  },
  {
   "cell_type": "markdown",
   "metadata": {},
   "source": [
    "## Bonus Example 2.\n",
    " \n",
    "How long would it take to solve a business traveler's problem for n=10 cities by brute force if the evaluation of the length of each of the possible journeys takes 1 µs?\n",
    " \n"
   ]
  },
  {
   "cell_type": "code",
   "execution_count": null,
   "metadata": {
    "vscode": {
     "languageId": "r"
    }
   },
   "outputs": [],
   "source": [
    "n = 10\n",
    "count = permutation(n-1)/2\n",
    "time = count/1000000\n",
    "time"
   ]
  },
  {
   "cell_type": "markdown",
   "metadata": {},
   "source": [
    "## Bonus Example 3.\n",
    " \n",
    "How to divide the booty between 2 robbers to get both items of the same value(or as close as possible). I.e. can I divide N numbers into two groups so that the sum of the numbers in each group is the same?\n",
    " \n",
    "**How many options would have to be tried if we solved the problem with brute force?**\n",
    " \n"
   ]
  },
  {
   "cell_type": "code",
   "execution_count": null,
   "metadata": {
    "vscode": {
     "languageId": "r"
    }
   },
   "outputs": [],
   "source": [
    "N = 10\n",
    "L = 4\n",
    "r_permutation_repetition(n = L, k = N)"
   ]
  },
  {
   "cell_type": "markdown",
   "metadata": {},
   "source": [
    "## Bonus Example 4.\n",
    " \n",
    "How many anagrams of the word \"AUTO\" can we create? How many anagrams of the word \"AUTOMOBILKA\" can we create? How many of them start with \"K\"?\n",
    " \n"
   ]
  },
  {
   "cell_type": "code",
   "execution_count": null,
   "metadata": {
    "vscode": {
     "languageId": "r"
    }
   },
   "outputs": [],
   "source": [
    "permutation(4)\n",
    "vec = c(2,1,1,2,1,1,1,1,1)\n",
    "sum(vec)\n",
    "permutation_repetition(vec)\n",
    "\n",
    "vec = c(2,1,1,2,1,1,1,1)\n",
    "sum(vec)\n",
    "permutation_repetition(vec)"
   ]
  },
  {
   "cell_type": "markdown",
   "metadata": {},
   "source": [
    "## Bonus Example 5.\n",
    " \n",
    "They have 6 types of colored cups in the shop.\n",
    " \n",
    "- How many different ways can we buy 4 different-colored mugs?\n",
    " \n",
    "- How many different options can we buy 5 cups(if we don't mind more of the same color)?\n",
    " \n",
    "- How will the situation change if they have only 4 pieces of each(and we don't mind more of the same color)?\n",
    " \n"
   ]
  },
  {
   "cell_type": "code",
   "execution_count": null,
   "metadata": {
    "vscode": {
     "languageId": "r"
    }
   },
   "outputs": [],
   "source": [
    "combinations(6,4)\n",
    "combinations_repetition(6,5)\n",
    "combinations_repetition(6,5) - 6"
   ]
  },
  {
   "cell_type": "markdown",
   "metadata": {},
   "source": [
    "## Bonus Example 6.\n",
    " \n",
    "There are 5 different pairs of socks in the package (the left and right socks are always the same).\n",
    " \n",
    "- How many different pairs of socks can be chosen?\n",
    " \n",
    "- How many different ways can I wear it? (i.e. it is important what sock is on which leg)\n",
    " \n"
   ]
  },
  {
   "cell_type": "code",
   "execution_count": null,
   "metadata": {
    "vscode": {
     "languageId": "r"
    }
   },
   "outputs": [],
   "source": [
    "combinations_repetition(n = 5,k = 2)\n",
    "r_permutation_repetition(n=5,k=2)\n",
    "combinations_repetition(n = 5,k = 2)*2 - 5"
   ]
  },
  {
   "cell_type": "markdown",
   "metadata": {},
   "source": [
    "## Bonus Example 7.\n",
    " \n",
    "I have 12 weights weighing 1,2,..., 12 kg.\n",
    " \n",
    "- How many ways can I divide them into 2 piles?\n",
    " \n",
    "- How many ways can I divide them into 3 piles?\n",
    " \n",
    "- How many ways can I divide them into 3 piles if they all have the same number of weights?\n",
    " \n",
    "- How many ways can I divide them into 3 piles of the same number of weights, if the weight of none of the pile can exceed 40 kg?\n",
    " \n"
   ]
  },
  {
   "cell_type": "code",
   "execution_count": null,
   "metadata": {
    "vscode": {
     "languageId": "r"
    }
   },
   "outputs": [],
   "source": [
    "r_permutation_repetition(2,12)\n",
    "r_permutation_repetition(3,12)\n",
    "(r_permutation_repetition(3,12)-3)/permutation(3)+1\n",
    "(r_permutation_repetition(3,12)-(r_permutation_repetition(2,12)-2)*3-3)/permutation(3)\n",
    "combinations(12,4)*combinations(8,4)/permutation(3)\n",
    "permutation(12)/(permutation(4)*permutation(4)*permutation(4)*permutation(3))\n",
    "combinations(12,4)*combinations(8,4)/permutation(3)-combinations(8,4)"
   ]
  },
  {
   "cell_type": "markdown",
   "metadata": {},
   "source": [
    "## Bonus Example 8.\n",
    " \n",
    "I have 20 seeds from each of the three vegetables(carrots, radishes, celery). Unfortunately, they are mixed up and unrecognizable from each other.\n",
    " \n",
    "- I will plant 5 random seeds in the box. What is the probability that there will be at least three radishes among them?\n",
    " \n",
    "- I'll plant 5 random seeds in the box. What is the probability that there will be more carrots than celery among them?\n",
    " \n"
   ]
  },
  {
   "cell_type": "code",
   "execution_count": null,
   "metadata": {
    "vscode": {
     "languageId": "r"
    }
   },
   "outputs": [],
   "source": [
    "(combinations(20,3)*combinations(40,2)+combinations(20,4)*combinations(40,1)+combinations(20,5))/combinations(60,5)"
   ]
  }
 ],
 "metadata": {
  "kernelspec": {
   "display_name": "R",
   "language": "R",
   "name": "ir"
  },
  "language_info": {
   "codemirror_mode": "r",
   "file_extension": ".r",
   "mimetype": "text/x-r-source",
   "name": "R",
   "pygments_lexer": "r",
   "version": "4.3.2"
  }
 },
 "nbformat": 4,
 "nbformat_minor": 4
}
