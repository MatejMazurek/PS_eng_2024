{
 "cells": [
  {
   "cell_type": "markdown",
   "id": "advisory-spell",
   "metadata": {},
   "source": [
    "# Exercise 11. Two-sample tests/Interval estimates \n",
    "## Michal Béreš, Martina Litschmannová"
   ]
  },
  {
   "cell_type": "markdown",
   "id": "selective-framework",
   "metadata": {},
   "source": [
    "# Overview of confidence intervals and hypothesis tests and their constructions\n",
    " \n",
    "## Two columns of data - pairs/independent\n",
    " \n",
    "- Paired data indicates data that are taken as two measurements of the same entities -> data columns are dependent.\n",
    "     - For paired data, we calculate the difference between the columns(or another function according to the input) and use one-sample tests for this difference.\n",
    "\n",
    "- If there is no dependency between values in the two columns the data are independent. \n",
    "    - Two-sample test is needed"
   ]
  },
  {
   "cell_type": "markdown",
   "id": "white-campbell",
   "metadata": {},
   "source": [
    "### Examples of paired data:\n",
    " \n",
    "- measuring bulbs at two different temperatures(if each piece is measured twice - at temperature 1 and temperature 2)\n",
    " \n",
    "- be careful here, it can happen that the tests are eg. destructive and it is not possible to measure twice the same entity(product). Then we would consider two independent selections, each for one type of measurement -> independent data columns -> two-sample tests\n",
    " \n",
    "- measurement of the patient's blood values before and after drug administration\n",
    " \n",
    "- again pay attention to, for example, drug testing in two groups(placebo/real drug) ->two independent groups -> two-sample tests"
   ]
  },
  {
   "cell_type": "markdown",
   "id": "smooth-serve",
   "metadata": {},
   "source": [
    "## In general for two-sample tests/CI\n",
    " \n",
    "- the test is always tied to the appropriate CI -> same conditions of use\n",
    " \n",
    "- if the test has conditions of use(eg: normality of data, symmetry of data) then this condition must be met **for both data columns**, if at least one does not meet, we consider the assumption to be broken\n",
    " \n",
    "- one of the very important assumptions is data independence\n",
    " \n",
    "- eg: measurement of products of manufacturer A and products of manufacturer B - here it is reasonable to assume that the products of manufacturer A are separate entities from the products of manufacturer B"
   ]
  },
  {
   "cell_type": "markdown",
   "id": "brutal-doctor",
   "metadata": {},
   "source": [
    "## Two-sample tests/IO - difference of position measures\n",
    " \n"
   ]
  },
  {
   "cell_type": "code",
   "execution_count": null,
   "id": "disabled-cheat",
   "metadata": {},
   "outputs": [],
   "source": [
    "# we create test data\n",
    "data1 = rnorm(n = 30, mean = 105, sd = 10)\n",
    "data2 = rnorm(n = 30, mean = 100, sd = 10)\n",
    "boxplot(data1,data2)"
   ]
  },
  {
   "cell_type": "markdown",
   "id": "informational-structure",
   "metadata": {},
   "source": [
    "### Two-sample Student's t-test\n",
    " \n",
    "- Tests/estimates difference of means: $H_0: \\mu_{1} - \\mu_{2} = a$\n",
    "- requirements:\n",
    "    - Data normality\n",
    "    - Homoskedasticity(scatter matching)\n",
    "    - independence of selections\n",
    "- the function must have the parameter var.equal=TRUE"
   ]
  },
  {
   "cell_type": "code",
   "execution_count": null,
   "id": "hollywood-wedding",
   "metadata": {},
   "outputs": [],
   "source": [
    "# H0: mu1 - mu2=2\n",
    "# HA: mu1 - mu2!=2\n",
    "\n",
    "t.test(x = data1, y = data2, mu = 2, alternative = \"two.sided\",\n",
    "       var.equal = TRUE, conf.level = 0.95)"
   ]
  },
  {
   "cell_type": "code",
   "execution_count": null,
   "id": "legislative-inclusion",
   "metadata": {},
   "outputs": [],
   "source": [
    "# H0: mu1 - mu2=2\n",
    "# HA: mu1 - mu2>2\n",
    "\n",
    "t.test(x = data1, y = data2, mu = 2, alternative = \"greater\",\n",
    "       var.equal = TRUE, conf.level = 0.95)"
   ]
  },
  {
   "cell_type": "code",
   "execution_count": null,
   "id": "artistic-poster",
   "metadata": {},
   "outputs": [],
   "source": [
    "# H0: mu1 - mu2=2\n",
    "# HA: mu1 - mu2<2\n",
    "\n",
    "t.test(x = data1, y = data2, mu = 2, alternative = \"less\",\n",
    "       var.equal = TRUE, conf.level = 0.95)"
   ]
  },
  {
   "cell_type": "markdown",
   "id": "substantial-method",
   "metadata": {},
   "source": [
    "### Aspin-Welsh test\n",
    " \n",
    "- Tests/estimates the difference of means: $H_0: \\mu_{1} - \\mu_{2} = a$\n",
    "- requirements:\n",
    "    - Data normality\n",
    "    - independence of selections\n",
    "- the function must have the parameter var.equal=FALSE"
   ]
  },
  {
   "cell_type": "code",
   "execution_count": null,
   "id": "verified-absolute",
   "metadata": {},
   "outputs": [],
   "source": [
    "# H0: mu1 - mu2=2\n",
    "# HA: mu1 - mu2!=2\n",
    "\n",
    "t.test(x = data1, y = data2, mu = 2, alternative = \"two.sided\",\n",
    "       var.equal = FALSE, conf.level = 0.95)"
   ]
  },
  {
   "cell_type": "code",
   "execution_count": null,
   "id": "handed-configuration",
   "metadata": {},
   "outputs": [],
   "source": [
    "# H0: mu1 - mu2=2\n",
    "# HA: mu1 - mu2>2\n",
    "\n",
    "t.test(x = data1, y = data2, mu = 0, alternative = \"greater\",\n",
    "       var.equal = FALSE, conf.level = 0.95)"
   ]
  },
  {
   "cell_type": "code",
   "execution_count": null,
   "id": "elect-driver",
   "metadata": {},
   "outputs": [],
   "source": [
    "# H0: mu1 - mu2=2\n",
    "# HA: mu1 - mu2<2\n",
    "\n",
    "t.test(x = data1, y = data2, mu = 0, alternative = \"less\",\n",
    "       var.equal = FALSE, conf.level = 0.95)"
   ]
  },
  {
   "cell_type": "markdown",
   "id": "fluid-liver",
   "metadata": {},
   "source": [
    "### Mann-Whitney test\n",
    " \n",
    "- Tests/estimates difference of medians: $H_0: X_{0.5,1} - X_{0.5,2} = a$\n",
    "- requirements:\n",
    "    - independence of selections\n",
    "    - (same shape of the distribution)\n",
    "- requires conf.int=TRUE, to calculate CI"
   ]
  },
  {
   "cell_type": "code",
   "execution_count": null,
   "id": "optimum-python",
   "metadata": {},
   "outputs": [],
   "source": [
    "# H0: X0.5,1 - X0.5,2=2\n",
    "# HA: X0.5,1 - X0.5,2!=2\n",
    "\n",
    "wilcox.test(x = data1, y = data2, mu = 2, alternative = \"two.sided\",\n",
    "            conf.level=0.95, conf.int = TRUE)"
   ]
  },
  {
   "cell_type": "code",
   "execution_count": null,
   "id": "physical-macintosh",
   "metadata": {},
   "outputs": [],
   "source": [
    "# H0: X0.5,1 - X0.5,2=2\n",
    "# HA: X0.5,1 - X0.5,2>2\n",
    "\n",
    "wilcox.test(x = data1, y = data2, mu = 2, alternative = \"greater\",\n",
    "            conf.level=0.95, conf.int = TRUE)"
   ]
  },
  {
   "cell_type": "code",
   "execution_count": null,
   "id": "neural-cooling",
   "metadata": {},
   "outputs": [],
   "source": [
    "# H0: X0.5,1 - X0.5,2=2\n",
    "# HA: X0.5,1 - X0.5,2<2\n",
    "\n",
    "wilcox.test(x = data1, y = data2, mu = 2, alternative = \"less\",\n",
    "            conf.level=0.95, conf.int = TRUE)"
   ]
  },
  {
   "cell_type": "markdown",
   "id": "phantom-interview",
   "metadata": {},
   "source": [
    "## Two-sample tests/CI - proportion of variances\n",
    " \n",
    "### F-test\n",
    " \n",
    "- Tests/estimates the ratio of variances: $H_0: \\sigma^2_{1} / \\sigma^2_{2} = a$\n",
    "- requirements:\n",
    "    - data normality\n",
    "    - independence of selections"
   ]
  },
  {
   "cell_type": "code",
   "execution_count": null,
   "id": "artificial-dependence",
   "metadata": {},
   "outputs": [],
   "source": [
    "# H0: sigma1 ^ 2/sigma2 ^ 2=1\n",
    "# H0: sigma1 ^ 2/sigma2 ^ 2!=1\n",
    "\n",
    "var.test(x = data1, y = data2, ratio = 1, alternative = \"two.sided\",\n",
    "         conf.level = 0.95)"
   ]
  },
  {
   "cell_type": "code",
   "execution_count": null,
   "id": "baking-capacity",
   "metadata": {},
   "outputs": [],
   "source": [
    "# H0: sigma1 ^ 2/sigma2 ^ 2=1\n",
    "# H0: sigma1 ^ 2/sigma2 ^ 2>1\n",
    "\n",
    "var.test(x = data1, y = data2, ratio = 1, alternative = \"greater\",\n",
    "         conf.level = 0.95)"
   ]
  },
  {
   "cell_type": "code",
   "execution_count": null,
   "id": "brazilian-titanium",
   "metadata": {},
   "outputs": [],
   "source": [
    "# H0: sigma1 ^ 2/sigma2 ^ 2=1\n",
    "# H0: sigma1 ^ 2/sigma2 ^ 2<1\n",
    "\n",
    "var.test(x = data1, y = data2, ratio = 1, alternative = \"less\",\n",
    "         conf.level = 0.95)"
   ]
  },
  {
   "cell_type": "markdown",
   "id": "enormous-crazy",
   "metadata": {},
   "source": [
    "### Levene's test\n",
    " \n",
    "- Tests equality of variances: $H_0: \\sigma^2_{1} = \\sigma^2_{2}$!\n",
    "- requirements:\n",
    "    - independence of selections\n",
    "- requires data in standard data format \n",
    "- leveneTest function in the car package"
   ]
  },
  {
   "cell_type": "code",
   "execution_count": null,
   "id": "naked-precipitation",
   "metadata": {},
   "outputs": [],
   "source": [
    "# we produce data in a standard data format\n",
    "\n",
    "data1.df = as.data.frame(data1)\n",
    "data1.df$typ = \"d1\"\n",
    "colnames(data1.df) = c(\"data\", \"typ\")\n",
    "\n",
    "data2.df = as.data.frame(data2)\n",
    "data2.df$typ = \"d2\"\n",
    "colnames(data2.df) = c(\"data\", \"typ\")\n",
    "\n",
    "data = rbind(data1.df, data2.df)\n",
    "data$typ = as.factor(data$typ)\n",
    "\n",
    "head(data)"
   ]
  },
  {
   "cell_type": "code",
   "execution_count": null,
   "id": "judicial-peoples",
   "metadata": {},
   "outputs": [],
   "source": [
    "# install.packages(\"car\")\n",
    "\n",
    "# H0: sigma1 ^ 2=sigma2 ^ 2\n",
    "# HA: sigma1 ^ 2!=Sigma2 ^ 2\n",
    "\n",
    "car::leveneTest(data$data ~ data$typ)"
   ]
  },
  {
   "cell_type": "markdown",
   "id": "existing-reasoning",
   "metadata": {},
   "source": [
    "## Two-sample tests/CI - difference of probabilities\n",
    " \n",
    "### Test of parameter of two binomial distributions\n",
    " \n",
    "- Tests if the probability matches: $H_0: \\pi_{1} - \\pi_{2} = 0$\n",
    "- requirements:\n",
    "    - sufficient selection size: $n_i>\\frac{9}{p_i(1-p_i)}$\n",
    "    - independence of selections"
   ]
  },
  {
   "cell_type": "code",
   "execution_count": null,
   "id": "casual-thong",
   "metadata": {},
   "outputs": [],
   "source": [
    "# we will produce suitable data\n",
    "pi1 = 0.4\n",
    "pi2 = 0.3\n",
    "\n",
    "dp1 = runif(n = 100, min = 0, max = 1) < pi1\n",
    "dp2 = runif(n = 130, min = 0, max = 1) < pi2\n",
    "\n",
    "x1 = sum(dp1)\n",
    "n1 = length(dp1)\n",
    "\n",
    "x2 = sum(dp2)\n",
    "n2 = length(dp2)\n",
    "\n",
    "x1\n",
    "n1\n",
    "x2\n",
    "n2"
   ]
  },
  {
   "cell_type": "code",
   "execution_count": null,
   "id": "chubby-arctic",
   "metadata": {},
   "outputs": [],
   "source": [
    "# H0: pi1 - pi2=0\n",
    "# HA: pi1 - pi2!=0\n",
    "\n",
    "prop.test(x = c(x1, x2), n = c(n1, n2), alternative=\"two.sided\",\n",
    "          conf.level=0.95)"
   ]
  },
  {
   "cell_type": "code",
   "execution_count": null,
   "id": "saving-foundation",
   "metadata": {},
   "outputs": [],
   "source": [
    "# H0: pi1 - pi2=0\n",
    "# HA: pi1 - pi2>0\n",
    "\n",
    "prop.test(x = c(x1, x2), n = c(n1, n2), alternative=\"greater\",\n",
    "          conf.level=0.95)"
   ]
  },
  {
   "cell_type": "code",
   "execution_count": null,
   "id": "turned-brown",
   "metadata": {},
   "outputs": [],
   "source": [
    "# H0: pi1 - pi2=0\n",
    "# HA: pi1 - pi2<0\n",
    "\n",
    "prop.test(x = c(x1, x2), n = c(n1, n2), alternative=\"less\",\n",
    "          conf.level=0.95)"
   ]
  },
  {
   "cell_type": "markdown",
   "id": "d5018c19-4042-4f38-8edd-8d0aa093627a",
   "metadata": {},
   "source": [
    "# Examples"
   ]
  },
  {
   "cell_type": "code",
   "execution_count": null,
   "id": "e864510e-a55a-4f2d-ad4b-4698ba6b0972",
   "metadata": {},
   "outputs": [],
   "source": [
    "library(dplyr)\n",
    "library(rstatix)"
   ]
  },
  {
   "cell_type": "markdown",
   "id": "daee13b2-d2ca-405e-bf2c-bfcd4de68ab6",
   "metadata": {},
   "source": [
    " \n",
    "## Example 1.\n",
    " \n",
    "Data in the cholesterol2.xls file indicate the blood cholesterol level of men of two different age groups(20-30 years and 40-50 years). Verify at the significance level 0.05 the hypothesis that the cholesterol level in the blood of older men does not differ from the cholesterol level in the blood of younger men."
   ]
  },
  {
   "cell_type": "code",
   "execution_count": null,
   "id": "healthy-vanilla",
   "metadata": {},
   "outputs": [],
   "source": [
    "# Load data\n",
    "chol = readxl::read_excel(\"data/testy_dvouvyberove.xlsx\",\n",
    "                  sheet = \"cholesterol2\",\n",
    "                  skip = 1)   \n",
    "colnames(chol)=c(\"young\",\"old\")\n",
    "head(chol)"
   ]
  },
  {
   "cell_type": "code",
   "execution_count": null,
   "id": "hungarian-calculator",
   "metadata": {},
   "outputs": [],
   "source": [
    "# Convert to standard data format\n",
    "chol.s = stack(chol)\n",
    "chol.s = na.omit(chol.s)\n",
    "colnames(chol.s) = c (\"values\",\"group\")\n",
    "head(chol.s)"
   ]
  },
  {
   "cell_type": "code",
   "execution_count": null,
   "id": "upset-narrative",
   "metadata": {},
   "outputs": [],
   "source": [
    "# Exploratory analysis\n",
    "boxplot(chol.s$values ~ chol.s$group)"
   ]
  },
  {
   "cell_type": "code",
   "execution_count": null,
   "id": "3f51ac8d-2da0-4667-a885-3f73307e8e5d",
   "metadata": {},
   "outputs": [],
   "source": [
    "# Elimination of outliars:\n",
    "chol.s$id = seq(1,length(chol.s$values))\n",
    "\n",
    "outliars = chol.s %>% group_by(group) %>% identify_outliers(values)\n",
    "outliars"
   ]
  },
  {
   "cell_type": "code",
   "execution_count": null,
   "id": "4dbaad23-988d-474c-9eb5-30115f3efc04",
   "metadata": {},
   "outputs": [],
   "source": [
    "chol.s$values_cleared = ifelse(chol.s$id %in% outliars$id, NA, chol.s$values)"
   ]
  },
  {
   "cell_type": "code",
   "execution_count": null,
   "id": "c1fa5bd5-e218-4475-9cbd-a1aac37bb3a8",
   "metadata": {},
   "outputs": [],
   "source": [
    "boxplot(chol.s$values_cleared~chol.s$group)\n",
    "\n",
    "# be careful in the data we have NA\n",
    "# eg for length determination"
   ]
  },
  {
   "cell_type": "code",
   "execution_count": null,
   "id": "upper-underground",
   "metadata": {},
   "outputs": [],
   "source": [
    "chol.s %>%  group_by(group) %>% \n",
    "            summarise(count = sum(!is.na(values_cleared)),\n",
    "                      mean = mean(values_cleared, na.rm = TRUE), \n",
    "                      std = sd(values_cleared, na.rm = TRUE))\n",
    "\n",
    "# rounding ->3 valid digits ->according to sd to thousands\n"
   ]
  },
  {
   "cell_type": "markdown",
   "id": "polar-alcohol",
   "metadata": {},
   "source": [
    "**Difference of Mean/median test**"
   ]
  },
  {
   "cell_type": "code",
   "execution_count": null,
   "id": "mediterranean-jones",
   "metadata": {},
   "outputs": [],
   "source": [
    "# Verification of normality\n",
    "chol.s %>%  group_by(group) %>% \n",
    "            summarise(norm.pval = shapiro.test(values_cleared)$p.value)\n",
    "\n",
    "# normality at significance 0.05 OK\n"
   ]
  },
  {
   "cell_type": "code",
   "execution_count": null,
   "id": "north-baptist",
   "metadata": {},
   "outputs": [],
   "source": [
    "# Exactly by F-test\n",
    "\n",
    "# H0: sigma.old=sigma.young\n",
    "# Ha: sigma.old<>sigma.young\n",
    "\n",
    "# I select the required data\n",
    "young = chol.s$values_cleared[chol.s$group == \"young\"]\n",
    "old = chol.s$values_cleared[chol.s$group == \"old\"]\n",
    "\n",
    "var.test(x = young, y = old, ratio = 1, conf.level=0.95)\n",
    "\n",
    "# at. significance 0.05 we reject the assumption of same variances\n",
    "# The observed discrepancy between the variances is significant at the significance level of 0.05\n",
    "# Mark as statistically significant.\n"
   ]
  },
  {
   "cell_type": "code",
   "execution_count": null,
   "id": "activated-guinea",
   "metadata": {},
   "outputs": [],
   "source": [
    "# Verification of same mean values(Aspin-Welch test)\n",
    "\n",
    "# H0: mu.old - mu.young=0\n",
    "# Ha: mu.old - mu.young!=0\n",
    "\n",
    "t.test(x = old, y = young, mu = 0, \n",
    "       alternative = \"two.sided\", var.equal=FALSE, conf.level=0.95)\n",
    "\n",
    "# in hl. significance 0.05 we reject H0->there is a stat. significant difference.\n"
   ]
  },
  {
   "cell_type": "code",
   "execution_count": null,
   "id": "accurate-foster",
   "metadata": {},
   "outputs": [],
   "source": [
    "# H0: mu.old=mu.young\n",
    "# Ha: mu.old>mu.young\n",
    "\n",
    "t.test(x = old, y = young, mu = 0, alternative = \"greater\",\n",
    "       var.equal = FALSE, conf.level = 0.95)"
   ]
  },
  {
   "cell_type": "markdown",
   "id": "necessary-treasury",
   "metadata": {},
   "source": [
    "## Example 2.\n",
    " \n",
    "The data in the depression.xls file represent the length of remission in days from a simple random selection of two different groups of patients(patients with endogenous depression and patients with neurotic depression). Verify that the observed difference in mean remission length in these two groups of patients is statistically significant.\n",
    " \n"
   ]
  },
  {
   "cell_type": "code",
   "execution_count": null,
   "id": "coated-shade",
   "metadata": {},
   "outputs": [],
   "source": [
    "# Read data from xlsx file(using readxl package)\n",
    "deprese = readxl::read_excel(\"data/testy_dvouvyberove.xlsx\",\n",
    "                     sheet = \"deprese\")   \n",
    "colnames(deprese)=c(\"endo\",\"neuro\")\n",
    "\n",
    "head(deprese)"
   ]
  },
  {
   "cell_type": "code",
   "execution_count": null,
   "id": "persistent-cholesterol",
   "metadata": {},
   "outputs": [],
   "source": [
    "# Conversion to standard data format\n",
    "deprese.s = stack(deprese)\n",
    "deprese.s = na.omit(deprese.s)\n",
    "colnames(deprese.s) = c (\"values\",\"group\")\n",
    "\n",
    "head(deprese.s)"
   ]
  },
  {
   "cell_type": "code",
   "execution_count": null,
   "id": "dental-piano",
   "metadata": {},
   "outputs": [],
   "source": [
    "# Exploratory analysis\n",
    "boxplot(deprese.s$values~deprese.s$group)\n",
    "\n",
    "# Data does not contain outliers\n"
   ]
  },
  {
   "cell_type": "code",
   "execution_count": null,
   "id": "abroad-exercise",
   "metadata": {},
   "outputs": [],
   "source": [
    "library(dplyr)\n",
    "\n",
    "deprese.s %>%  group_by(group) %>% \n",
    "                summarise(count = length(values),\n",
    "                          mean = mean(values), \n",
    "                          std = sd(values))\n",
    "\n",
    "# rounding ->3 valid digits ->according to sd\n"
   ]
  },
  {
   "cell_type": "markdown",
   "id": "norman-slovak",
   "metadata": {},
   "source": [
    "**Diference of Mean/median test**\n",
    " \n"
   ]
  },
  {
   "cell_type": "code",
   "execution_count": null,
   "id": "explicit-baseball",
   "metadata": {},
   "outputs": [],
   "source": [
    "# Normality verification\n",
    "# We assume the assumption of normality by the Shapir - Wilk test.\n",
    "deprese.s %>%  group_by(group) %>% \n",
    "                summarise(norm.pval = shapiro.test(values)$p.value)\n",
    "\n",
    "\n",
    "# at significance 0.05, we reject the assumption of normality\n"
   ]
  },
  {
   "cell_type": "code",
   "execution_count": null,
   "id": "large-parcel",
   "metadata": {},
   "outputs": [],
   "source": [
    "# at least as a guide, we check the similarity of the distribution\n",
    "\n",
    "# we choose data for easier processing\n",
    "\n",
    "neuro = deprese.s$values[deprese.s$group == \"neuro\"]\n",
    "endo = deprese.s$values[deprese.s$group == \"endo\"]\n",
    "\n",
    "\n",
    "par(mfrow = c(1,2))\n",
    "hist(neuro)\n",
    "hist(endo)"
   ]
  },
  {
   "cell_type": "code",
   "execution_count": null,
   "id": "cosmetic-scenario",
   "metadata": {},
   "outputs": [],
   "source": [
    "# Difference of median (Mann-Whitney test)\n",
    "\n",
    "# According to the histograms, we assume that the data have the same type of distribution.\n",
    "\n",
    "# H0: med.neuro=med.endo(med.neuro - med.endo=0)\n",
    "# Ha: med.neuro!=Med.endo(med.neuro - med.endo!=0)\n",
    "\n",
    "wilcox.test(x = neuro, y = endo, mu = 0, alternative = \"two.sided\",\n",
    "            conf.level=0.95, conf.int = TRUE)\n",
    "\n",
    "# at significance 0.05 we reject H0->there is a stat. significant difference\n"
   ]
  },
  {
   "cell_type": "code",
   "execution_count": null,
   "id": "correct-connectivity",
   "metadata": {},
   "outputs": [],
   "source": [
    "# H0: med.neuro=med.endo(med.neuro - med.endo=0)\n",
    "# Ha: med.neuro>med.endo(med.neuro - med.endo>0)\n",
    "\n",
    "wilcox.test(x = neuro, y = endo, mu = 0, alternative = \"greater\",\n",
    "            conf.level=0.95, conf.int = TRUE)"
   ]
  },
  {
   "cell_type": "markdown",
   "id": "optional-possession",
   "metadata": {},
   "source": [
    "## Example 3.\n",
    " \n",
    "We monitor urine osmolality at the patient station at 08:00 and 11:00 for 16 men. Based on the results in the osmolality.xls file, verify that the osmolality has increased statistically significantly.\n",
    " \n"
   ]
  },
  {
   "cell_type": "code",
   "execution_count": null,
   "id": "freelance-washer",
   "metadata": {},
   "outputs": [],
   "source": [
    "# Load data\n",
    "osmolalita = readxl::read_excel(\"data/testy_dvouvyberove.xlsx\",\n",
    "                        sheet = \"osmolalita\", skip = 1)  \n",
    "osmolalita = osmolalita[,c(2,3)]\n",
    "colnames(osmolalita)=c(\"o8\",\"o11\")\n",
    "head(osmolalita)"
   ]
  },
  {
   "cell_type": "code",
   "execution_count": null,
   "id": "comfortable-concert",
   "metadata": {},
   "outputs": [],
   "source": [
    "# Calculation of osmolality increase\n",
    "osmolalita$increase = osmolalita$o11 -  osmolalita$o8\n",
    "\n",
    "# Exploratory analysis\n",
    "par(mfrow = c(1,1))\n",
    "boxplot(osmolalita$increase)\n",
    "\n",
    "# Data contains outliars\n"
   ]
  },
  {
   "cell_type": "code",
   "execution_count": null,
   "id": "legal-mexico",
   "metadata": {},
   "outputs": [],
   "source": [
    "# Elimination of outliars:\n",
    "osmolalita$id = seq(1,length(osmolalita$increase))\n",
    "\n",
    "outliars = osmolalita %>% identify_outliers(increase)\n",
    "outliars\n",
    "osmolalita$increase_cleared = ifelse(osmolalita$id %in% outliars$id, NA, osmolalita$increase)\n",
    "\n",
    "boxplot(osmolalita$increase_cleared)"
   ]
  },
  {
   "cell_type": "code",
   "execution_count": null,
   "id": "medium-league",
   "metadata": {},
   "outputs": [],
   "source": [
    "# Exploratory analysis for data without outliars\n",
    "library(dplyr)\n",
    "\n",
    "osmolalita %>% summarise(count = sum(!is.na(increase_cleared)),\n",
    "                         mean = mean(increase_cleared, na.rm = TRUE), \n",
    "                         std = sd(increase_cleared, na.rm = TRUE))\n",
    "\n",
    "# rounding ->2 valid digits ->according to sd per unit\n"
   ]
  },
  {
   "cell_type": "code",
   "execution_count": null,
   "id": "expanded-surface",
   "metadata": {},
   "outputs": [],
   "source": [
    "# Verification of normality\n",
    "# The presumption of normality is verified by the Shapir - Wilk test.\n",
    "shapiro.test(osmolalita$increase_cleared)"
   ]
  },
  {
   "cell_type": "code",
   "execution_count": null,
   "id": "crude-sample",
   "metadata": {},
   "outputs": [],
   "source": [
    "# Paired t-test\n",
    "# H0: mu.increase=0 mm\n",
    "# Ha: mu.increase>0 mm\n",
    "\n",
    "t.test(osmolalita$increase_cleared, mu = 0, alternative = \"greater\")"
   ]
  },
  {
   "cell_type": "markdown",
   "id": "attractive-finland",
   "metadata": {},
   "source": [
    "## Example 4.\n",
    " \n",
    "Semiconductor components of two manufacturers - MM and PP - were tested. MM claims that its products have a lower percentage of defective pieces. To verify this claim, 200 components were randomly selected from MM production, of which 14 were defective. A similar experiment was performed at PP with the result of 10 defective out of 100 randomly selected components.\n",
    " \n",
    "### a)\n",
    " \n",
    "Test MM's claim with a clean significance test.\n",
    " \n"
   ]
  },
  {
   "cell_type": "code",
   "execution_count": null,
   "id": "noticed-perry",
   "metadata": {},
   "outputs": [],
   "source": [
    "x.MM = 14\n",
    "n.MM = 200\n",
    "p.MM = x.MM/n.MM\n",
    "p.MM\n",
    "\n",
    "x.PP = 10\n",
    "n.PP = 100\n",
    "p.PP = x.PP/n.PP\n",
    "p.PP"
   ]
  },
  {
   "cell_type": "code",
   "execution_count": null,
   "id": "generous-stylus",
   "metadata": {},
   "outputs": [],
   "source": [
    "# Verification of assumptions\n",
    "9/(p.MM*(1-p.MM))\n",
    "9/(p.PP*(1-p.PP))"
   ]
  },
  {
   "cell_type": "code",
   "execution_count": null,
   "id": "gothic-tolerance",
   "metadata": {},
   "outputs": [],
   "source": [
    "# Pearson's X2 test\n",
    "# H0: pi.PP=pi.MM\n",
    "# Ha: pi.PP>pi.MM\n",
    "\n",
    "prop.test(x = c(x.PP,x.MM),n = c(n.PP,n.MM), alternative = \"greater\",\n",
    "          conf.level = 0.95)\n",
    "\n",
    "# at significance 0.05 we do not reject H0 - ie assumption.\n",
    "# identical error rates. Therefore, it cannot be said that MM has better production.\n"
   ]
  },
  {
   "cell_type": "code",
   "execution_count": null,
   "id": "dependent-concert",
   "metadata": {},
   "outputs": [],
   "source": [
    "# Pearson's X2 test\n",
    "# H0: pi.PP=pi.MM\n",
    "# Ha: pi.PP!=Pi.MM\n",
    "\n",
    "prop.test(x = c(x.PP,x.MM),n = c(n.PP,n.MM), alternative = \"two.sided\",\n",
    "          conf.level = 0.95)"
   ]
  },
  {
   "cell_type": "markdown",
   "id": "bridal-greensboro",
   "metadata": {},
   "source": [
    "### b)\n",
    " \n",
    "Test MM's statement using an interval estimate of a significance level of 0.05.\n",
    " \n"
   ]
  },
  {
   "cell_type": "code",
   "execution_count": null,
   "id": "instant-reach",
   "metadata": {},
   "outputs": [],
   "source": [
    "# Based on 95% Clopper - Pearson right - hand interval estimation\n",
    "# -0.036; 1,000) the observed difference in production quality can be described as\n",
    "# not statistically significant. We can reach the same conclusions on the basis of\n",
    "# Pearson's right-hand test\n",
    "prop.test(x = c(x.PP,x.MM),n = c(n.PP,n.MM), alternative = \"two.sided\",\n",
    "          conf.level = 0.95)"
   ]
  },
  {
   "cell_type": "code",
   "execution_count": null,
   "id": "6fb5b0cc-d428-4126-b746-44c739717006",
   "metadata": {},
   "outputs": [],
   "source": []
  }
 ],
 "metadata": {
  "kernelspec": {
   "display_name": "R",
   "language": "R",
   "name": "ir"
  },
  "language_info": {
   "codemirror_mode": "r",
   "file_extension": ".r",
   "mimetype": "text/x-r-source",
   "name": "R",
   "pygments_lexer": "r",
   "version": "4.1.3"
  }
 },
 "nbformat": 4,
 "nbformat_minor": 5
}
