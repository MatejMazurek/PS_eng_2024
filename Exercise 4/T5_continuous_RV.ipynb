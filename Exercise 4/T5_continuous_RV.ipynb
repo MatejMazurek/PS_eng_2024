{
 "cells": [
  {
   "cell_type": "markdown",
   "metadata": {},
   "source": [
    "# Exercise 4 - Continuous random variable\n",
    " \n",
    "## Martina Litschmannová, Adéla Vrtková, Michal Béreš\n",
    " \n"
   ]
  },
  {
   "cell_type": "markdown",
   "metadata": {},
   "source": [
    "**The content of this script is only as a supplementary illustration to the exercise, it is not necessary to know at the exam. It is important to be able to calculate manually.**\n",
    " \n",
    "## Numerical integration in R\n",
    " \n",
    "R function **integrate**<br>integrate(f, a, b)=$\\int_{a}^{b}f(x)dx$\n",
    " \n",
    "- **f** is a R function(defined by us) which has one input argument - a vector of values in which to return its values\n",
    " \n",
    "- **a** lower integration limit\n",
    " \n",
    "- **b** upper integration limit\n",
    " \n"
   ]
  },
  {
   "cell_type": "code",
   "execution_count": null,
   "metadata": {},
   "outputs": [],
   "source": [
    "f = function(x){return(x*x)} # x ^ 2\n",
    "a = -1\n",
    "b = 2\n",
    "integrate(f, a, b)"
   ]
  },
  {
   "cell_type": "code",
   "execution_count": null,
   "metadata": {},
   "outputs": [],
   "source": [
    "x = seq(0,10,0.1)"
   ]
  },
  {
   "cell_type": "code",
   "execution_count": null,
   "metadata": {},
   "outputs": [],
   "source": [
    "y=x*x/100\n",
    "plot(x,y)"
   ]
  },
  {
   "cell_type": "code",
   "execution_count": null,
   "metadata": {},
   "outputs": [],
   "source": [
    "(9*50-20^2)/9"
   ]
  },
  {
   "cell_type": "markdown",
   "metadata": {},
   "source": [
    "# Examples\n",
    " \n",
    "## Example 1.\n",
    " \n",
    "Random variable X has distribution function<br>$F(x)=\\begin{cases} 0    &      x \\leq 0 \\\\ cx^2 &  0 < x \\leq 1 \\\\ 1    &  1 < x \\end{cases}$<br>What values can the constant c take?\n",
    " \n"
   ]
  },
  {
   "cell_type": "code",
   "execution_count": null,
   "metadata": {},
   "outputs": [],
   "source": [
    "# derivative of F(x) is the density of density f(x)\n",
    "# corresponding probability density at interval<0.1>\n",
    "f = function(x){return(2*x)} # f(x)=2x\n",
    "a = 0\n",
    "b = 1\n",
    "integrate(f, a, b)$value"
   ]
  },
  {
   "cell_type": "code",
   "execution_count": null,
   "metadata": {},
   "outputs": [],
   "source": [
    "# c=1, so the distribution function looks like this:\n",
    "F.dist = function(x){\n",
    "    res = x*x     # x ^ 2\n",
    "    res[x<=0] = 0 # 0 for x<=0\n",
    "    res[x>1] = 1  # 1 for x>1\n",
    "    return(res)\n",
    "}"
   ]
  },
  {
   "cell_type": "code",
   "execution_count": null,
   "metadata": {},
   "outputs": [],
   "source": [
    "x = seq(from = -1, to = 2, by = 0.01) # points on the x-axis\n",
    "FX = F.dist(x) # values of F(x)\n",
    "plot(x, FX, type = 'l') # draw as a line\n"
   ]
  },
  {
   "cell_type": "markdown",
   "metadata": {},
   "source": [
    "## Example 2.\n",
    " \n",
    "The distribution of a random variable X is given by the density<br>$f(x)=\\begin{cases} 2x+2 & x \\in <-1;0> \\\\ 0    & x \\notin <-1;0> \\end{cases}$<br>Specify:\n",
    " \n",
    "### 2. a)\n",
    " \n",
    "$F(x)$,\n",
    " \n"
   ]
  },
  {
   "cell_type": "code",
   "execution_count": null,
   "metadata": {},
   "outputs": [],
   "source": [
    "f.dens = function(x){\n",
    "    res = 2*x + 2 \n",
    "    # watch out for x<-1 because '<-' is in the assignment line\n",
    "    res[x < -1] = 0 # 0 for x<=0\n",
    "    res[x > 0] = 0  # 1 for x>1\n",
    "    return(res)\n",
    "}"
   ]
  },
  {
   "cell_type": "code",
   "execution_count": null,
   "metadata": {},
   "outputs": [],
   "source": [
    "x = seq(from = -2, to = 1, by = 0.01) # points on the x-axis\n",
    "fx = f.dens(x) # values of f(x)\n",
    "plot(x, fx, cex=0.2) # draw dots(cex is the size)\n"
   ]
  },
  {
   "cell_type": "code",
   "execution_count": null,
   "metadata": {},
   "outputs": [],
   "source": [
    "F.dist = function(x){\n",
    "    res = x*x+2*x+1     # x ^ 2 + 2x + 1\n",
    "    res[x < -1] = 0 # 0 for x<=0\n",
    "    res[x > 0] = 1  # 1 for x>1\n",
    "    return(res)\n",
    "}"
   ]
  },
  {
   "cell_type": "code",
   "execution_count": null,
   "metadata": {},
   "outputs": [],
   "source": [
    "x = seq(from = -2, to = 1, by = 0.01) # points on the x-axis\n",
    "FX = F.dist(x) # values of f(x)\n",
    "plot(x, FX, type='l') # draw dots(cex is the size)\n"
   ]
  },
  {
   "cell_type": "markdown",
   "metadata": {},
   "source": [
    "### 2. b)\n",
    " \n",
    "P(−2 ≤ X ≤ 0.5), P(−2 ≤ X ≤ −1), P(X>0.5), P(X=0.3)\n",
    " \n"
   ]
  },
  {
   "cell_type": "code",
   "execution_count": null,
   "metadata": {},
   "outputs": [],
   "source": [
    "# P(−2 ≤ X ≤.50.5)\n",
    "integrate(f.dens, -2, -0.5)$value\n",
    "integrate(f.dens, -1, -0.5)$value"
   ]
  },
  {
   "cell_type": "code",
   "execution_count": null,
   "metadata": {},
   "outputs": [],
   "source": [
    "# P(−2 ≤ X − −1)\n",
    "integrate(f.dens, -2, -1)$value"
   ]
  },
  {
   "cell_type": "code",
   "execution_count": null,
   "metadata": {},
   "outputs": [],
   "source": [
    "# P(X>0.5)\n",
    "integrate(f.dens, 0.5, 1e16)$value # This will not always work\n"
   ]
  },
  {
   "cell_type": "code",
   "execution_count": null,
   "metadata": {},
   "outputs": [],
   "source": [
    "# P(X=0.3)\n",
    "integrate(f.dens, 0.3, 0.3)$value\n",
    "# it is clear that this probability is 0\n",
    "# corresponds to the integral sa=b, ie with zero size on the x-axis\n"
   ]
  },
  {
   "cell_type": "markdown",
   "metadata": {},
   "source": [
    "### 2. c)\n",
    " \n",
    "mean, variance and standard deviation of the random variable X.\n",
    " \n"
   ]
  },
  {
   "cell_type": "code",
   "execution_count": null,
   "metadata": {},
   "outputs": [],
   "source": [
    "# E(X)\n",
    "x_fx = function(x){\n",
    "    fx = f.dens(x)\n",
    "    return(x*fx)\n",
    "} \n",
    "# we integrate only where we know that f(x) is nonzero\n",
    "E_X = integrate(x_fx, -1, 0)$value\n",
    "E_X\n",
    "-1/3"
   ]
  },
  {
   "cell_type": "code",
   "execution_count": null,
   "metadata": {},
   "outputs": [],
   "source": [
    "# E(X ^ 2)\n",
    "xx_fx = function(x){\n",
    "    fx = f.dens(x) \n",
    "    return(x*x*fx)\n",
    "} \n",
    "# we integrate only where we know that f(x) is nonzero\n",
    "E_XX = integrate(xx_fx, -1, 0)$value\n",
    "E_XX\n",
    "1/6"
   ]
  },
  {
   "cell_type": "code",
   "execution_count": null,
   "metadata": {},
   "outputs": [],
   "source": [
    "# D(X)\n",
    "D_X = E_XX - E_X^2\n",
    "D_X\n",
    "1/18"
   ]
  },
  {
   "cell_type": "code",
   "execution_count": null,
   "metadata": {},
   "outputs": [],
   "source": [
    "# sigma(x)\n",
    "std_X = sqrt(D_X)\n",
    "std_X\n",
    "sqrt(2)/6"
   ]
  },
  {
   "cell_type": "markdown",
   "metadata": {},
   "source": [
    "### 2. d)\n",
    " \n",
    "mode $\\hat{x}$\n",
    " \n"
   ]
  },
  {
   "cell_type": "code",
   "execution_count": null,
   "metadata": {},
   "outputs": [],
   "source": [
    "# mode=0\n"
   ]
  },
  {
   "cell_type": "markdown",
   "metadata": {},
   "source": [
    "### 2. e)\n",
    " \n",
    "median $x_{0,5}$\n",
    " \n"
   ]
  },
  {
   "cell_type": "code",
   "execution_count": null,
   "metadata": {},
   "outputs": [],
   "source": [
    "x = seq(from = -2, to = 1, by = 0.001) # points on the x-axis\n",
    "FX = F.dist(x)\n",
    "plot(x, FX, type='l')\n",
    "lines(c(-2, 1),c(0.5, 0.5))"
   ]
  },
  {
   "cell_type": "code",
   "execution_count": null,
   "metadata": {},
   "outputs": [],
   "source": [
    "x[FX >= 0.5][1] # first element zx for which F(x)>=0.5\n",
    "(-2+sqrt(2))/2"
   ]
  },
  {
   "cell_type": "markdown",
   "metadata": {},
   "source": [
    "## Example 3.\n",
    " \n",
    "The random variable Y is defined as: Y=3X + 1, where X is the random variable from the previous example. Specify:\n",
    " \n",
    "### 3. a)\n",
    " \n",
    "$F_Y(y)$\n",
    " \n"
   ]
  },
  {
   "cell_type": "code",
   "execution_count": null,
   "metadata": {},
   "outputs": [],
   "source": [
    "FY.dist = function(y){\n",
    "    # calculated from the relation FY(y)=P(Y<y)=P(3X + 1<y)=...\n",
    "    x = (y-1)/3 \n",
    "    FY = F.dist(x)\n",
    "    return(FY)\n",
    "}\n",
    "y = seq(from = -3, to = 2, by = 0.001) # points on the x-axis\n",
    "FY = FY.dist(y)\n",
    "plot(y, FY, type='l')"
   ]
  },
  {
   "cell_type": "markdown",
   "metadata": {},
   "source": [
    "### 3. b)\n",
    " \n",
    "$f_Y(y)$\n",
    " \n"
   ]
  },
  {
   "cell_type": "code",
   "execution_count": null,
   "metadata": {},
   "outputs": [],
   "source": [
    "# derivation of F_Y\n",
    "fY.dens = function(y){\n",
    "    res = 2/9*(y + 2) \n",
    "    res[y < -2] = 0 # 0 for x<-2\n",
    "    res[y > 1] = 0  # 1 for x>1\n",
    "    return(res)\n",
    "}\n",
    "integrate(fY.dens,-2,1)$value # total integral check\n",
    "y = seq(from = -3, to = 2, by = 0.001) # points on the x-axis\n",
    "fY = fY.dens(y)\n",
    "plot(y, fY, cex=0.2)"
   ]
  },
  {
   "cell_type": "markdown",
   "metadata": {},
   "source": [
    "### 3. c)\n",
    " \n",
    "E(Y), D(Y), σ(Y)\n",
    " \n"
   ]
  },
  {
   "cell_type": "code",
   "execution_count": null,
   "metadata": {},
   "outputs": [],
   "source": [
    "# E(Y)\n",
    "y_fy = function(y){\n",
    "    fy = fY.dens(y)\n",
    "    return(y*fy)\n",
    "} \n",
    "# we integrate only where we know that f(y) is nonzero\n",
    "E_Y = integrate(y_fy, -2, 1)$value\n",
    "E_Y\n",
    "0"
   ]
  },
  {
   "cell_type": "code",
   "execution_count": null,
   "metadata": {},
   "outputs": [],
   "source": [
    "# alternatively\n",
    "E_Y = 3*E_X + 1\n",
    "E_Y"
   ]
  },
  {
   "cell_type": "code",
   "execution_count": null,
   "metadata": {},
   "outputs": [],
   "source": [
    "# E(Y ^ 2)\n",
    "yy_fy = function(y){\n",
    "    fy = fY.dens(y)\n",
    "    return(y*y*fy)\n",
    "} \n",
    "# we integrate only where we know that f(y) is nonzero\n",
    "E_YY = integrate(yy_fy, -2, 1)$value\n",
    "E_YY\n",
    "1/2"
   ]
  },
  {
   "cell_type": "code",
   "execution_count": null,
   "metadata": {},
   "outputs": [],
   "source": [
    "# D(Y)\n",
    "D_Y = E_YY - E_Y^2\n",
    "D_Y\n",
    "1/2"
   ]
  },
  {
   "cell_type": "code",
   "execution_count": null,
   "metadata": {},
   "outputs": [],
   "source": [
    "# alternatively\n",
    "D_Y = 3^2*D_X\n",
    "D_Y"
   ]
  },
  {
   "cell_type": "code",
   "execution_count": null,
   "metadata": {},
   "outputs": [],
   "source": [
    "# sigma(Y)\n",
    "sqrt(D_Y)\n",
    "sqrt(2)/2"
   ]
  },
  {
   "cell_type": "markdown",
   "metadata": {},
   "source": [
    "## Example 4\n",
    " \n",
    "Calculate $\\omega$ such that a random variable X with probability density:<br>$f(x)=\\begin{cases} 0 & x < 0 \\\\ 3e^{-3x}    & x \\geq 0 \\end{cases}$<br>is greater than $\\omega$ with probability 0.3.\n",
    " \n"
   ]
  },
  {
   "cell_type": "code",
   "execution_count": null,
   "metadata": {},
   "outputs": [],
   "source": [
    "F.dist = function(x){\n",
    "    res = 1 - exp(-3*x)\n",
    "    res[x < 0] = 0 # 0 for x<=0\n",
    "    return(res)\n",
    "}"
   ]
  },
  {
   "cell_type": "code",
   "execution_count": null,
   "metadata": {},
   "outputs": [],
   "source": [
    "x = seq(from = -1, to = 3, by = 0.001) # points on the x-axis\n",
    "FX = F.dist(x)\n",
    "plot(x, FX, type='l')\n",
    "lines(c(-1, 3),c(0.7, 0.7))"
   ]
  },
  {
   "cell_type": "code",
   "execution_count": null,
   "metadata": {},
   "outputs": [],
   "source": [
    "x[FX >= 0.7][1]"
   ]
  },
  {
   "cell_type": "code",
   "execution_count": null,
   "metadata": {},
   "outputs": [],
   "source": [
    "-1/3*log(0.3)"
   ]
  },
  {
   "cell_type": "code",
   "execution_count": null,
   "metadata": {},
   "outputs": [],
   "source": []
  }
 ],
 "metadata": {
  "kernelspec": {
   "display_name": "R",
   "language": "R",
   "name": "ir"
  },
  "language_info": {
   "codemirror_mode": "r",
   "file_extension": ".r",
   "mimetype": "text/x-r-source",
   "name": "R",
   "pygments_lexer": "r",
   "version": "4.1.2"
  }
 },
 "nbformat": 4,
 "nbformat_minor": 4
}
