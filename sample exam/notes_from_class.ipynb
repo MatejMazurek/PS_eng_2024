{
 "cells": [
  {
   "cell_type": "code",
   "execution_count": 1,
   "id": "d07e291f-594e-4cb3-a7e9-cc72c083ed19",
   "metadata": {},
   "outputs": [
    {
     "data": {
      "text/html": [
       "0.065"
      ],
      "text/latex": [
       "0.065"
      ],
      "text/markdown": [
       "0.065"
      ],
      "text/plain": [
       "[1] 0.065"
      ]
     },
     "metadata": {},
     "output_type": "display_data"
    }
   ],
   "source": [
    "0.5*0.05+0.07/3+0.1/6\n"
   ]
  },
  {
   "cell_type": "code",
   "execution_count": 2,
   "id": "929b6f43-b734-46a0-8b08-2e52faac9065",
   "metadata": {},
   "outputs": [
    {
     "data": {
      "text/html": [
       "0.358974358974359"
      ],
      "text/latex": [
       "0.358974358974359"
      ],
      "text/markdown": [
       "0.358974358974359"
      ],
      "text/plain": [
       "[1] 0.3589744"
      ]
     },
     "metadata": {},
     "output_type": "display_data"
    }
   ],
   "source": [
    "0.07/3/0.065"
   ]
  },
  {
   "cell_type": "code",
   "execution_count": 4,
   "id": "df90ee99-45aa-4317-a693-ba845de6e7f5",
   "metadata": {},
   "outputs": [
    {
     "data": {
      "text/html": [
       "<style>\n",
       ".list-inline {list-style: none; margin:0; padding: 0}\n",
       ".list-inline>li {display: inline-block}\n",
       ".list-inline>li:not(:last-child)::after {content: \"\\00b7\"; padding: 0 .5ex}\n",
       "</style>\n",
       "<ol class=list-inline><li>0</li><li>1</li><li>2</li><li>3</li></ol>\n"
      ],
      "text/latex": [
       "\\begin{enumerate*}\n",
       "\\item 0\n",
       "\\item 1\n",
       "\\item 2\n",
       "\\item 3\n",
       "\\end{enumerate*}\n"
      ],
      "text/markdown": [
       "1. 0\n",
       "2. 1\n",
       "3. 2\n",
       "4. 3\n",
       "\n",
       "\n"
      ],
      "text/plain": [
       "[1] 0 1 2 3"
      ]
     },
     "metadata": {},
     "output_type": "display_data"
    }
   ],
   "source": [
    "x = seq(0,3,1)\n",
    "x"
   ]
  },
  {
   "cell_type": "code",
   "execution_count": 6,
   "id": "64d4fb65-4467-48ff-9256-e81c61e6251e",
   "metadata": {},
   "outputs": [
    {
     "data": {
      "text/html": [
       "<style>\n",
       ".list-inline {list-style: none; margin:0; padding: 0}\n",
       ".list-inline>li {display: inline-block}\n",
       ".list-inline>li:not(:last-child)::after {content: \"\\00b7\"; padding: 0 .5ex}\n",
       "</style>\n",
       "<ol class=list-inline><li>0.0285714285714285</li><li>0.342857142857143</li><li>0.514285714285714</li><li>0.114285714285714</li></ol>\n"
      ],
      "text/latex": [
       "\\begin{enumerate*}\n",
       "\\item 0.0285714285714285\n",
       "\\item 0.342857142857143\n",
       "\\item 0.514285714285714\n",
       "\\item 0.114285714285714\n",
       "\\end{enumerate*}\n"
      ],
      "text/markdown": [
       "1. 0.0285714285714285\n",
       "2. 0.342857142857143\n",
       "3. 0.514285714285714\n",
       "4. 0.114285714285714\n",
       "\n",
       "\n"
      ],
      "text/plain": [
       "[1] 0.02857143 0.34285714 0.51428571 0.11428571"
      ]
     },
     "metadata": {},
     "output_type": "display_data"
    }
   ],
   "source": [
    "p = dhyper(x,3,4,4)\n",
    "p"
   ]
  },
  {
   "cell_type": "code",
   "execution_count": 7,
   "id": "f0a46516-b4a0-408c-aad7-1c2ceb5edbb0",
   "metadata": {},
   "outputs": [
    {
     "data": {
      "text/html": [
       "<style>\n",
       ".list-inline {list-style: none; margin:0; padding: 0}\n",
       ".list-inline>li {display: inline-block}\n",
       ".list-inline>li:not(:last-child)::after {content: \"\\00b7\"; padding: 0 .5ex}\n",
       "</style>\n",
       "<ol class=list-inline><li>0.0285714285714285</li><li>0.371428571428571</li><li>0.885714285714286</li><li>1</li></ol>\n"
      ],
      "text/latex": [
       "\\begin{enumerate*}\n",
       "\\item 0.0285714285714285\n",
       "\\item 0.371428571428571\n",
       "\\item 0.885714285714286\n",
       "\\item 1\n",
       "\\end{enumerate*}\n"
      ],
      "text/markdown": [
       "1. 0.0285714285714285\n",
       "2. 0.371428571428571\n",
       "3. 0.885714285714286\n",
       "4. 1\n",
       "\n",
       "\n"
      ],
      "text/plain": [
       "[1] 0.02857143 0.37142857 0.88571429 1.00000000"
      ]
     },
     "metadata": {},
     "output_type": "display_data"
    }
   ],
   "source": [
    "cumsum(p)"
   ]
  },
  {
   "cell_type": "code",
   "execution_count": 8,
   "id": "26bb9b90-ddc3-4b92-8684-bcb922014fea",
   "metadata": {},
   "outputs": [
    {
     "data": {
      "text/html": [
       "<style>\n",
       ".list-inline {list-style: none; margin:0; padding: 0}\n",
       ".list-inline>li {display: inline-block}\n",
       ".list-inline>li:not(:last-child)::after {content: \"\\00b7\"; padding: 0 .5ex}\n",
       "</style>\n",
       "<ol class=list-inline><li>0</li><li>1</li><li>2</li><li>3</li></ol>\n"
      ],
      "text/latex": [
       "\\begin{enumerate*}\n",
       "\\item 0\n",
       "\\item 1\n",
       "\\item 2\n",
       "\\item 3\n",
       "\\end{enumerate*}\n"
      ],
      "text/markdown": [
       "1. 0\n",
       "2. 1\n",
       "3. 2\n",
       "4. 3\n",
       "\n",
       "\n"
      ],
      "text/plain": [
       "[1] 0 1 2 3"
      ]
     },
     "metadata": {},
     "output_type": "display_data"
    },
    {
     "data": {
      "text/html": [
       "<style>\n",
       ".list-inline {list-style: none; margin:0; padding: 0}\n",
       ".list-inline>li {display: inline-block}\n",
       ".list-inline>li:not(:last-child)::after {content: \"\\00b7\"; padding: 0 .5ex}\n",
       "</style>\n",
       "<ol class=list-inline><li>0.0285714285714285</li><li>0.342857142857143</li><li>0.514285714285714</li><li>0.114285714285714</li></ol>\n"
      ],
      "text/latex": [
       "\\begin{enumerate*}\n",
       "\\item 0.0285714285714285\n",
       "\\item 0.342857142857143\n",
       "\\item 0.514285714285714\n",
       "\\item 0.114285714285714\n",
       "\\end{enumerate*}\n"
      ],
      "text/markdown": [
       "1. 0.0285714285714285\n",
       "2. 0.342857142857143\n",
       "3. 0.514285714285714\n",
       "4. 0.114285714285714\n",
       "\n",
       "\n"
      ],
      "text/plain": [
       "[1] 0.02857143 0.34285714 0.51428571 0.11428571"
      ]
     },
     "metadata": {},
     "output_type": "display_data"
    }
   ],
   "source": [
    "x\n",
    "p"
   ]
  },
  {
   "cell_type": "code",
   "execution_count": 9,
   "id": "b0ae8503-0a10-4a90-8a1f-6b7bcdaadddc",
   "metadata": {},
   "outputs": [
    {
     "data": {
      "text/html": [
       "<style>\n",
       ".list-inline {list-style: none; margin:0; padding: 0}\n",
       ".list-inline>li {display: inline-block}\n",
       ".list-inline>li:not(:last-child)::after {content: \"\\00b7\"; padding: 0 .5ex}\n",
       "</style>\n",
       "<ol class=list-inline><li>0</li><li>0.342857142857143</li><li>1.02857142857143</li><li>0.342857142857143</li></ol>\n"
      ],
      "text/latex": [
       "\\begin{enumerate*}\n",
       "\\item 0\n",
       "\\item 0.342857142857143\n",
       "\\item 1.02857142857143\n",
       "\\item 0.342857142857143\n",
       "\\end{enumerate*}\n"
      ],
      "text/markdown": [
       "1. 0\n",
       "2. 0.342857142857143\n",
       "3. 1.02857142857143\n",
       "4. 0.342857142857143\n",
       "\n",
       "\n"
      ],
      "text/plain": [
       "[1] 0.0000000 0.3428571 1.0285714 0.3428571"
      ]
     },
     "metadata": {},
     "output_type": "display_data"
    }
   ],
   "source": [
    "x*p"
   ]
  },
  {
   "cell_type": "code",
   "execution_count": 12,
   "id": "b5b46c9c-7602-4873-9e14-58c1e51de89b",
   "metadata": {},
   "outputs": [
    {
     "data": {
      "text/html": [
       "1.71428571428571"
      ],
      "text/latex": [
       "1.71428571428571"
      ],
      "text/markdown": [
       "1.71428571428571"
      ],
      "text/plain": [
       "[1] 1.714286"
      ]
     },
     "metadata": {},
     "output_type": "display_data"
    }
   ],
   "source": [
    "EX = sum(x*p)\n",
    "EX"
   ]
  },
  {
   "cell_type": "code",
   "execution_count": 13,
   "id": "e673fa33-5c9f-42d9-bba5-ca2620edd826",
   "metadata": {},
   "outputs": [
    {
     "data": {
      "text/html": [
       "3.42857142857143"
      ],
      "text/latex": [
       "3.42857142857143"
      ],
      "text/markdown": [
       "3.42857142857143"
      ],
      "text/plain": [
       "[1] 3.428571"
      ]
     },
     "metadata": {},
     "output_type": "display_data"
    },
    {
     "data": {
      "text/html": [
       "0.489795918367347"
      ],
      "text/latex": [
       "0.489795918367347"
      ],
      "text/markdown": [
       "0.489795918367347"
      ],
      "text/plain": [
       "[1] 0.4897959"
      ]
     },
     "metadata": {},
     "output_type": "display_data"
    }
   ],
   "source": [
    "EXX = sum(x*x*p)\n",
    "EXX\n",
    "DX = EXX - EX*EX\n",
    "DX"
   ]
  },
  {
   "cell_type": "code",
   "execution_count": 14,
   "id": "2fd594c8-07ea-4e74-bb41-de3e0a17f63d",
   "metadata": {},
   "outputs": [
    {
     "data": {
      "text/html": [
       "0.699854212223765"
      ],
      "text/latex": [
       "0.699854212223765"
      ],
      "text/markdown": [
       "0.699854212223765"
      ],
      "text/plain": [
       "[1] 0.6998542"
      ]
     },
     "metadata": {},
     "output_type": "display_data"
    }
   ],
   "source": [
    "sqrt(DX)"
   ]
  },
  {
   "cell_type": "code",
   "execution_count": 15,
   "id": "c4a8909c-52d0-4fc4-871e-c4ab64345c78",
   "metadata": {},
   "outputs": [
    {
     "data": {
      "text/html": [
       "342.857142857143"
      ],
      "text/latex": [
       "342.857142857143"
      ],
      "text/markdown": [
       "342.857142857143"
      ],
      "text/plain": [
       "[1] 342.8571"
      ]
     },
     "metadata": {},
     "output_type": "display_data"
    }
   ],
   "source": [
    "EL = EX*200\n",
    "EL"
   ]
  },
  {
   "cell_type": "code",
   "execution_count": 16,
   "id": "114d783d-7e7c-4123-8f83-30ad40f87725",
   "metadata": {},
   "outputs": [
    {
     "data": {
      "text/html": [
       "139.970842444753"
      ],
      "text/latex": [
       "139.970842444753"
      ],
      "text/markdown": [
       "139.970842444753"
      ],
      "text/plain": [
       "[1] 139.9708"
      ]
     },
     "metadata": {},
     "output_type": "display_data"
    }
   ],
   "source": [
    "DL = 200*200*DX\n",
    "sqrt(DL)"
   ]
  },
  {
   "cell_type": "code",
   "execution_count": 17,
   "id": "80a2f8e2-2526-4243-b8b5-63153e04392a",
   "metadata": {},
   "outputs": [
    {
     "data": {
      "image/png": "[encoded data removed]",
      "text/plain": [
       "plot without title"
      ]
     },
     "metadata": {
      "image/png": {
       "height": 420,
       "width": 420
      }
     },
     "output_type": "display_data"
    }
   ],
   "source": [
    "x = seq(0,30,0.1)\n",
    "y = dexp(x,1/10)\n",
    "plot(x,y)"
   ]
  },
  {
   "cell_type": "code",
   "execution_count": 18,
   "id": "cbb6cab3-e5aa-4259-997f-2acfd25e4114",
   "metadata": {},
   "outputs": [
    {
     "data": {
      "text/html": [
       "22.0727491318972"
      ],
      "text/latex": [
       "22.0727491318972"
      ],
      "text/markdown": [
       "22.0727491318972"
      ],
      "text/plain": [
       "[1] 22.07275"
      ]
     },
     "metadata": {},
     "output_type": "display_data"
    }
   ],
   "source": [
    "qexp(0.89,1/10)"
   ]
  },
  {
   "cell_type": "code",
   "execution_count": 19,
   "id": "50e34673-ba7f-4061-98df-53ed37d10d0a",
   "metadata": {},
   "outputs": [
    {
     "data": {
      "text/html": [
       "0.670320046035639"
      ],
      "text/latex": [
       "0.670320046035639"
      ],
      "text/markdown": [
       "0.670320046035639"
      ],
      "text/plain": [
       "[1] 0.67032"
      ]
     },
     "metadata": {},
     "output_type": "display_data"
    }
   ],
   "source": [
    "(1-pexp(12,1/10))/(1-pexp(8,1/10))"
   ]
  },
  {
   "cell_type": "code",
   "execution_count": 1,
   "id": "dc6c1387-3dfb-4c7f-a343-4a3e4a320b5d",
   "metadata": {},
   "outputs": [
    {
     "data": {
      "text/html": [
       "0.971110214438201"
      ],
      "text/latex": [
       "0.971110214438201"
      ],
      "text/markdown": [
       "0.971110214438201"
      ],
      "text/plain": [
       "[1] 0.9711102"
      ]
     },
     "metadata": {},
     "output_type": "display_data"
    }
   ],
   "source": [
    "pnorm(13,10,sqrt(10/4))"
   ]
  },
  {
   "cell_type": "code",
   "execution_count": 24,
   "id": "78563a36-d532-41bd-9919-f0dfdd85737f",
   "metadata": {},
   "outputs": [],
   "source": [
    "library(readxl)"
   ]
  },
  {
   "cell_type": "code",
   "execution_count": 26,
   "id": "465cad12-1c4f-4881-b250-bfaf86d3af2d",
   "metadata": {},
   "outputs": [
    {
     "name": "stderr",
     "output_type": "stream",
     "text": [
      "New names:\n",
      "* `` -> ...1\n",
      "\n"
     ]
    },
    {
     "data": {
      "text/html": [
       "<table class=\"dataframe\">\n",
       "<caption>A tibble: 6 × 4</caption>\n",
       "<thead>\n",
       "\t<tr><th scope=col>...1</th><th scope=col>pa_norm</th><th scope=col>pa_dist</th><th scope=col>field</th></tr>\n",
       "\t<tr><th scope=col>&lt;dbl&gt;</th><th scope=col>&lt;dbl&gt;</th><th scope=col>&lt;dbl&gt;</th><th scope=col>&lt;chr&gt;</th></tr>\n",
       "</thead>\n",
       "<tbody>\n",
       "\t<tr><td>0</td><td>72.7</td><td>49.8</td><td>sportovni</td></tr>\n",
       "\t<tr><td>1</td><td>74.4</td><td>64.0</td><td>sportovni</td></tr>\n",
       "\t<tr><td>2</td><td>67.9</td><td>56.4</td><td>sportovni</td></tr>\n",
       "\t<tr><td>3</td><td>59.8</td><td>40.6</td><td>sportovni</td></tr>\n",
       "\t<tr><td>4</td><td>68.7</td><td>47.2</td><td>sportovni</td></tr>\n",
       "\t<tr><td>5</td><td>66.1</td><td>65.6</td><td>sportovni</td></tr>\n",
       "</tbody>\n",
       "</table>\n"
      ],
      "text/latex": [
       "A tibble: 6 × 4\n",
       "\\begin{tabular}{llll}\n",
       " ...1 & pa\\_norm & pa\\_dist & field\\\\\n",
       " <dbl> & <dbl> & <dbl> & <chr>\\\\\n",
       "\\hline\n",
       "\t 0 & 72.7 & 49.8 & sportovni\\\\\n",
       "\t 1 & 74.4 & 64.0 & sportovni\\\\\n",
       "\t 2 & 67.9 & 56.4 & sportovni\\\\\n",
       "\t 3 & 59.8 & 40.6 & sportovni\\\\\n",
       "\t 4 & 68.7 & 47.2 & sportovni\\\\\n",
       "\t 5 & 66.1 & 65.6 & sportovni\\\\\n",
       "\\end{tabular}\n"
      ],
      "text/markdown": [
       "\n",
       "A tibble: 6 × 4\n",
       "\n",
       "| ...1 &lt;dbl&gt; | pa_norm &lt;dbl&gt; | pa_dist &lt;dbl&gt; | field &lt;chr&gt; |\n",
       "|---|---|---|---|\n",
       "| 0 | 72.7 | 49.8 | sportovni |\n",
       "| 1 | 74.4 | 64.0 | sportovni |\n",
       "| 2 | 67.9 | 56.4 | sportovni |\n",
       "| 3 | 59.8 | 40.6 | sportovni |\n",
       "| 4 | 68.7 | 47.2 | sportovni |\n",
       "| 5 | 66.1 | 65.6 | sportovni |\n",
       "\n"
      ],
      "text/plain": [
       "  ...1 pa_norm pa_dist field    \n",
       "1 0    72.7    49.8    sportovni\n",
       "2 1    74.4    64.0    sportovni\n",
       "3 2    67.9    56.4    sportovni\n",
       "4 3    59.8    40.6    sportovni\n",
       "5 4    68.7    47.2    sportovni\n",
       "6 5    66.1    65.6    sportovni"
      ]
     },
     "metadata": {},
     "output_type": "display_data"
    }
   ],
   "source": [
    "data = read_excel(\"data_PS.xlsx\")\n",
    "head(data)"
   ]
  },
  {
   "cell_type": "code",
   "execution_count": 27,
   "id": "79b75e54-f720-4799-ab8f-f6f10e05df9b",
   "metadata": {},
   "outputs": [],
   "source": [
    "colnames(data)=c(\"id\",\"norm\",\"dist\",\"field\")"
   ]
  },
  {
   "cell_type": "code",
   "execution_count": 28,
   "id": "8f0b9cf6-8dd5-4e63-a89d-0ae2e61f7f01",
   "metadata": {},
   "outputs": [
    {
     "data": {
      "text/html": [
       "<table class=\"dataframe\">\n",
       "<caption>A tibble: 6 × 4</caption>\n",
       "<thead>\n",
       "\t<tr><th scope=col>id</th><th scope=col>norm</th><th scope=col>dist</th><th scope=col>field</th></tr>\n",
       "\t<tr><th scope=col>&lt;dbl&gt;</th><th scope=col>&lt;dbl&gt;</th><th scope=col>&lt;dbl&gt;</th><th scope=col>&lt;chr&gt;</th></tr>\n",
       "</thead>\n",
       "<tbody>\n",
       "\t<tr><td>0</td><td>72.7</td><td>49.8</td><td>sportovni</td></tr>\n",
       "\t<tr><td>1</td><td>74.4</td><td>64.0</td><td>sportovni</td></tr>\n",
       "\t<tr><td>2</td><td>67.9</td><td>56.4</td><td>sportovni</td></tr>\n",
       "\t<tr><td>3</td><td>59.8</td><td>40.6</td><td>sportovni</td></tr>\n",
       "\t<tr><td>4</td><td>68.7</td><td>47.2</td><td>sportovni</td></tr>\n",
       "\t<tr><td>5</td><td>66.1</td><td>65.6</td><td>sportovni</td></tr>\n",
       "</tbody>\n",
       "</table>\n"
      ],
      "text/latex": [
       "A tibble: 6 × 4\n",
       "\\begin{tabular}{llll}\n",
       " id & norm & dist & field\\\\\n",
       " <dbl> & <dbl> & <dbl> & <chr>\\\\\n",
       "\\hline\n",
       "\t 0 & 72.7 & 49.8 & sportovni\\\\\n",
       "\t 1 & 74.4 & 64.0 & sportovni\\\\\n",
       "\t 2 & 67.9 & 56.4 & sportovni\\\\\n",
       "\t 3 & 59.8 & 40.6 & sportovni\\\\\n",
       "\t 4 & 68.7 & 47.2 & sportovni\\\\\n",
       "\t 5 & 66.1 & 65.6 & sportovni\\\\\n",
       "\\end{tabular}\n"
      ],
      "text/markdown": [
       "\n",
       "A tibble: 6 × 4\n",
       "\n",
       "| id &lt;dbl&gt; | norm &lt;dbl&gt; | dist &lt;dbl&gt; | field &lt;chr&gt; |\n",
       "|---|---|---|---|\n",
       "| 0 | 72.7 | 49.8 | sportovni |\n",
       "| 1 | 74.4 | 64.0 | sportovni |\n",
       "| 2 | 67.9 | 56.4 | sportovni |\n",
       "| 3 | 59.8 | 40.6 | sportovni |\n",
       "| 4 | 68.7 | 47.2 | sportovni |\n",
       "| 5 | 66.1 | 65.6 | sportovni |\n",
       "\n"
      ],
      "text/plain": [
       "  id norm dist field    \n",
       "1 0  72.7 49.8 sportovni\n",
       "2 1  74.4 64.0 sportovni\n",
       "3 2  67.9 56.4 sportovni\n",
       "4 3  59.8 40.6 sportovni\n",
       "5 4  68.7 47.2 sportovni\n",
       "6 5  66.1 65.6 sportovni"
      ]
     },
     "metadata": {},
     "output_type": "display_data"
    }
   ],
   "source": [
    "head(data)"
   ]
  },
  {
   "cell_type": "code",
   "execution_count": 29,
   "id": "bcd53ecf-f79f-4747-bfc5-53b93a60fe15",
   "metadata": {},
   "outputs": [
    {
     "data": {
      "text/plain": [
       "\n",
       "ekonomicky  humanitni  sportovni  technicky \n",
       "       198        199        198        198 "
      ]
     },
     "metadata": {},
     "output_type": "display_data"
    }
   ],
   "source": [
    "table(data$field)"
   ]
  },
  {
   "cell_type": "code",
   "execution_count": 30,
   "id": "0758ca32-d9df-4bb2-a796-e419844d66a0",
   "metadata": {},
   "outputs": [],
   "source": [
    "dist_tech = data$dist[data$field==\"technicky\"]"
   ]
  },
  {
   "cell_type": "code",
   "execution_count": 32,
   "id": "41e74eda-9b32-48a3-bd91-425c949e7bea",
   "metadata": {},
   "outputs": [
    {
     "data": {
      "image/png": "[encoded data removed]",
      "text/plain": [
       "plot without title"
      ]
     },
     "metadata": {
      "image/png": {
       "height": 420,
       "width": 420
      }
     },
     "output_type": "display_data"
    }
   ],
   "source": [
    "boxplot(dist_tech)"
   ]
  },
  {
   "cell_type": "code",
   "execution_count": 33,
   "id": "47d02783-21d3-428b-9fd0-7f4b085f5df6",
   "metadata": {},
   "outputs": [
    {
     "name": "stderr",
     "output_type": "stream",
     "text": [
      "\n",
      "Attaching package: ‘dplyr’\n",
      "\n",
      "\n",
      "The following objects are masked from ‘package:stats’:\n",
      "\n",
      "    filter, lag\n",
      "\n",
      "\n",
      "The following objects are masked from ‘package:base’:\n",
      "\n",
      "    intersect, setdiff, setequal, union\n",
      "\n",
      "\n",
      "\n",
      "Attaching package: ‘rstatix’\n",
      "\n",
      "\n",
      "The following object is masked from ‘package:stats’:\n",
      "\n",
      "    filter\n",
      "\n",
      "\n"
     ]
    }
   ],
   "source": [
    "library(dplyr)\n",
    "library(rstatix)"
   ]
  },
  {
   "cell_type": "code",
   "execution_count": 36,
   "id": "5bf485f3-d9d8-4de5-8d57-2e3d52e1a26b",
   "metadata": {},
   "outputs": [
    {
     "data": {
      "text/html": [
       "<table class=\"dataframe\">\n",
       "<caption>A tibble: 6 × 6</caption>\n",
       "<thead>\n",
       "\t<tr><th scope=col>field</th><th scope=col>id</th><th scope=col>norm</th><th scope=col>dist</th><th scope=col>is.outlier</th><th scope=col>is.extreme</th></tr>\n",
       "\t<tr><th scope=col>&lt;chr&gt;</th><th scope=col>&lt;dbl&gt;</th><th scope=col>&lt;dbl&gt;</th><th scope=col>&lt;dbl&gt;</th><th scope=col>&lt;lgl&gt;</th><th scope=col>&lt;lgl&gt;</th></tr>\n",
       "</thead>\n",
       "<tbody>\n",
       "\t<tr><td>ekonomicky</td><td>416</td><td> 83.7</td><td> 74.1</td><td>TRUE</td><td>FALSE</td></tr>\n",
       "\t<tr><td>humanitni </td><td>653</td><td> 91.2</td><td> 77.7</td><td>TRUE</td><td>FALSE</td></tr>\n",
       "\t<tr><td>sportovni </td><td> 96</td><td>105.4</td><td> 98.9</td><td>TRUE</td><td>FALSE</td></tr>\n",
       "\t<tr><td>sportovni </td><td>118</td><td>101.0</td><td>102.0</td><td>TRUE</td><td>FALSE</td></tr>\n",
       "\t<tr><td>technicky </td><td>206</td><td> 65.1</td><td> 64.3</td><td>TRUE</td><td>FALSE</td></tr>\n",
       "\t<tr><td>technicky </td><td>299</td><td> 66.2</td><td> 64.8</td><td>TRUE</td><td>FALSE</td></tr>\n",
       "</tbody>\n",
       "</table>\n"
      ],
      "text/latex": [
       "A tibble: 6 × 6\n",
       "\\begin{tabular}{llllll}\n",
       " field & id & norm & dist & is.outlier & is.extreme\\\\\n",
       " <chr> & <dbl> & <dbl> & <dbl> & <lgl> & <lgl>\\\\\n",
       "\\hline\n",
       "\t ekonomicky & 416 &  83.7 &  74.1 & TRUE & FALSE\\\\\n",
       "\t humanitni  & 653 &  91.2 &  77.7 & TRUE & FALSE\\\\\n",
       "\t sportovni  &  96 & 105.4 &  98.9 & TRUE & FALSE\\\\\n",
       "\t sportovni  & 118 & 101.0 & 102.0 & TRUE & FALSE\\\\\n",
       "\t technicky  & 206 &  65.1 &  64.3 & TRUE & FALSE\\\\\n",
       "\t technicky  & 299 &  66.2 &  64.8 & TRUE & FALSE\\\\\n",
       "\\end{tabular}\n"
      ],
      "text/markdown": [
       "\n",
       "A tibble: 6 × 6\n",
       "\n",
       "| field &lt;chr&gt; | id &lt;dbl&gt; | norm &lt;dbl&gt; | dist &lt;dbl&gt; | is.outlier &lt;lgl&gt; | is.extreme &lt;lgl&gt; |\n",
       "|---|---|---|---|---|---|\n",
       "| ekonomicky | 416 |  83.7 |  74.1 | TRUE | FALSE |\n",
       "| humanitni  | 653 |  91.2 |  77.7 | TRUE | FALSE |\n",
       "| sportovni  |  96 | 105.4 |  98.9 | TRUE | FALSE |\n",
       "| sportovni  | 118 | 101.0 | 102.0 | TRUE | FALSE |\n",
       "| technicky  | 206 |  65.1 |  64.3 | TRUE | FALSE |\n",
       "| technicky  | 299 |  66.2 |  64.8 | TRUE | FALSE |\n",
       "\n"
      ],
      "text/plain": [
       "  field      id  norm  dist  is.outlier is.extreme\n",
       "1 ekonomicky 416  83.7  74.1 TRUE       FALSE     \n",
       "2 humanitni  653  91.2  77.7 TRUE       FALSE     \n",
       "3 sportovni   96 105.4  98.9 TRUE       FALSE     \n",
       "4 sportovni  118 101.0 102.0 TRUE       FALSE     \n",
       "5 technicky  206  65.1  64.3 TRUE       FALSE     \n",
       "6 technicky  299  66.2  64.8 TRUE       FALSE     "
      ]
     },
     "metadata": {},
     "output_type": "display_data"
    }
   ],
   "source": [
    "outliars = data %>% group_by(field) %>% identify_outliers(dist)\n",
    "outliars"
   ]
  },
  {
   "cell_type": "code",
   "execution_count": 37,
   "id": "05244c31-eee1-4264-bd54-30d213162b96",
   "metadata": {},
   "outputs": [
    {
     "data": {
      "text/html": [
       "<table class=\"dataframe\">\n",
       "<caption>A tibble: 6 × 5</caption>\n",
       "<thead>\n",
       "\t<tr><th scope=col>id</th><th scope=col>norm</th><th scope=col>dist</th><th scope=col>field</th><th scope=col>dist_cleared</th></tr>\n",
       "\t<tr><th scope=col>&lt;dbl&gt;</th><th scope=col>&lt;dbl&gt;</th><th scope=col>&lt;dbl&gt;</th><th scope=col>&lt;chr&gt;</th><th scope=col>&lt;dbl&gt;</th></tr>\n",
       "</thead>\n",
       "<tbody>\n",
       "\t<tr><td>0</td><td>72.7</td><td>49.8</td><td>sportovni</td><td>49.8</td></tr>\n",
       "\t<tr><td>1</td><td>74.4</td><td>64.0</td><td>sportovni</td><td>64.0</td></tr>\n",
       "\t<tr><td>2</td><td>67.9</td><td>56.4</td><td>sportovni</td><td>56.4</td></tr>\n",
       "\t<tr><td>3</td><td>59.8</td><td>40.6</td><td>sportovni</td><td>40.6</td></tr>\n",
       "\t<tr><td>4</td><td>68.7</td><td>47.2</td><td>sportovni</td><td>47.2</td></tr>\n",
       "\t<tr><td>5</td><td>66.1</td><td>65.6</td><td>sportovni</td><td>65.6</td></tr>\n",
       "</tbody>\n",
       "</table>\n"
      ],
      "text/latex": [
       "A tibble: 6 × 5\n",
       "\\begin{tabular}{lllll}\n",
       " id & norm & dist & field & dist\\_cleared\\\\\n",
       " <dbl> & <dbl> & <dbl> & <chr> & <dbl>\\\\\n",
       "\\hline\n",
       "\t 0 & 72.7 & 49.8 & sportovni & 49.8\\\\\n",
       "\t 1 & 74.4 & 64.0 & sportovni & 64.0\\\\\n",
       "\t 2 & 67.9 & 56.4 & sportovni & 56.4\\\\\n",
       "\t 3 & 59.8 & 40.6 & sportovni & 40.6\\\\\n",
       "\t 4 & 68.7 & 47.2 & sportovni & 47.2\\\\\n",
       "\t 5 & 66.1 & 65.6 & sportovni & 65.6\\\\\n",
       "\\end{tabular}\n"
      ],
      "text/markdown": [
       "\n",
       "A tibble: 6 × 5\n",
       "\n",
       "| id &lt;dbl&gt; | norm &lt;dbl&gt; | dist &lt;dbl&gt; | field &lt;chr&gt; | dist_cleared &lt;dbl&gt; |\n",
       "|---|---|---|---|---|\n",
       "| 0 | 72.7 | 49.8 | sportovni | 49.8 |\n",
       "| 1 | 74.4 | 64.0 | sportovni | 64.0 |\n",
       "| 2 | 67.9 | 56.4 | sportovni | 56.4 |\n",
       "| 3 | 59.8 | 40.6 | sportovni | 40.6 |\n",
       "| 4 | 68.7 | 47.2 | sportovni | 47.2 |\n",
       "| 5 | 66.1 | 65.6 | sportovni | 65.6 |\n",
       "\n"
      ],
      "text/plain": [
       "  id norm dist field     dist_cleared\n",
       "1 0  72.7 49.8 sportovni 49.8        \n",
       "2 1  74.4 64.0 sportovni 64.0        \n",
       "3 2  67.9 56.4 sportovni 56.4        \n",
       "4 3  59.8 40.6 sportovni 40.6        \n",
       "5 4  68.7 47.2 sportovni 47.2        \n",
       "6 5  66.1 65.6 sportovni 65.6        "
      ]
     },
     "metadata": {},
     "output_type": "display_data"
    }
   ],
   "source": [
    "data$dist_cleared = ifelse(data$id %in% outliars$id, NA, data$dist)\n",
    "head(data)"
   ]
  },
  {
   "cell_type": "code",
   "execution_count": 38,
   "id": "c643dcfc-fc63-491a-8236-4a7a6182290b",
   "metadata": {},
   "outputs": [],
   "source": [
    "dist_tech_cleared = data$dist_cleared[data$field==\"technicky\"]"
   ]
  },
  {
   "cell_type": "code",
   "execution_count": 39,
   "id": "56413523-160c-4d5a-8b21-f5bb3f0bc60c",
   "metadata": {},
   "outputs": [
    {
     "data": {
      "image/png": "[encoded data removed]",
      "text/plain": [
       "plot without title"
      ]
     },
     "metadata": {
      "image/png": {
       "height": 420,
       "width": 420
      }
     },
     "output_type": "display_data"
    }
   ],
   "source": [
    "boxplot(dist_tech_cleared)"
   ]
  },
  {
   "cell_type": "code",
   "execution_count": 40,
   "id": "4dd52480-db84-4ee7-8e2f-9524274ede07",
   "metadata": {},
   "outputs": [
    {
     "data": {
      "text/plain": [
       "\n",
       "\tShapiro-Wilk normality test\n",
       "\n",
       "data:  dist_tech_cleared\n",
       "W = 0.99266, p-value = 0.4327\n"
      ]
     },
     "metadata": {},
     "output_type": "display_data"
    }
   ],
   "source": [
    "shapiro.test(dist_tech_cleared)"
   ]
  },
  {
   "cell_type": "code",
   "execution_count": 41,
   "id": "284a4aa4-01ff-4418-a0f1-0f47eb56fe34",
   "metadata": {},
   "outputs": [
    {
     "data": {
      "text/plain": [
       "\n",
       "\tOne Sample t-test\n",
       "\n",
       "data:  dist_tech_cleared\n",
       "t = 59.004, df = 195, p-value < 2.2e-16\n",
       "alternative hypothesis: true mean is greater than 0\n",
       "95 percent confidence interval:\n",
       " 36.56914      Inf\n",
       "sample estimates:\n",
       "mean of x \n",
       " 37.62296 \n"
      ]
     },
     "metadata": {},
     "output_type": "display_data"
    }
   ],
   "source": [
    "t.test(dist_tech_cleared,alternative = \"greater\",conf.level = 0.95)"
   ]
  },
  {
   "cell_type": "code",
   "execution_count": 44,
   "id": "cf97f8ee-5743-482b-9ae1-e4e048c1ab95",
   "metadata": {},
   "outputs": [
    {
     "data": {
      "text/html": [
       "8.92686141866609"
      ],
      "text/latex": [
       "8.92686141866609"
      ],
      "text/markdown": [
       "8.92686141866609"
      ],
      "text/plain": [
       "[1] 8.926861"
      ]
     },
     "metadata": {},
     "output_type": "display_data"
    },
    {
     "data": {
      "text/html": [
       "198"
      ],
      "text/latex": [
       "198"
      ],
      "text/markdown": [
       "198"
      ],
      "text/plain": [
       "[1] 198"
      ]
     },
     "metadata": {},
     "output_type": "display_data"
    }
   ],
   "source": [
    "sd(dist_tech_cleared,na.rm = TRUE)\n",
    "length(dist_tech_cleared)"
   ]
  },
  {
   "cell_type": "code",
   "execution_count": 45,
   "id": "d7919e9a-54f8-4522-833d-e603b965701f",
   "metadata": {},
   "outputs": [
    {
     "data": {
      "text/plain": [
       "\n",
       "\tOne Sample t-test\n",
       "\n",
       "data:  dist_tech_cleared\n",
       "t = 11.955, df = 195, p-value < 2.2e-16\n",
       "alternative hypothesis: true mean is greater than 30\n",
       "95 percent confidence interval:\n",
       " 36.56914      Inf\n",
       "sample estimates:\n",
       "mean of x \n",
       " 37.62296 \n"
      ]
     },
     "metadata": {},
     "output_type": "display_data"
    }
   ],
   "source": [
    "t.test(dist_tech_cleared,mu=30,alternative = \"greater\",conf.level = 0.95)"
   ]
  },
  {
   "cell_type": "code",
   "execution_count": 46,
   "id": "437ca4eb-04e0-42c8-a010-8e8ebd4572c8",
   "metadata": {},
   "outputs": [],
   "source": [
    "dist_sport_cleared = data$dist_cleared[data$field==\"sportovni\"]"
   ]
  },
  {
   "cell_type": "code",
   "execution_count": 47,
   "id": "5353166e-727a-4a91-9c81-c69167add0e4",
   "metadata": {},
   "outputs": [
    {
     "data": {
      "text/plain": [
       "\n",
       "\tShapiro-Wilk normality test\n",
       "\n",
       "data:  dist_sport_cleared\n",
       "W = 0.98958, p-value = 0.1649\n"
      ]
     },
     "metadata": {},
     "output_type": "display_data"
    }
   ],
   "source": [
    "shapiro.test(dist_sport_cleared)"
   ]
  },
  {
   "cell_type": "code",
   "execution_count": 48,
   "id": "7bad51cf-f5e7-4e52-8b2e-89c1b353be68",
   "metadata": {},
   "outputs": [
    {
     "data": {
      "text/plain": [
       "\n",
       "\tF test to compare two variances\n",
       "\n",
       "data:  dist_sport_cleared and dist_tech_cleared\n",
       "F = 2.2441, num df = 195, denom df = 195, p-value = 2.658e-08\n",
       "alternative hypothesis: true ratio of variances is not equal to 1\n",
       "95 percent confidence interval:\n",
       " 1.693472 2.973826\n",
       "sample estimates:\n",
       "ratio of variances \n",
       "          2.244124 \n"
      ]
     },
     "metadata": {},
     "output_type": "display_data"
    }
   ],
   "source": [
    "var.test(dist_sport_cleared,dist_tech_cleared,ratio=1,alternative = \"two.sided\")"
   ]
  },
  {
   "cell_type": "code",
   "execution_count": 49,
   "id": "19d66ad1-90d6-4687-9bee-f9e551f3c2d8",
   "metadata": {},
   "outputs": [
    {
     "data": {
      "text/plain": [
       "\n",
       "\tWelch Two Sample t-test\n",
       "\n",
       "data:  dist_sport_cleared and dist_tech_cleared\n",
       "t = 18.384, df = 340, p-value < 2.2e-16\n",
       "alternative hypothesis: true difference in means is greater than 0\n",
       "95 percent confidence interval:\n",
       " 19.21955      Inf\n",
       "sample estimates:\n",
       "mean of x mean of y \n",
       " 58.73673  37.62296 \n"
      ]
     },
     "metadata": {},
     "output_type": "display_data"
    }
   ],
   "source": [
    "t.test(dist_sport_cleared,dist_tech_cleared,mu=0,alternative=\"greater\",var.equal = FALSE)"
   ]
  },
  {
   "cell_type": "code",
   "execution_count": 50,
   "id": "fa30613a-4d47-4ed0-b8e1-0fdd5a307f05",
   "metadata": {},
   "outputs": [
    {
     "data": {
      "text/html": [
       "<table class=\"dataframe\">\n",
       "<caption>A tibble: 4 × 2</caption>\n",
       "<thead>\n",
       "\t<tr><th scope=col>field</th><th scope=col>norm</th></tr>\n",
       "\t<tr><th scope=col>&lt;chr&gt;</th><th scope=col>&lt;dbl&gt;</th></tr>\n",
       "</thead>\n",
       "<tbody>\n",
       "\t<tr><td>ekonomicky</td><td>0.2670042</td></tr>\n",
       "\t<tr><td>humanitni </td><td>0.1416967</td></tr>\n",
       "\t<tr><td>sportovni </td><td>0.1648836</td></tr>\n",
       "\t<tr><td>technicky </td><td>0.4326779</td></tr>\n",
       "</tbody>\n",
       "</table>\n"
      ],
      "text/latex": [
       "A tibble: 4 × 2\n",
       "\\begin{tabular}{ll}\n",
       " field & norm\\\\\n",
       " <chr> & <dbl>\\\\\n",
       "\\hline\n",
       "\t ekonomicky & 0.2670042\\\\\n",
       "\t humanitni  & 0.1416967\\\\\n",
       "\t sportovni  & 0.1648836\\\\\n",
       "\t technicky  & 0.4326779\\\\\n",
       "\\end{tabular}\n"
      ],
      "text/markdown": [
       "\n",
       "A tibble: 4 × 2\n",
       "\n",
       "| field &lt;chr&gt; | norm &lt;dbl&gt; |\n",
       "|---|---|\n",
       "| ekonomicky | 0.2670042 |\n",
       "| humanitni  | 0.1416967 |\n",
       "| sportovni  | 0.1648836 |\n",
       "| technicky  | 0.4326779 |\n",
       "\n"
      ],
      "text/plain": [
       "  field      norm     \n",
       "1 ekonomicky 0.2670042\n",
       "2 humanitni  0.1416967\n",
       "3 sportovni  0.1648836\n",
       "4 technicky  0.4326779"
      ]
     },
     "metadata": {},
     "output_type": "display_data"
    }
   ],
   "source": [
    "data %>% group_by(field) %>% summarise(norm = shapiro.test(dist_cleared)$p.value)"
   ]
  },
  {
   "cell_type": "code",
   "execution_count": 51,
   "id": "ad6b1e97-ddc5-4fcb-9798-427570d09c2f",
   "metadata": {},
   "outputs": [
    {
     "data": {
      "text/plain": [
       "\n",
       "\tBartlett test of homogeneity of variances\n",
       "\n",
       "data:  data$dist_cleared by data$field\n",
       "Bartlett's K-squared = 33.451, df = 3, p-value = 2.587e-07\n"
      ]
     },
     "metadata": {},
     "output_type": "display_data"
    }
   ],
   "source": [
    "bartlett.test(data$dist_cleared ~ data$field)"
   ]
  },
  {
   "cell_type": "code",
   "execution_count": 53,
   "id": "f74704bc-e02e-4493-81c1-55657c1c355e",
   "metadata": {},
   "outputs": [
    {
     "data": {
      "text/html": [
       "<table class=\"dataframe\">\n",
       "<caption>A tibble: 4 × 2</caption>\n",
       "<thead>\n",
       "\t<tr><th scope=col>field</th><th scope=col>skew</th></tr>\n",
       "\t<tr><th scope=col>&lt;chr&gt;</th><th scope=col>&lt;dbl&gt;</th></tr>\n",
       "</thead>\n",
       "<tbody>\n",
       "\t<tr><td>ekonomicky</td><td>0.20780654</td></tr>\n",
       "\t<tr><td>humanitni </td><td>0.29000003</td></tr>\n",
       "\t<tr><td>sportovni </td><td>0.29606861</td></tr>\n",
       "\t<tr><td>technicky </td><td>0.05373744</td></tr>\n",
       "</tbody>\n",
       "</table>\n"
      ],
      "text/latex": [
       "A tibble: 4 × 2\n",
       "\\begin{tabular}{ll}\n",
       " field & skew\\\\\n",
       " <chr> & <dbl>\\\\\n",
       "\\hline\n",
       "\t ekonomicky & 0.20780654\\\\\n",
       "\t humanitni  & 0.29000003\\\\\n",
       "\t sportovni  & 0.29606861\\\\\n",
       "\t technicky  & 0.05373744\\\\\n",
       "\\end{tabular}\n"
      ],
      "text/markdown": [
       "\n",
       "A tibble: 4 × 2\n",
       "\n",
       "| field &lt;chr&gt; | skew &lt;dbl&gt; |\n",
       "|---|---|\n",
       "| ekonomicky | 0.20780654 |\n",
       "| humanitni  | 0.29000003 |\n",
       "| sportovni  | 0.29606861 |\n",
       "| technicky  | 0.05373744 |\n",
       "\n"
      ],
      "text/plain": [
       "  field      skew      \n",
       "1 ekonomicky 0.20780654\n",
       "2 humanitni  0.29000003\n",
       "3 sportovni  0.29606861\n",
       "4 technicky  0.05373744"
      ]
     },
     "metadata": {},
     "output_type": "display_data"
    }
   ],
   "source": [
    "data %>% group_by(field) %>% summarise(skew = moments::skewness(dist_cleared,na.rm = TRUE))"
   ]
  },
  {
   "cell_type": "code",
   "execution_count": 54,
   "id": "661b7ea0-c38b-48b0-87ac-423f80add153",
   "metadata": {},
   "outputs": [
    {
     "data": {
      "text/plain": [
       "\n",
       "\tKruskal-Wallis rank sum test\n",
       "\n",
       "data:  data$dist_cleared by data$field\n",
       "Kruskal-Wallis chi-squared = 256.21, df = 3, p-value < 2.2e-16\n"
      ]
     },
     "metadata": {},
     "output_type": "display_data"
    }
   ],
   "source": [
    "kruskal.test(data$dist_cleared ~ data$field)"
   ]
  },
  {
   "cell_type": "code",
   "execution_count": 55,
   "id": "d263cdc1-90d6-4e63-ba31-a136c275ef42",
   "metadata": {},
   "outputs": [
    {
     "name": "stderr",
     "output_type": "stream",
     "text": [
      "## FSA v0.9.0. See citation('FSA') if used in publication.\n",
      "## Run fishR() for related website and fishR('IFAR') for related book.\n",
      "\n"
     ]
    }
   ],
   "source": [
    "library(FSA)"
   ]
  },
  {
   "cell_type": "code",
   "execution_count": 58,
   "id": "5a429e02-1663-4a0c-9519-8361b93a6b6b",
   "metadata": {},
   "outputs": [
    {
     "name": "stderr",
     "output_type": "stream",
     "text": [
      "Warning message:\n",
      "“data$field was coerced to a factor.”\n",
      "Warning message:\n",
      "“Some rows deleted from 'x' and 'g' because missing data.”\n",
      "Dunn (1964) Kruskal-Wallis multiple comparison\n",
      "\n",
      "  p-values adjusted with the Bonferroni method.\n",
      "\n",
      "\n"
     ]
    },
    {
     "data": {
      "text/plain": [
       "              Comparison           Z      P.unadj        P.adj\n",
       "1 ekonomicky - humanitni  -4.3236344 1.534796e-05 9.208775e-05\n",
       "2 ekonomicky - sportovni -13.6667860 1.603213e-42 9.619278e-42\n",
       "3  humanitni - sportovni  -9.3659146 7.539445e-21 4.523667e-20\n",
       "4 ekonomicky - technicky   0.4052398 6.853012e-01 1.000000e+00\n",
       "5  humanitni - technicky   4.7238673 2.314014e-06 1.388409e-05\n",
       "6  sportovni - technicky  14.0541566 7.264217e-45 4.358530e-44"
      ]
     },
     "metadata": {},
     "output_type": "display_data"
    }
   ],
   "source": [
    "dunnTest(data$dist_cleared ~ data$field,method = \"bonferroni\")"
   ]
  },
  {
   "cell_type": "code",
   "execution_count": 60,
   "id": "a8eece31-99c2-4fc9-8563-a91f32a89d4a",
   "metadata": {},
   "outputs": [
    {
     "data": {
      "text/html": [
       "<table class=\"dataframe\">\n",
       "<caption>A tibble: 4 × 2</caption>\n",
       "<thead>\n",
       "\t<tr><th scope=col>field</th><th scope=col>medians</th></tr>\n",
       "\t<tr><th scope=col>&lt;chr&gt;</th><th scope=col>&lt;dbl&gt;</th></tr>\n",
       "</thead>\n",
       "<tbody>\n",
       "\t<tr><td>ekonomicky</td><td>37.80</td></tr>\n",
       "\t<tr><td>humanitni </td><td>43.45</td></tr>\n",
       "\t<tr><td>sportovni </td><td>57.85</td></tr>\n",
       "\t<tr><td>technicky </td><td>38.00</td></tr>\n",
       "</tbody>\n",
       "</table>\n"
      ],
      "text/latex": [
       "A tibble: 4 × 2\n",
       "\\begin{tabular}{ll}\n",
       " field & medians\\\\\n",
       " <chr> & <dbl>\\\\\n",
       "\\hline\n",
       "\t ekonomicky & 37.80\\\\\n",
       "\t humanitni  & 43.45\\\\\n",
       "\t sportovni  & 57.85\\\\\n",
       "\t technicky  & 38.00\\\\\n",
       "\\end{tabular}\n"
      ],
      "text/markdown": [
       "\n",
       "A tibble: 4 × 2\n",
       "\n",
       "| field &lt;chr&gt; | medians &lt;dbl&gt; |\n",
       "|---|---|\n",
       "| ekonomicky | 37.80 |\n",
       "| humanitni  | 43.45 |\n",
       "| sportovni  | 57.85 |\n",
       "| technicky  | 38.00 |\n",
       "\n"
      ],
      "text/plain": [
       "  field      medians\n",
       "1 ekonomicky 37.80  \n",
       "2 humanitni  43.45  \n",
       "3 sportovni  57.85  \n",
       "4 technicky  38.00  "
      ]
     },
     "metadata": {},
     "output_type": "display_data"
    }
   ],
   "source": [
    "effects = data %>% group_by(field) %>% summarise(medians = median(dist_cleared,na.rm = TRUE))\n",
    "effects"
   ]
  },
  {
   "cell_type": "code",
   "execution_count": 61,
   "id": "c2bef96e-16cb-4d79-9c89-33c195b49047",
   "metadata": {},
   "outputs": [
    {
     "data": {
      "text/html": [
       "43"
      ],
      "text/latex": [
       "43"
      ],
      "text/markdown": [
       "43"
      ],
      "text/plain": [
       "[1] 43"
      ]
     },
     "metadata": {},
     "output_type": "display_data"
    }
   ],
   "source": [
    "total_median = median(data$dist_cleared,na.rm = TRUE)\n",
    "total_median"
   ]
  },
  {
   "cell_type": "code",
   "execution_count": 62,
   "id": "cd3d284a-67b3-4aca-9445-c86abf158d78",
   "metadata": {},
   "outputs": [
    {
     "data": {
      "text/html": [
       "<table class=\"dataframe\">\n",
       "<caption>A tibble: 4 × 3</caption>\n",
       "<thead>\n",
       "\t<tr><th scope=col>field</th><th scope=col>medians</th><th scope=col>effect</th></tr>\n",
       "\t<tr><th scope=col>&lt;chr&gt;</th><th scope=col>&lt;dbl&gt;</th><th scope=col>&lt;dbl&gt;</th></tr>\n",
       "</thead>\n",
       "<tbody>\n",
       "\t<tr><td>ekonomicky</td><td>37.80</td><td>-5.20</td></tr>\n",
       "\t<tr><td>humanitni </td><td>43.45</td><td> 0.45</td></tr>\n",
       "\t<tr><td>sportovni </td><td>57.85</td><td>14.85</td></tr>\n",
       "\t<tr><td>technicky </td><td>38.00</td><td>-5.00</td></tr>\n",
       "</tbody>\n",
       "</table>\n"
      ],
      "text/latex": [
       "A tibble: 4 × 3\n",
       "\\begin{tabular}{lll}\n",
       " field & medians & effect\\\\\n",
       " <chr> & <dbl> & <dbl>\\\\\n",
       "\\hline\n",
       "\t ekonomicky & 37.80 & -5.20\\\\\n",
       "\t humanitni  & 43.45 &  0.45\\\\\n",
       "\t sportovni  & 57.85 & 14.85\\\\\n",
       "\t technicky  & 38.00 & -5.00\\\\\n",
       "\\end{tabular}\n"
      ],
      "text/markdown": [
       "\n",
       "A tibble: 4 × 3\n",
       "\n",
       "| field &lt;chr&gt; | medians &lt;dbl&gt; | effect &lt;dbl&gt; |\n",
       "|---|---|---|\n",
       "| ekonomicky | 37.80 | -5.20 |\n",
       "| humanitni  | 43.45 |  0.45 |\n",
       "| sportovni  | 57.85 | 14.85 |\n",
       "| technicky  | 38.00 | -5.00 |\n",
       "\n"
      ],
      "text/plain": [
       "  field      medians effect\n",
       "1 ekonomicky 37.80   -5.20 \n",
       "2 humanitni  43.45    0.45 \n",
       "3 sportovni  57.85   14.85 \n",
       "4 technicky  38.00   -5.00 "
      ]
     },
     "metadata": {},
     "output_type": "display_data"
    }
   ],
   "source": [
    "effects$effect = effects$medians - total_median\n",
    "effects"
   ]
  },
  {
   "cell_type": "code",
   "execution_count": null,
   "id": "dadf6678-293f-414c-b977-bc56bb414ba7",
   "metadata": {},
   "outputs": [],
   "source": []
  }
 ],
 "metadata": {
  "kernelspec": {
   "display_name": "R",
   "language": "R",
   "name": "ir"
  },
  "language_info": {
   "codemirror_mode": "r",
   "file_extension": ".r",
   "mimetype": "text/x-r-source",
   "name": "R",
   "pygments_lexer": "r",
   "version": "4.1.3"
  }
 },
 "nbformat": 4,
 "nbformat_minor": 5
}
