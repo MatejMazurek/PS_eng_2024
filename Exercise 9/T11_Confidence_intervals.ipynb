{
 "cells": [
  {
   "cell_type": "markdown",
   "metadata": {},
   "source": [
    "# Exercise 9. Confidence Interval estimates (one sample) \n",
    "## Michal Béreš, Martina Litschmannová, Veronika Kubíčková\n",
    " \n"
   ]
  },
  {
   "cell_type": "markdown",
   "metadata": {},
   "source": [
    "# Demonstration - what is interval estimation?\n",
    " \n",
    "Consider a random variable following the normal distribution with a mean value of $\\mu$ and a standard deviation of $\\sigma$. We will work with selections from this random variable and using them we try to estimate the mean value of the distribution(here we know its true value, but in practice its value is unknown)."
   ]
  },
  {
   "cell_type": "code",
   "execution_count": null,
   "metadata": {},
   "outputs": [],
   "source": [
    "n = 30        # selection size\n",
    "mu = 100      # mean value\n",
    "sigma = 10    # st. deviation\n",
    "\n",
    "# simulation of random selection from a given random variable\n",
    "sample = rnorm(n = n, mean = mu, sd = sigma)\n",
    "\n",
    "X = mean(sample) # sampling average as a point estimate\n",
    "S = sd(sample)   # st. dev. of the sample\n",
    "X\n",
    "S"
   ]
  },
  {
   "cell_type": "markdown",
   "metadata": {},
   "source": [
    "For clarity, we can visualize the selection.\n",
    " \n"
   ]
  },
  {
   "cell_type": "code",
   "execution_count": null,
   "metadata": {},
   "outputs": [],
   "source": [
    "hist(sample)\n",
    "boxplot(sample)"
   ]
  },
  {
   "cell_type": "markdown",
   "metadata": {},
   "source": [
    "### The construction of the confidence interval estimation using a selection characteristic\n",
    " \n",
    "We will use this selection characteristic:(we assume that we do not know any real parameters of the distribution, only that it is following the normal distribution)\n",
    "\n",
    "$Y=\\frac{\\bar X - \\mu}{S}\\sqrt{n} \\sim t_{n-1}$<br>Since we know the distribution of Y, we are able to compute $a$ a $b$ in the following expression:<br>$P(a<Y<b)\\geq 1 - \\alpha$\n",
    " \n",
    "- $\\alpha$ is called the significance level(the probability that the searched value is outside our range)\n",
    "- $1-\\alpha$ is called the interval estimation reliability"
   ]
  },
  {
   "cell_type": "markdown",
   "metadata": {},
   "source": [
    "we pick $a$ a $b$ so that they are symmetric in probability, ie:\n",
    " \n",
    "- $P(Y<a)\\leq \\alpha / 2 \\rightarrow a=t_{\\alpha / 2;n-1}$\n",
    " \n",
    "- $P(b<Y)\\leq \\alpha / 2 \\rightarrow P(Y\\leq b)\\geq 1 - \\alpha / 2 \\rightarrow b=t_{1-\\alpha / 2;n-1}$\n",
    " \n"
   ]
  },
  {
   "cell_type": "code",
   "execution_count": null,
   "metadata": {},
   "outputs": [],
   "source": [
    "# maximum probability with which we allow\n",
    "# observations to lay outside the constructed interval\n",
    "alpha = 0.05 \n",
    "\n",
    "# relevant quantiles of the student's distribution\n",
    "t_low = qt(alpha/2, df = n-1)\n",
    "t_high = qt(1 - alpha/2, df = n-1)\n",
    "\n",
    "t_low\n",
    "t_high"
   ]
  },
  {
   "cell_type": "markdown",
   "metadata": {},
   "source": [
    "Next we just add to the expression and modify:\n",
    "\n",
    "$P(t_{\\alpha / 2;n-1}<\\frac{\\bar X - \\mu}{S}\\sqrt{n}<t_{1-\\alpha / 2;n-1})\\geq 1 - \\alpha$\n",
    "\n",
    "$P(\\bar X - t_{1-\\alpha / 2;n-1}\\frac{S}{\\sqrt{n}}<\\mu<\\bar X - t_{\\alpha / 2;n-1}\\frac{S}{\\sqrt{n}})\\geq 1 - \\alpha$"
   ]
  },
  {
   "cell_type": "code",
   "execution_count": null,
   "metadata": {},
   "outputs": [],
   "source": [
    "I_lower = X - t_high*S/sqrt(n)\n",
    "I_upper = X - t_low*S/sqrt(n)\n",
    "paste(\"P(\", I_lower, \" < µ < \", I_upper, \") ≥ \", 1-alpha)"
   ]
  },
  {
   "cell_type": "markdown",
   "metadata": {},
   "source": [
    "This particular estimate can also be obtained using the R function t.test:"
   ]
  },
  {
   "cell_type": "code",
   "execution_count": null,
   "metadata": {},
   "outputs": [],
   "source": [
    "t.test(sample, alternative = 'two.sided', conf.level = 1-alpha)$conf.int"
   ]
  },
  {
   "cell_type": "markdown",
   "metadata": {},
   "source": [
    "### Testing confidence intervals on multiple samples\n",
    "We demonstrate what confidence level means."
   ]
  },
  {
   "cell_type": "code",
   "execution_count": null,
   "metadata": {},
   "outputs": [],
   "source": [
    "n_selections = 100 # number of selections\n",
    "\n",
    "n = 30             # selection size\n",
    "mu = 100           # mean value\n",
    "sigma = 10         # guided. deviation.\n",
    "\n",
    "alpha = 0.05        # significance level\n",
    "\n",
    "# relevant quantiles of the student's distribution\n",
    "t_low = qt(alpha/2, df = n-1)\n",
    "t_high = qt(1 - alpha/2, df = n-1)\n",
    "\n",
    "# plot of the actual mean value\n",
    "plot(c(1, n_selections), c(mu, mu), type = 'l', ylim = c(90,110))\n",
    "\n",
    "count_failed = 0\n",
    "# cycle through individual selections\n",
    "for(i in 1:n_selections){\n",
    "    vyber = rnorm(n = n, mean = mu, sd = sigma)\n",
    "    X = mean(vyber)\n",
    "    S = sd(vyber)\n",
    "    I_lower = X - t_high*S/sqrt(n)\n",
    "    I_upper = X - t_low*S/sqrt(n)\n",
    "    \n",
    "    # select the plot color, depending on whether the CI contains the mean\n",
    "    if( I_lower<mu & mu<I_upper){color = \"blue\"}\n",
    "    else{color = \"red\"\n",
    "         count_failed = count_failed + 1}\n",
    "    # plot the CI as a vertical line\n",
    "    lines(c(i, i), c(I_lower, I_upper), col=color)  \n",
    "}\n",
    "paste('alpha = ', alpha, ', ratio of failures of CI = ', \n",
    "      count_failed/n_selections)"
   ]
  },
  {
   "cell_type": "markdown",
   "metadata": {},
   "source": [
    "# Types of interval estimates\n",
    " \n",
    "Examples of estimating the mean value of data from a normal distribution.\n",
    " \n",
    "## Bottom/Left IC\n",
    " \n",
    "- $P(M_D^* < \\mu) = 1-\\alpha$\n",
    "- in R **alternative=\"greater\"**"
   ]
  },
  {
   "cell_type": "code",
   "execution_count": null,
   "metadata": {},
   "outputs": [],
   "source": [
    "sample = rnorm(n = 30, mean = 100, sd = 10)\n",
    "alpha = 0.05\n",
    "t.test(sample, alternative = 'greater', conf.level = 1-alpha)$conf.int"
   ]
  },
  {
   "cell_type": "markdown",
   "metadata": {},
   "source": [
    "## Top/Right IO\n",
    " \n",
    "- $P(\\mu < M_H^*) = 1-\\alpha$\n",
    "- in R **alternative=\"less\"**"
   ]
  },
  {
   "cell_type": "code",
   "execution_count": null,
   "metadata": {},
   "outputs": [],
   "source": [
    "sample = rnorm(n = 30, mean = 100, sd = 10)\n",
    "alpha = 0.05\n",
    "t.test(sample, alternative = 'less', conf.level = 1-alpha)$conf.int"
   ]
  },
  {
   "cell_type": "markdown",
   "metadata": {},
   "source": [
    "## Double-sided IC\n",
    " \n",
    "- $P(M_D < \\mu < M_H) = 1-\\alpha$\n",
    "- in R **alternative=\"two.sided\"**"
   ]
  },
  {
   "cell_type": "code",
   "execution_count": null,
   "metadata": {},
   "outputs": [],
   "source": [
    "sample = rnorm(n = 30, mean = 100, sd = 10)\n",
    "alpha = 0.05\n",
    "t.test(sample, alternative = 'two.sided', conf.level = 1-alpha)$conf.int"
   ]
  },
  {
   "cell_type": "markdown",
   "metadata": {},
   "source": [
    "# Overview of selection parameters and their point/interval estimates\n",
    " \n",
    "We usually have more CI constructions(functions in R that will do this for us), but each construction has different data requirements and produces different \"quality\"(in terms of IO size) estimates. We will always select the \"best quality\" CI that **has met** the prerequisites for use.\n",
    "\n",
    "The order of the various CIs below will always be from \"best\" to most robust.\n",
    " \n",
    "## Position measures of one selection\n",
    " \n",
    "By position measures we mean measures that determines the position of the data. For data from the normal distribution we can estimate the mean value, for others the median.\n",
    " \n",
    "#### a) student's CI using t-test\n",
    " \n",
    "- we estimate the mean value - the point estimate is the sample average\n",
    "- the data must come from a normal distribution\n",
    "- exploratory: skewness and sharpness lie in(-2,2)\n",
    "- exploratory: The QQ graph has points approximately on the line\n",
    "- exact: using a statistical test, eg Shapiro-Wilk test(shapiro.test(data))"
   ]
  },
  {
   "cell_type": "code",
   "execution_count": null,
   "metadata": {},
   "outputs": [],
   "source": [
    "sample = rnorm(n = 30, mean = 100, sd = 10)\n",
    "alpha = 0.05"
   ]
  },
  {
   "cell_type": "code",
   "execution_count": null,
   "metadata": {},
   "outputs": [],
   "source": [
    "# exploratory normality test\n",
    "# library(moments) - we can avoid this by calling moments ::\n",
    "# it's safer - we're sure we're calling a feature from this package\n",
    "moments::skewness(sample)\n",
    "moments::kurtosis(sample) - 3\n",
    "qqnorm(sample)\n",
    "qqline(sample)"
   ]
  },
  {
   "cell_type": "code",
   "execution_count": null,
   "metadata": {},
   "outputs": [],
   "source": [
    "# exact data normality test\n",
    "shapiro.test(sample)$p.value\n",
    "# the resulting p-value must be greater than significance level(eg 0.05)"
   ]
  },
  {
   "cell_type": "code",
   "execution_count": null,
   "metadata": {},
   "outputs": [],
   "source": [
    "# point estimate\n",
    "mean(sample)\n",
    "# IO\n",
    "t.test(sample, alternative = 'two.sided', conf.level = 1-alpha)$conf.int"
   ]
  },
  {
   "cell_type": "markdown",
   "metadata": {},
   "source": [
    "#### b) Wilcoxn CI test\n",
    " \n",
    "- we estimate the median - the point estimate is the sample median\n",
    "- the data must come from a symmetric distribution\n",
    "- exploratory: the skewness lies in(-2,2)\n",
    "- exploratory: the histogram looks approximately symmetrical\n",
    "- function in Rk requires additional parameter(conf.int=TRUE)"
   ]
  },
  {
   "cell_type": "code",
   "execution_count": null,
   "metadata": {},
   "outputs": [],
   "source": [
    "sample = runif(n = 30, min = 80, max = 120)\n",
    "alpha = 0.05"
   ]
  },
  {
   "cell_type": "code",
   "execution_count": null,
   "metadata": {},
   "outputs": [],
   "source": [
    "# exploratory\n",
    "moments::skewness(sample)\n",
    "hist(sample, breaks = 6)"
   ]
  },
  {
   "cell_type": "code",
   "execution_count": null,
   "metadata": {},
   "outputs": [],
   "source": [
    "# point estimate\n",
    "quantile(sample, probs = 0.5)\n",
    "# or median(sample)\n",
    "# IO\n",
    "wilcox.test(sample, alternative = 'two.sided', conf.level = 1-alpha, \n",
    "            conf.int = TRUE)$conf.int"
   ]
  },
  {
   "cell_type": "markdown",
   "metadata": {},
   "source": [
    "#### c) sign test IO test\n",
    " \n",
    "- we estimate the median - the point estimate is the sample median\n",
    "- if we cannot use previous tests (no normality, no symmetry)\n",
    "- function in R requires additional parameter(conf.int=TRUE)\n",
    "- requires \"BSDA\" library\n",
    "- as the most robust test, it can also be used for discontinuous data - eg order in a list"
   ]
  },
  {
   "cell_type": "code",
   "execution_count": null,
   "metadata": {},
   "outputs": [],
   "source": [
    "sample = rexp(n = 30, rate = 1/100)\n",
    "alpha = 0.05"
   ]
  },
  {
   "cell_type": "code",
   "execution_count": null,
   "metadata": {},
   "outputs": [],
   "source": [
    "# true median\n",
    "qexp(p = 0.5, rate = 1/100)"
   ]
  },
  {
   "cell_type": "code",
   "execution_count": null,
   "metadata": {},
   "outputs": [],
   "source": [
    "# point estimate\n",
    "# quantile(select, probs=0.5)\n",
    "median(sample)\n",
    "# IO\n",
    "# install.packages(\"BSDA\")\n",
    "BSDA::SIGN.test(sample, alternative = 'two.sided', conf.level = 1-alpha, \n",
    "          conf.int = TRUE)$conf.int"
   ]
  },
  {
   "cell_type": "markdown",
   "metadata": {},
   "source": [
    "## Measures of variability of one selection\n",
    " \n",
    "By measures of variability we mean measures determining the dispersion/variability of the data. For data from the normal distribution, we can estimate the standard deviation.\n",
    " \n",
    "#### IO standard deviations\n",
    " \n",
    "- we estimate the standard deviation - the point estimate is the sample standard deviation\n",
    "- the data must come from a normal distribution\n",
    "- exploratory: skewness and kurtosis lie in(-2,2)\n",
    "- exploratory: The QQ graph has points approximately on the line\n",
    "- exactly: using a statistical test, eg Shapiro-Wilk test(shapiro.test(data))\n",
    "- requires \"EnvStats\" package\n",
    "- function in R, gives the calculation of variance - the square root of the result is necessary"
   ]
  },
  {
   "cell_type": "code",
   "execution_count": null,
   "metadata": {},
   "outputs": [],
   "source": [
    "sample = rnorm(n = 30, mean = 100, sd = 10)\n",
    "alpha = 0.05"
   ]
  },
  {
   "cell_type": "code",
   "execution_count": null,
   "metadata": {},
   "outputs": [],
   "source": [
    "# exploratory normality test\n",
    "moments::skewness(sample)\n",
    "moments::kurtosis(sample) - 3\n",
    "qqnorm(sample)\n",
    "qqline(sample)"
   ]
  },
  {
   "cell_type": "code",
   "execution_count": null,
   "metadata": {},
   "outputs": [],
   "source": [
    "# exact data normality test\n",
    "shapiro.test(sample)$p.value\n",
    "# the resulting p-value must be greater than (eg 0.05)"
   ]
  },
  {
   "cell_type": "code",
   "execution_count": null,
   "metadata": {},
   "outputs": [],
   "source": [
    "# point estimate\n",
    "sd(sample)\n",
    "# CI\n",
    "# install.packages(\"EnvStats\")\n",
    "result = EnvStats::varTest(sample, alternative = 'two.sided', conf.level = 1-alpha)$conf.int\n",
    "sqrt(result)"
   ]
  },
  {
   "cell_type": "markdown",
   "metadata": {},
   "source": [
    "## Probability of occurrence with one selection\n",
    " \n",
    "#### CI probability\n",
    " \n",
    "- we estimate the probability - the point estimate is the relative frequency\n",
    "- we need enough data: $n>\\frac{9}{p(1-p)}$\n",
    "- we have a lot of different options: \n",
    "    - Clopper - Pearson estimate(binom.test) **preferred one**\n",
    "        - does not take data as a parameter, but the number of successes and the number of observations\n",
    "    - Wald's - from selection characteristics using normal distribution"
   ]
  },
  {
   "cell_type": "code",
   "execution_count": null,
   "metadata": {},
   "outputs": [],
   "source": [
    "pi = 0.3\n",
    "n = 60\n",
    "alpha = 0.05\n",
    "sample = runif(n = n, min = 0, max = 1) < pi"
   ]
  },
  {
   "cell_type": "code",
   "execution_count": null,
   "metadata": {},
   "outputs": [],
   "source": [
    "# verification of assumptions\n",
    "p = mean(sample)\n",
    "p\n",
    "9/(p*(1-p))"
   ]
  },
  {
   "cell_type": "code",
   "execution_count": null,
   "metadata": {},
   "outputs": [],
   "source": [
    "# point estimate\n",
    "p\n",
    "# Clopper - Pearson interval estimation\n",
    "sample_size = length(sample)\n",
    "n_successes = sum(sample)\n",
    "binom.test(x = n_successes, n = sample_size, alternative = 'two.sided', \n",
    "           conf.level = 1 - alpha)$conf.int"
   ]
  },
  {
   "cell_type": "code",
   "execution_count": null,
   "metadata": {},
   "outputs": [],
   "source": [
    "# Wald's interval estimation\n",
    "dol_q = qnorm(alpha/2)\n",
    "hor_q = qnorm(1-alpha/2)\n",
    "\n",
    "p - hor_q*sqrt(p*(1-p)/n)   # lower IO limit\n",
    "p - dol_q*sqrt(p*(1-p)/n)       # upper IO limit\n"
   ]
  },
  {
   "cell_type": "code",
   "execution_count": null,
   "metadata": {},
   "outputs": [],
   "source": [
    "# Calculation of the 11 most frequently used confidence intervals param. bin. distribution\n",
    "# using binom package\n",
    "# install.packages(\"binom\")\n",
    "binom::binom.confint(n = sample_size, x = n_successes)"
   ]
  },
  {
   "cell_type": "markdown",
   "metadata": {},
   "source": [
    "# Examples"
   ]
  },
  {
   "cell_type": "code",
   "execution_count": null,
   "metadata": {},
   "outputs": [],
   "source": [
    "# we may need theese\n",
    "library(dplyr)\n",
    "library(rstatix)"
   ]
  },
  {
   "cell_type": "markdown",
   "metadata": {},
   "source": [
    " \n",
    "## Example 1.\n",
    " \n",
    "During control tests of 16 light bulbs, an estimate of the mean value of $\\bar x$=3,000 hours and the standard deviation s=20 hours of their service life were determined. Assuming that the lamp life has a normal distribution, determine a 90% interval estimate for the mean value µ.\n",
    " "
   ]
  },
  {
   "cell_type": "code",
   "execution_count": null,
   "metadata": {},
   "outputs": [],
   "source": [
    "# We estimate the mean value of the lamp life\n",
    "# Part of the input is information about data normality\n",
    "\n",
    "n = 16         # sample size\n",
    "x.bar = 3000   # hours.... average(point estimate of mean value)\n",
    "s = 20         # hours.... sample standard deviation(point estimate of standard deviation)\n",
    "alpha = 0.1    # significance level(reliability 1-alpha=0.9)\n"
   ]
  },
  {
   "cell_type": "code",
   "execution_count": null,
   "metadata": {},
   "outputs": [],
   "source": [
    "# two sided interval estimate of the mean\n",
    "dol_q = qt(alpha/2,n-1)\n",
    "hor_q = qt(1 - alpha/2,n-1)\n",
    "\n",
    "x.bar - hor_q*s/sqrt(n)   # lower limit of IO\n",
    "x.bar - dol_q*s/sqrt(n)   # upper limit of IO\n"
   ]
  },
  {
   "cell_type": "markdown",
   "metadata": {},
   "source": [
    "## Example 2.\n",
    " \n",
    "The depth of the sea is measured with an instrument whose systematic error is zero and the random errors have a normal distribution with a standard deviation of 20 m. How many measurements do we need to take if we need 95% confidence interval of maximum size 20m = $<\\overline{X}-10,\\overline{X}+10>$.\n",
    " \n"
   ]
  },
  {
   "cell_type": "markdown",
   "metadata": {},
   "source": [
    "Remember:\n",
    "\n",
    "Confidence interval have the form of: $P(\\bar X - z_{1-\\alpha / 2}\\frac{S}{\\sqrt{n}}<\\mu<\\bar X - z_{\\alpha / 2}\\frac{S}{\\sqrt{n}})\\geq 1 - \\alpha$"
   ]
  },
  {
   "cell_type": "code",
   "execution_count": null,
   "metadata": {},
   "outputs": [],
   "source": [
    "# We determine the estimate of the required selection range(number of required measurements)\n",
    "\n",
    "# We assume data normality, with known variance(according to assignment)\n",
    "\n",
    "sigma = 20   # meters.... known standard deviation\n",
    "alpha = 0.05 # significance level(reliability 1-alpha=0.95)\n",
    "delta = 10   # meters... permissible measurement error\n",
    "\n",
    "# Estimate selection range\n",
    "# we need to find n such z*S/sqrt(n)>10, \n",
    "# where z is 1-alpha/2 quantile of the normal distribution\n",
    "z_alpha = qnorm(1 - alpha/2,0,1)\n",
    "(z_alpha*sigma/delta)^2 "
   ]
  },
  {
   "cell_type": "markdown",
   "metadata": {},
   "source": [
    "## Example 3.\n",
    " \n",
    "Suppose that in a random selection of 200 young men, 120 of them have higher than recommended serum cholesterol levels. Determine a 95% confidence interval for the percentage of young men with higher cholesterol levels in the population.\n",
    " \n"
   ]
  },
  {
   "cell_type": "code",
   "execution_count": null,
   "metadata": {},
   "outputs": [],
   "source": [
    "# We estimate the proportion of men with higher cholesterol levels in the entire population,\n",
    "# ie the probability that a randomly selected man will have a higher cholesterol level\n",
    "\n",
    "n = 200  # file range\n",
    "x = 120  # number of \"successes\"\n",
    "p = x/n  # relative frequency(probability point estimate)\n",
    "p\n",
    "alpha = 0.05 # significance level(reliability 1-alpha=0.95)"
   ]
  },
  {
   "cell_type": "code",
   "execution_count": null,
   "metadata": {},
   "outputs": [],
   "source": [
    "# Verification of assumptions\n",
    "9/(p*(1-p))"
   ]
  },
  {
   "cell_type": "code",
   "execution_count": null,
   "metadata": {},
   "outputs": [],
   "source": [
    "# two sided Clopper - Pearson(exact) int. Estimate param. binom. distribution\n",
    "binom.test(x,n,alternative=\"two.sided\",conf.level=0.95)$conf.int"
   ]
  },
  {
   "cell_type": "markdown",
   "metadata": {},
   "source": [
    "## Example 4.\n",
    " \n",
    "In a research study, we are working with a random selection of 70 women from the Czech population. Hemoglobin was measured in each of the women with an accuracy of 0.1 g/100 ml. The measured values are listed in the Hemoglobin.xls file. Find 95% interval estimates of standard deviation and mean hemoglobin in the population of Czech women.(Check the normality based on the exploration graphs.)\n",
    " \n"
   ]
  },
  {
   "cell_type": "code",
   "execution_count": null,
   "metadata": {},
   "outputs": [],
   "source": [
    "# We estimate the mean and standard deviation of hemoglobin in serum\n",
    "\n",
    "# Read data from xlsx file(using readxl package)\n",
    "hem = readxl::read_excel(\"data/intervalove_odhady.xlsx\",\n",
    "                  sheet = \"Hemoglobin\")\n",
    "head(hem)"
   ]
  },
  {
   "cell_type": "code",
   "execution_count": null,
   "metadata": {},
   "outputs": [],
   "source": [
    "# lets rename the column for easier work\n",
    "colnames(hem) = \"value\""
   ]
  },
  {
   "cell_type": "code",
   "execution_count": null,
   "metadata": {},
   "outputs": [],
   "source": [
    "# Exploratory analysis\n",
    "boxplot(hem$value)\n",
    "# no outliers"
   ]
  },
  {
   "cell_type": "code",
   "execution_count": null,
   "metadata": {},
   "outputs": [],
   "source": [
    "# Verification of normality - exploratory\n",
    "qqnorm(hem$value)\n",
    "qqline(hem$value)\n",
    "\n",
    "moments::skewness(hem$value)\n",
    "moments::kurtosis(hem$value) - 3\n",
    "# Both skew and sharpness meet the standards. distribution."
   ]
  },
  {
   "cell_type": "code",
   "execution_count": null,
   "metadata": {},
   "outputs": [],
   "source": [
    "# normality verification: exact - normality test.\n",
    "# Shapirs. Wilk's test.\n",
    "shapiro.test(hem$value)$p.value\n",
    "# we cannot reject normality at significance 0.05"
   ]
  },
  {
   "cell_type": "code",
   "execution_count": null,
   "metadata": {},
   "outputs": [],
   "source": [
    "# 95% two sided interval estimate of the mean\n",
    "mean(hem$value)\n",
    "t.test(hem$value, altarnative=\"two.sided\", conf.level=0.95)$conf.int"
   ]
  },
  {
   "cell_type": "code",
   "execution_count": null,
   "metadata": {},
   "outputs": [],
   "source": [
    "# # 95% two-way interval standard deviation estimate\n",
    "sd(hem$value)\n",
    "sqrt(EnvStats::varTest(hem$value, alternative = \"two.sided\", conf.level = 0.95)$conf.int)"
   ]
  },
  {
   "cell_type": "markdown",
   "metadata": {},
   "source": [
    "## Example 5.\n",
    " \n",
    "In the data file pr7.xlsx you will find the measurement of noise caused by the computer fan [dB]. Calculate the 95% interval estimate of the average noise and the 95% interval estimate of the noise variability.\n",
    " \n"
   ]
  },
  {
   "cell_type": "code",
   "execution_count": null,
   "metadata": {},
   "outputs": [],
   "source": [
    "# read data\n",
    "data = readxl::read_excel(\"data/pr7.xlsx\")\n",
    "head(data)"
   ]
  },
  {
   "cell_type": "code",
   "execution_count": null,
   "metadata": {},
   "outputs": [],
   "source": [
    "# visualization\n",
    "boxplot(data$dB)\n",
    "# there is an outlier!!"
   ]
  },
  {
   "cell_type": "code",
   "execution_count": null,
   "metadata": {},
   "outputs": [],
   "source": [
    "# removal of OP\n",
    "outliers = data %>% identify_outliers(dB)\n",
    "outliers\n",
    "\n",
    "data$dB_no_outliar = ifelse(data$ID %in% outliers$ID,NA,data$dB)\n",
    "\n",
    "boxplot(data$dB_no_outliar)"
   ]
  },
  {
   "cell_type": "code",
   "execution_count": null,
   "metadata": {},
   "outputs": [],
   "source": [
    "# data normality test exploratory\n",
    "moments::skewness(data$dB_no_outliar, na.rm = TRUE)\n",
    "moments::kurtosis(data$dB_no_outliar, na.rm = TRUE) - 3\n",
    "\n",
    "qqnorm(data$dB_no_outliar)\n",
    "qqline(data$dB_no_outliar)"
   ]
  },
  {
   "cell_type": "code",
   "execution_count": null,
   "metadata": {},
   "outputs": [],
   "source": [
    "# normality test exactly\n",
    "shapiro.test(data$dB_no_outliar)$p.value"
   ]
  },
  {
   "cell_type": "code",
   "execution_count": null,
   "metadata": {},
   "outputs": [],
   "source": [
    "# point and interval estimation of the mean\n",
    "mean(data$dB_no_outliar, na.rm = TRUE)\n",
    "\n",
    "t.test(data$dB_no_outliar, alternative = \"two.sided\", conf.level = 0.95)$conf.int"
   ]
  },
  {
   "cell_type": "code",
   "execution_count": null,
   "metadata": {},
   "outputs": [],
   "source": [
    "# point and interval estimation of the standard deviation\n",
    "sd(data$dB_no_outliar, na.rm = TRUE)\n",
    "\n",
    "res = EnvStats::varTest(data$dB_no_outliar,alternative = \"two.sided\", conf.level = 0.95)\n",
    "sqrt(res$conf.int)"
   ]
  },
  {
   "cell_type": "markdown",
   "metadata": {},
   "source": [
    "## Example 6.\n",
    " \n",
    "In the data file pr8.xlsx you will find the measurement of the time to failure of the electrical component [h]. Calculate the 99% interval estimate of the average life of a given component type.\n",
    " \n"
   ]
  },
  {
   "cell_type": "code",
   "execution_count": null,
   "metadata": {},
   "outputs": [],
   "source": [
    "# read data\n",
    "data = readxl::read_excel(\"data/pr8.xlsx\")\n",
    "head(data)"
   ]
  },
  {
   "cell_type": "code",
   "execution_count": null,
   "metadata": {},
   "outputs": [],
   "source": [
    "# visualization and verification of OP\n",
    "boxplot(data$cas_h)\n",
    "# there is an outliar, but is it really \"bad\" value?\n",
    "# cannot we assume that the data came from exponential dist.?"
   ]
  },
  {
   "cell_type": "code",
   "execution_count": null,
   "metadata": {},
   "outputs": [],
   "source": [
    "hist(data$cas_h)\n",
    "# looks very likeli as exponential distr. \n",
    "# we keep the outliar as its not really outliar\n",
    "# we already know we dont have normality and symmetry"
   ]
  },
  {
   "cell_type": "code",
   "execution_count": null,
   "metadata": {},
   "outputs": [],
   "source": [
    "# data normality test exploratory\n",
    "moments::skewness(data$cas_h)\n",
    "moments::kurtosis(data$cas_h) - 3\n",
    "\n",
    "qqnorm(data$cas_h)\n",
    "qqline(data$cas_h)"
   ]
  },
  {
   "cell_type": "code",
   "execution_count": null,
   "metadata": {},
   "outputs": [],
   "source": [
    "# median point and interval estimation\n",
    "median(data$cas_h)\n",
    "# IO\n",
    "# install.packages(\"BSDA\")\n",
    "alpha = 0.01\n",
    "BSDA::SIGN.test(data$cas_h, alternative = 'two.sided', conf.level = 1-alpha, \n",
    "          conf.int = TRUE)$conf.int"
   ]
  },
  {
   "cell_type": "markdown",
   "metadata": {},
   "source": [
    "## Example from slides - 2\n",
    "Company FactoryX produces packages with cocoa. The weight (in grams) of a randomly chosen packages is recorded in the dataset (cocoa.csv). Perform EDA and the two-sided 95% confidence interval for the mean weight of the packages from the whole production (or for median if necessary)."
   ]
  },
  {
   "cell_type": "code",
   "execution_count": null,
   "metadata": {},
   "outputs": [],
   "source": [
    "data = read.csv2(\"data/cocoa.csv\")\n",
    "head(data)"
   ]
  },
  {
   "cell_type": "code",
   "execution_count": null,
   "metadata": {},
   "outputs": [],
   "source": [
    "boxplot(data$weight)"
   ]
  },
  {
   "cell_type": "code",
   "execution_count": null,
   "metadata": {},
   "outputs": [],
   "source": [
    "shapiro.test(data$weight)"
   ]
  },
  {
   "cell_type": "code",
   "execution_count": null,
   "metadata": {},
   "outputs": [],
   "source": [
    "t.test(data$weight, alternative = \"two.sided\")"
   ]
  },
  {
   "cell_type": "markdown",
   "metadata": {},
   "source": [
    "## Example from slides - 3\n",
    "Let's assume, that 30 out of 100 asked students in our university are smokers. What is the two-sided 95% confidence interval of the proportion of smokers among all university students? (The source data are also available in smokers.csv.)"
   ]
  },
  {
   "cell_type": "code",
   "execution_count": null,
   "metadata": {},
   "outputs": [],
   "source": [
    "data = read.csv2(\"data/smokers.csv\")\n",
    "head(data)"
   ]
  },
  {
   "cell_type": "code",
   "execution_count": null,
   "metadata": {},
   "outputs": [],
   "source": [
    "tab = table(data$Smokers)\n",
    "tab"
   ]
  },
  {
   "cell_type": "code",
   "execution_count": null,
   "metadata": {},
   "outputs": [],
   "source": [
    "n = sum(tab)\n",
    "n\n",
    "x = tab['Y']\n",
    "x"
   ]
  },
  {
   "cell_type": "code",
   "execution_count": null,
   "metadata": {},
   "outputs": [],
   "source": [
    "p = x/n\n",
    "p\n",
    "9/(p*(1-p))"
   ]
  },
  {
   "cell_type": "code",
   "execution_count": null,
   "metadata": {},
   "outputs": [],
   "source": [
    "binom.test(x,n,alternative=\"two.sided\",conf.level=0.95)"
   ]
  },
  {
   "cell_type": "markdown",
   "metadata": {},
   "source": [
    "## Example from slides - 4\n",
    "The hospital observed 50 patients with lung cancer and recorded their survival time in years (time.csv). Find the left-sided 95% confidence interval for the mean time of survival (or for median if necessary)."
   ]
  },
  {
   "cell_type": "code",
   "execution_count": null,
   "metadata": {},
   "outputs": [],
   "source": [
    "data = read.csv2(\"data/time.csv\")\n",
    "head(data)"
   ]
  },
  {
   "cell_type": "code",
   "execution_count": null,
   "metadata": {},
   "outputs": [],
   "source": [
    "boxplot(data$values)"
   ]
  },
  {
   "cell_type": "code",
   "execution_count": null,
   "metadata": {},
   "outputs": [],
   "source": [
    "shapiro.test(data$values)"
   ]
  },
  {
   "cell_type": "code",
   "execution_count": null,
   "metadata": {},
   "outputs": [],
   "source": [
    "moments::skewness(data$values)\n",
    "hist(data$values)\n",
    "# no normality, but we can assume symmetry"
   ]
  },
  {
   "cell_type": "code",
   "execution_count": null,
   "metadata": {},
   "outputs": [],
   "source": [
    "median(data$values)\n",
    "wilcox.test(data$values,alternative = \"greater\",conf.int = TRUE, conf.level = 0.95)$conf.int"
   ]
  }
 ],
 "metadata": {
  "kernelspec": {
   "display_name": "R",
   "language": "R",
   "name": "ir"
  },
  "language_info": {
   "codemirror_mode": "r",
   "file_extension": ".r",
   "mimetype": "text/x-r-source",
   "name": "R",
   "pygments_lexer": "r",
   "version": "4.1.3"
  }
 },
 "nbformat": 4,
 "nbformat_minor": 4
}
