{
 "cells": [
  {
   "cell_type": "code",
   "execution_count": 25,
   "metadata": {},
   "outputs": [],
   "source": [
    "import json\n",
    "import numpy as np\n",
    "import os\n",
    "import glob"
   ]
  },
  {
   "cell_type": "code",
   "execution_count": 26,
   "metadata": {},
   "outputs": [],
   "source": [
    "folder = 'Exercise '\n",
    "files = glob.iglob('../' + folder + '**/*.ipynb', recursive=True)\n",
    "all_files_n = list()\n",
    "for file in files:\n",
    "    all_files_n.append(file[:-6])\n",
    "  "
   ]
  },
  {
   "cell_type": "code",
   "execution_count": 27,
   "metadata": {},
   "outputs": [
    {
     "name": "stdout",
     "output_type": "stream",
     "text": [
      "../Exercise 4/T6_random_vector\n",
      "../Exercise 4/T5_continuous_RV\n",
      "../Exercise 5/T7_selected_DRV\n",
      "../Exercise 10/T12_hypothesis_testing1\n",
      "../Exercise 11/T13_hypothesis_testing2\n",
      "../Exercise 9/T11_estimation_theory2\n",
      "../Exercise 8/T10_estimation_theory1\n",
      "../Exercise 2/T3_probability\n",
      "../Exercise 7/T9_EDA\n",
      "../Exercise 3/T4_discrete_RV\n",
      "../Exercise 13/T15_contingency_tables\n",
      "../Exercise 1/T2_combinatorics\n",
      "../Exercise 1/T1_Rintro\n",
      "../Exercise 6/T8_selected_CRV\n",
      "../Exercise 12/T14_hypothesis_testing3\n",
      "../Exercise 12/T14_hypothesis_testing3_extra\n"
     ]
    }
   ],
   "source": [
    "for filename in all_files_n:\n",
    "    print(filename)\n",
    "    velikost_radku_intro = 86\n",
    "\n",
    "    json_file = open(filename + '.ipynb')\n",
    "    data = json.load(json_file)\n",
    "\n",
    "    all_cells = data['cells']\n",
    "    out_list = list()\n",
    "\n",
    "    intro = all_cells.pop(0)\n",
    "    zdroj_intro = intro['source']\n",
    "\n",
    "    out_list.append('# '+'.'*velikost_radku_intro + '\\n')\n",
    "    tmp_text = zdroj_intro[0][2:].replace('\\n','')\n",
    "    n = len(tmp_text)\n",
    "    rem = (velikost_radku_intro - n)/2\n",
    "    out_list.append('# ' + '.'*int(np.ceil(rem)) + tmp_text + '.'*int(np.floor(rem)) + '\\n')\n",
    "    tmp_text = zdroj_intro[1][3:].replace('\\n','')\n",
    "    n = len(tmp_text)\n",
    "    rem = (velikost_radku_intro - n)/2\n",
    "    out_list.append('# ' + '.'*int(np.ceil(rem)) + tmp_text + '.'*int(np.floor(rem)) + '\\n')\n",
    "    out_list.append('# '+'.'*velikost_radku_intro + '\\n')\n",
    "    out_list.append('\\n')\n",
    "\n",
    "    out_list.append ('# If text does not display correctly, set File \\Reopen with Encoding ... to UTF-8 \\n')\n",
    "    out_list.append ('# Use CTRL + SHIFT + O to display the contents of the script \\n')\n",
    "    out_list.append ('# Use CTRL + ENTER to run commands on a single line \\n')\n",
    "    out_list.append('\\n')\n",
    "\n",
    "    for one_cell in all_cells:\n",
    "        if one_cell['cell_type'] == 'markdown':\n",
    "            for line in one_cell['source']:\n",
    "                if line[0:2] == '![':\n",
    "                    out_list.append('# For picture see jupyter notebook.\\n')\n",
    "                else:\n",
    "                    loc_line = line.replace('\\n','')\n",
    "                    sub_lines = list()\n",
    "                    while len(loc_line)>velikost_radku_intro:\n",
    "                        temp_start = loc_line[0:velikost_radku_intro]\n",
    "                        if loc_line[velikost_radku_intro] != ' ':\n",
    "                            idx = temp_start.rfind(' ')\n",
    "                            if idx == -1:\n",
    "                                idx = temp_start.rfind('/')\n",
    "                                temp_start = temp_start[:idx]\n",
    "                                loc_line = loc_line[idx:]\n",
    "                            else:\n",
    "                                temp_start = temp_start[:idx]\n",
    "                                loc_line = loc_line[(idx+1):]                            \n",
    "                        else:\n",
    "                            loc_line = loc_line[(velikost_radku_intro+1):]\n",
    "                        sub_lines.append(temp_start)\n",
    "                    sub_lines.append(loc_line)\n",
    "                    for r_line in sub_lines:     \n",
    "                        for i in range(4,0,-1):\n",
    "                            if r_line.find('#'*i)>-1:\n",
    "                                r_line = r_line.replace('#'*i,'*'*(i-1)) + '----'                  \n",
    "                        out_list.append('# ' + r_line.replace('<hr>','.'*velikost_radku_intro).replace('----',\n",
    "                                        ' ####').replace('<br>','') + '\\n')\n",
    "            out_list.append('\\n')\n",
    "            out_list.append('\\n')\n",
    "\n",
    "        if one_cell['cell_type'] == 'code':\n",
    "            for line in one_cell['source']:\n",
    "                out_list.append(line)\n",
    "            out_list.append('\\n')\n",
    "            out_list.append('\\n')\n",
    "\n",
    "    outfile = open(filename + '.r', 'w')\n",
    "    outfile.writelines(out_list)\n",
    "    outfile.close()"
   ]
  },
  {
   "cell_type": "code",
   "execution_count": null,
   "metadata": {},
   "outputs": [],
   "source": []
  }
 ],
 "metadata": {
  "kernelspec": {
   "display_name": "Python 3.8.0 64-bit",
   "language": "python",
   "name": "python38064bit6cab653956db4431a5301ba2f6fc7f74"
  },
  "language_info": {
   "codemirror_mode": {
    "name": "ipython",
    "version": 3
   },
   "file_extension": ".py",
   "mimetype": "text/x-python",
   "name": "python",
   "nbconvert_exporter": "python",
   "pygments_lexer": "ipython3",
   "version": "3.10.1"
  }
 },
 "nbformat": 4,
 "nbformat_minor": 4
}
