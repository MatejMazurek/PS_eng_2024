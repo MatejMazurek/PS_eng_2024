{
 "cells": [
  {
   "cell_type": "markdown",
   "metadata": {},
   "source": [
    "# Exercise 2 - Probability\n",
    "**R code presented in this excercise is not required on homeworks or exams, its only to show what is possible in R an to complement the excercise with nice graphs.** \n",
    "## Adéla Vrtková, Michal Béreš, Martina Litschmannová\n",
    " \n"
   ]
  },
  {
   "cell_type": "markdown",
   "metadata": {},
   "source": [
    "In this exercise, we will go through an introduction to probability. We assume you are familiar with the terms: **definition of probability, conditional probability, complete probability theorem, Bayes' theorem**.\n",
    " \n",
    "# Auxiliary functions\n",
    " \n",
    "## Total probability\n",
    " \n",
    "$P(A)=\\sum_{i=1}^{n}P(B_i)P(A|B_i)$\n",
    " \n"
   ]
  },
  {
   "cell_type": "code",
   "execution_count": null,
   "metadata": {},
   "outputs": [],
   "source": [
    "# probability calculation P(A) - total probability theorem\n",
    "total_probability = function(P_B, P_AB)\n",
    "{   # we consider P_B as a vector of values P(B_i) and P_AB as a vector of values P(A|B_i)\n",
    "    P_A = 0\n",
    "    for (i in 1:length(P_B))\n",
    "    {\n",
    "        P_A = P_A + P_B[i]*P_AB[i]\n",
    "    }\n",
    "    return(P_A)\n",
    "}"
   ]
  },
  {
   "cell_type": "markdown",
   "metadata": {},
   "source": [
    "## Bayes' theorem\n",
    " \n",
    "$P(B_k|A)=\\frac{P(B_k)P(A|B_k)}{\\sum_{i=1}^{n}P(B_i)P(A|B_i)}$\n",
    " \n"
   ]
  },
  {
   "cell_type": "code",
   "execution_count": null,
   "metadata": {},
   "outputs": [],
   "source": [
    "# calculation of conditional probability P(B_k|A) - Bayes' theorem\n",
    "bayes = function(P_B, P_AB, k)\n",
    "{   # we consider P_B as a vector of values P(B_i), P_AB as a vector of values P(A|B_i) and k as and index in P(B_k|A)\n",
    "    P_A = total_probability(P_B, P_AB)\n",
    "    P_BkA = P_B[k]*P_AB[k]/P_A\n",
    "    return(P_BkA)\n",
    "} "
   ]
  },
  {
   "cell_type": "markdown",
   "metadata": {},
   "source": [
    "**We will add functions from the last exercise for computing combinatorial selections, they are in the combinatorics script.R**\n",
    " \n"
   ]
  },
  {
   "cell_type": "code",
   "execution_count": null,
   "metadata": {},
   "outputs": [],
   "source": [
    "source('combinatorics.R')"
   ]
  },
  {
   "cell_type": "markdown",
   "metadata": {},
   "source": [
    "# Examples\n",
    " \n",
    "## Example 1.\n",
    " \n",
    "Determine the probability that a number greater than 14 will fall on a 20-wall fair dice roll.\n",
    " \n"
   ]
  },
  {
   "cell_type": "code",
   "execution_count": null,
   "metadata": {},
   "outputs": [],
   "source": [
    "omega = 1:20\n",
    "A = c(15,16,17,18,19,20)\n",
    "# probability as a proportion favorable to all\n",
    "length(A)/length(omega)"
   ]
  },
  {
   "cell_type": "markdown",
   "metadata": {},
   "source": [
    "## Example 2.\n",
    " \n",
    "Determine the probability that a number greater than 14 will fall on a 20-wall dice roll, if you know that even numbers fall twice as often as odd numbers.\n",
    " \n"
   ]
  },
  {
   "cell_type": "code",
   "execution_count": null,
   "metadata": {},
   "outputs": [],
   "source": [
    "p_odd = 1/(20+10)\n",
    "p_even = 2*p_odd\n",
    "probability = c(p_odd, p_even, p_odd, p_even, p_odd, p_even, p_odd, p_even, p_odd, p_even, \n",
    "                p_odd, p_even, p_odd, p_even, p_odd, p_even, p_odd, p_even, p_odd, p_even)\n",
    "probability\n",
    "# probability is\n",
    "sum(probability[15:20])"
   ]
  },
  {
   "cell_type": "markdown",
   "metadata": {},
   "source": [
    "## Example 3.\n",
    " \n",
    "Determine the probability that you will guess exactly 4 numbers in the lottery.(6 numbers out of 49 are drawn)\n",
    " \n"
   ]
  },
  {
   "cell_type": "code",
   "execution_count": null,
   "metadata": {},
   "outputs": [],
   "source": [
    "(combinations(6,4)*combinations(43,2))/combinations(49,6)"
   ]
  },
  {
   "cell_type": "markdown",
   "metadata": {},
   "source": [
    "## Example 4.\n",
    " \n",
    "From the alphabetical list of students enrolled in the exercise, the teacher selects the first 12 and offers them a bet: “If each of you was born in a different zodiac sign, I will give each of you CZK 100. However, if there are at least two students among you who were born in the same sign, each of you will give me 100 CZK. ”Is it worthwhile for students to accept a bet? How likely are students to win?\n",
    " \n"
   ]
  },
  {
   "cell_type": "code",
   "execution_count": null,
   "metadata": {},
   "outputs": [],
   "source": [
    "permutation(12)/r_permutation_repetition(12,12)"
   ]
  },
  {
   "attachments": {
    "image.png": {
     "image/png": "[encoded data removed]"
    }
   },
   "cell_type": "markdown",
   "metadata": {},
   "source": [
    "## Example 5.\n",
    " \n",
    "Calculate the probability that an electric current will flow from point 1 to point 2 if part of the el. circuit, including the probability of failure of individual components is indicated in the following figure.(The failures of the individual components are independent of each other.) </br> \n",
    " ![Image.png](attachment:image.png)\n",
    " \n"
   ]
  },
  {
   "cell_type": "code",
   "execution_count": null,
   "metadata": {},
   "outputs": [],
   "source": [
    "# divided into blocks I=(A, B) and II=(C, D, E)\n",
    "PI = 1 - (1 - 0.1)*(1 - 0.3)\n",
    "PI\n",
    "PII = 0.2*0.3*0.2\n",
    "PII\n",
    "# result\n",
    "(1 - PI)*(1-PII)"
   ]
  },
  {
   "cell_type": "markdown",
   "metadata": {},
   "source": [
    "## Example 6.\n",
    " \n",
    "The patient is suspected of having one of four mutually exclusive diseases - N1, N2, N3, N4 with a probability of occurrence of P(N1)=0.1; P(N2)=0.2; P(N3)=0.4; P(N4)=0.3. Laboratory test A is positive in the case of the first disease in 50% of cases, in the second disease in 75% of cases, in the third disease in 15% of cases and in the fourth in 20% of cases. What is the probability that the result of the laboratory test will be positive?\n",
    " \n"
   ]
  },
  {
   "cell_type": "code",
   "execution_count": null,
   "metadata": {},
   "outputs": [],
   "source": [
    "# total probability theorem\n",
    "P_N = c(0.1,0.2,0.4,0.3) # P(N1), P(N2),...\n",
    "P_PN = c(0.5,0.75,0.15,0.2) # P(P|N1), P(P|N2),...\n",
    "P_P = total_probability(P_B = P_N, P_AB = P_PN) # P(P)\n",
    "P_P"
   ]
  },
  {
   "cell_type": "markdown",
   "metadata": {},
   "source": [
    "## Example 7.\n",
    " \n",
    "Telegraphic characters consist of \"dot\" and \"comma\" signals. It is statistically found that 25% of \"dot\" messages and 20% of \"comma\" signals are distorted. It is also known that signals are used in a 3: 2 ratio. Determine the probability that the signal was received correctly if a \"dot\" signal was received.\n",
    " \n"
   ]
  },
  {
   "cell_type": "code",
   "execution_count": null,
   "metadata": {},
   "outputs": [],
   "source": [
    "# Bayes' theorem\n",
    "P_O = c(0.6, 0.4)   # P(O.), P(O-)\n",
    "P_PO = c(0.75, 0.2) # P(P.|O.), P(P.|O-)\n",
    "bayes(P_B = P_O, P_AB = P_PO, k = 1) # k=1 because correctly=O.\n"
   ]
  },
  {
   "cell_type": "markdown",
   "metadata": {},
   "source": [
    "## Example 8.\n",
    " \n",
    "85% of green taxis and 15% of blue taxis run in one city. The witness of the traffic accident testified that the accident was caused by the driver of the blue taxi, who then left. Tests carried out under similar lighting conditions showed that the witness identified the color of the taxi well in 80% of cases and was wrong in 20% of cases.\n",
    " \n",
    "- What is the probability that the culprit of the accident actually drove a blue taxi?\n",
    " \n",
    "- Subsequently, another independent witness was found who also claims that the taxi was blue. What is the probability that the culprit of the accident actually drove a blue taxi now?\n",
    " \n",
    "- Does the probability that the perpetrator of the accident actually drove a blue taxi affect whether the two witnesses mentioned above testified gradually or simultaneously?\n",
    " \n"
   ]
  },
  {
   "cell_type": "code",
   "execution_count": null,
   "metadata": {},
   "outputs": [],
   "source": [
    "# a) again Bayes' theorem\n",
    "P_B = c(0.85, 0.15)  # P(Z), P(M)\n",
    "P_SB = c(0.20, 0.80) # P(SM|Z), P(SM|M)\n",
    "bayes(P_B = P_B, P_AB = P_SB, k = 2) # blue is second\n"
   ]
  },
  {
   "cell_type": "code",
   "execution_count": null,
   "metadata": {},
   "outputs": [],
   "source": [
    "# b) first option - second pass through Bayes\n",
    "P_M = bayes(P_B = P_B, P_AB = P_SB, k = 2)\n",
    "P_B = c(1 - P_M, P_M)  # P(Z), P(M)\n",
    "P_SB = c(0.20, 0.80)   # P(S2M|Z), P(S2M|M)\n",
    "bayes(P_B = P_B, P_AB = P_SB, k = 2)"
   ]
  },
  {
   "cell_type": "code",
   "execution_count": null,
   "metadata": {},
   "outputs": [],
   "source": [
    "# c) or answered at once\n",
    "P_B = c(0.85, 0.15)      # P(Z), P(M)\n",
    "P_SB = c(0.20^2, 0.80^2) # P(S1M & S2M|Z), P(S1M & S2M|M)\n",
    "bayes(P_B = P_B, P_AB = P_SB, k = 2)"
   ]
  },
  {
   "cell_type": "markdown",
   "metadata": {},
   "source": [
    "## Example 9.\n",
    " \n",
    "We need to find out the answer to a sensitive question. How to estimate what percentage of respondents will answer YES to the question and at the same time guarantee complete anonymity to all respondents? One of the solutions is the so-called double-anonymous survey:\n",
    "<br>\n",
    "We will let the respondents throw the coin A and the coin B. \n",
    "- Those who got head on coin A will write the answer(YES/NO) to the sensitive question on teir card. \n",
    "- Those who got tail on coin A will write YES = if coin B landed on head or NO = if coin B landed on tail. \n",
    "\n",
    "How do we determine the proportion of students who answered YES to a sensitive question?\n",
    "<br>\n",
    "Assume that respondents were asked if they were cheating on an exam. From the questionnaires, it was found that 120 respondents answered \"YES\" and 200 respondents answered \"NO\". What percentage of students cheated at the exam?\n",
    " \n"
   ]
  },
  {
   "cell_type": "code",
   "execution_count": null,
   "metadata": {},
   "outputs": [],
   "source": [
    "# total probability theorem\n",
    "# P(YES)=P(A_YES) * P(YES|A_YES) + P(A_NO) * P(B_YES|A_NO)\n",
    "# equation 120/320=0.5 * x + 0.5 * 0.5\n",
    "(120/320-0.5^2)/0.5"
   ]
  },
  {
   "cell_type": "markdown",
   "metadata": {},
   "source": [
    "## Bonus - Monty Hall Problem\n",
    " \n",
    "You are winner of the TV competition. You are presented with three doors. Behind one is the crown prize and behind twe there is nothing. You have to pick one door. Then the moderator opens one of the two doors left (the ones you did not pick) and the doors without a prize (as the moderator knows where the prize is, he will always pick empty doors). \n",
    "\n",
    "Now the Question, will you stick with your original choice of the door, or you will switch to the other one still not opened?"
   ]
  }
 ],
 "metadata": {
  "kernelspec": {
   "display_name": "R",
   "language": "R",
   "name": "ir"
  },
  "language_info": {
   "codemirror_mode": "r",
   "file_extension": ".r",
   "mimetype": "text/x-r-source",
   "name": "R",
   "pygments_lexer": "r",
   "version": "4.1.2"
  }
 },
 "nbformat": 4,
 "nbformat_minor": 4
}
