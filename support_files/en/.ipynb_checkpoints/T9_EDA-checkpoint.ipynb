{
 "cells": [
  {
   "cell_type": "markdown",
   "id": "b6219073",
   "metadata": {},
   "source": [
    "# Exercise 7. Data preprocessing and exploratory analysis \n",
    "## Adéla Vrtková, Martina Litschmannová, Michal Béreš\n",
    " \n"
   ]
  },
  {
   "cell_type": "markdown",
   "id": "540ecd41",
   "metadata": {},
   "source": [
    "# 1. Packages - installation and loading\n",
    " \n"
   ]
  },
  {
   "cell_type": "code",
   "execution_count": null,
   "id": "740ac111",
   "metadata": {},
   "outputs": [],
   "source": [
    "# You only need to install packages once(if you don't already have them)\n",
    "# install.packages(\"readxl\")\n",
    "# install.packages(\"dplyr\")\n",
    "# install.packages(\"openxlsx\")\n"
   ]
  },
  {
   "cell_type": "code",
   "execution_count": null,
   "id": "08d77491",
   "metadata": {},
   "outputs": [],
   "source": [
    "# Loading the package(must be repeated every time Rka is run, it is advisable to have it at the beginning of the script)\n",
    "library(readxl)\n",
    "library(dplyr)\n",
    "library(openxlsx)\n",
    "# contains notifications of overwritten functions or older versions of the package\n"
   ]
  },
  {
   "cell_type": "markdown",
   "id": "9e79b7bf",
   "metadata": {},
   "source": [
    "# 2. Working directory - where we load and where we store data\n",
    " \n",
    "- Attention, the current open folder in Rstudio, or the location of the Rskcript is not automatically a working directory\n",
    " \n"
   ]
  },
  {
   "cell_type": "code",
   "execution_count": null,
   "id": "1882d279",
   "metadata": {},
   "outputs": [],
   "source": [
    "# Working directory listing\n",
    "getwd()"
   ]
  },
  {
   "cell_type": "code",
   "execution_count": null,
   "id": "60bd7580",
   "metadata": {},
   "outputs": [],
   "source": [
    "# Working directory settings ->in quotation marks, full path(relative or absolute)\n",
    "setwd(\"./data\")"
   ]
  },
  {
   "cell_type": "code",
   "execution_count": null,
   "id": "b318736c",
   "metadata": {},
   "outputs": [],
   "source": [
    "getwd() # Where are we now?\n"
   ]
  },
  {
   "cell_type": "code",
   "execution_count": null,
   "id": "e37586e9",
   "metadata": {},
   "outputs": [],
   "source": [
    "setwd(\"./..\") # back again\n"
   ]
  },
  {
   "cell_type": "code",
   "execution_count": null,
   "id": "aaef208c",
   "metadata": {},
   "outputs": [],
   "source": [
    "getwd() # control\n"
   ]
  },
  {
   "cell_type": "markdown",
   "id": "8a9e8127",
   "metadata": {},
   "source": [
    "# 3. Load data file\n",
    " \n"
   ]
  },
  {
   "cell_type": "markdown",
   "id": "78e56a5e",
   "metadata": {},
   "source": [
    "## From CSV file\n",
    " \n",
    "Basic functions - read.table, read.csv, read.csv2,... It depends mainly on the file format(.txt,.csv), the so-called separator of individual values, decimal point/dot\n",
    " \n"
   ]
  },
  {
   "cell_type": "code",
   "execution_count": null,
   "id": "8ea93e05",
   "metadata": {},
   "outputs": [],
   "source": [
    "# Load and save a data file in csv2 format from the working directory\n",
    "data = read.csv2(file=\"aku.csv\")"
   ]
  },
  {
   "cell_type": "code",
   "execution_count": null,
   "id": "348b8d94-a1c3-4d0a-a207-0a54c1b3d231",
   "metadata": {},
   "outputs": [],
   "source": [
    "data"
   ]
  },
  {
   "cell_type": "code",
   "execution_count": null,
   "id": "89bdf27b-ea5e-4798-b0e4-3500fdcdfccc",
   "metadata": {},
   "outputs": [],
   "source": [
    "data = read.csv2(file=\"aku.csv\", sep=\";\", quote=\"\", skip=0, header=TRUE)\n",
    "data"
   ]
  },
  {
   "cell_type": "code",
   "execution_count": null,
   "id": "9ddb43a8",
   "metadata": {},
   "outputs": [],
   "source": [
    "help(read.csv2)"
   ]
  },
  {
   "cell_type": "code",
   "execution_count": null,
   "id": "d3a7a14d",
   "metadata": {},
   "outputs": [],
   "source": [
    "# Load and save a csv2 data file from the local disk to the data frame\n",
    "data = read.csv2(file=\"./data/aku.csv\")"
   ]
  },
  {
   "cell_type": "code",
   "execution_count": null,
   "id": "c21039fb",
   "metadata": {},
   "outputs": [],
   "source": [
    "# Load and save a csv2 data file from the Internet to the data frame\n",
    "data = read.csv2(file=\"http://am-nas.vsb.cz/lit40/DATA/aku.csv\")"
   ]
  },
  {
   "cell_type": "markdown",
   "id": "c0dcf13d",
   "metadata": {},
   "source": [
    "## From Excel(xlsx file)\n",
    " \n",
    "Loading and saving a data file in xlsx format from the local disk to the data frame We use the function from the readxl package, which we expanded in the introduction\n",
    " \n"
   ]
  },
  {
   "cell_type": "code",
   "execution_count": null,
   "id": "328c6686",
   "metadata": {},
   "outputs": [],
   "source": [
    "data = read_excel(\"./data/aku.xlsx\", \n",
    "                  sheet = \"Data\",           # worksheet specification in xlsx file\n",
    "                  skip = 3)                 # lines to be skipped\n"
   ]
  },
  {
   "cell_type": "code",
   "execution_count": null,
   "id": "93dc8daf",
   "metadata": {},
   "outputs": [],
   "source": [
    "head(data)"
   ]
  },
  {
   "cell_type": "markdown",
   "id": "00f2d426",
   "metadata": {},
   "source": [
    "## Remove unnecessary rows/columns and name rows/columns for easier data addressing\n",
    " \n"
   ]
  },
  {
   "cell_type": "code",
   "execution_count": null,
   "id": "4bc97d08",
   "metadata": {},
   "outputs": [],
   "source": [
    "# Indexing with negative indexes returns everything except the index value\n",
    "# do not mix negative and positive indices!\n",
    "data = data[,-1] # delete the first column with indexes\n",
    "head(data)"
   ]
  },
  {
   "cell_type": "code",
   "execution_count": null,
   "id": "47f3946b",
   "metadata": {},
   "outputs": [],
   "source": [
    "# Rename columns - if necessary\n",
    "colnames(data)=c(\"A5\",\"B5\",\"C5\",\"D5\",\"A100\",\"B100\",\"C100\",\"D100\") \n",
    "head(data)"
   ]
  },
  {
   "cell_type": "markdown",
   "id": "84458612",
   "metadata": {},
   "source": [
    "#### Note(which is good to read until the end....)\n",
    " \n",
    "in Rstudio) it is possible to import using \"Import Dataset\" from the Environment window without having to write the code. In this case, however, there must be no special characters(hooks, commas) in the \"path\" to the file. Otherwise, an error will appear. The object imported this way will be in the new RSstudio as type \"tibble\". This is a more modern \"data.frame\" and in some features it can cause problems and throw errors! You can easily convert this object to type data.frame using **as.data.frame()** If you have a problem with a function that does not take a column from \"tibble\" as a non-numeric output, you can fix it with the command pull: data [, 1] replace pull(data, 1)\n",
    " \n"
   ]
  },
  {
   "cell_type": "markdown",
   "id": "b0e566ee",
   "metadata": {},
   "source": [
    "# 4. Pre-processing data + Dplyr library\n",
    " \n",
    "### Overview of Dplyr library functions\n",
    " \n",
    "- **>%** is a so-called pipe operator, typical usage is \"res=data>%operation\", where the result is a operation calibrated to data\n",
    " \n",
    "- **select(...)** is one of the operations that we can insert into the \"pipe\" operator - it is used to select data\n",
    " \n",
    "- select(1) - selects the first column\n",
    " \n",
    "- select(A5) - selects the column named A5\n",
    " \n",
    "- select(1,3,5) - selects columns 1,3,5\n",
    " \n",
    "- **mutate(new_column=...)** is an operation that produces a new data column in the data frame using the specified calculation over the current columns\n",
    " \n",
    "- data%>% mutate(C=AB) produces a new column named \"C\" in the \"data\" data frame as the difference of the values in the existing columns \"A\" and \"B\"\n",
    " \n",
    "- **filter(...)** filters values from the data that meet the specified requirements\n",
    " \n",
    "- data%>% filter(manufacturer==\"A\"|manufacturer==\"B\") returns a data file that has only \"A\" or \"B\" values in the \"manufacturer\" column\n",
    " \n",
    "- data%>% filter(manufacturer==\"A\", values>1000) if we write the requirements one after the other(separated by a comma) we understand it as and at the same time\n",
    " \n",
    "- **summarize(...)** calculate the prescribed numerical characteristics within the specified columns(suitable for combination with group.by)\n",
    " \n",
    "- data%>% summarize(prum=mean(kap5), median=median(kap5))\n",
    " \n",
    "- **arrange(...)** ascending or descending row order\n",
    " \n",
    "- data%>% arrange ascending\n",
    " \n",
    "- data%>% arrange(desc) descending\n",
    " \n",
    "- **group_by(...)** grouping of data according to unique values in the specified column\n",
    " \n",
    "- data%>% group_by(manufacturer)\n",
    " \n",
    "Very useful Dgasr \"cheat sheet\" can be found here: https://github.com/rstudio/cheatsheets/raw/master/data-transformation.pdf\n",
    " \n"
   ]
  },
  {
   "cell_type": "markdown",
   "id": "f8a15af5",
   "metadata": {},
   "source": [
    "### Column/row selections\n",
    " \n"
   ]
  },
  {
   "cell_type": "code",
   "execution_count": null,
   "id": "daf03057",
   "metadata": {},
   "outputs": [],
   "source": [
    "# Data file listing\n",
    "data"
   ]
  },
  {
   "cell_type": "code",
   "execution_count": null,
   "id": "45ae19d1",
   "metadata": {},
   "outputs": [],
   "source": [
    "# Display of the first six lines\n",
    "head(data)"
   ]
  },
  {
   "cell_type": "code",
   "execution_count": null,
   "id": "6ef83fd6",
   "metadata": {},
   "outputs": [],
   "source": [
    "# Display of the last six lines\n",
    "tail(data)"
   ]
  },
  {
   "cell_type": "code",
   "execution_count": null,
   "id": "9ceede00",
   "metadata": {},
   "outputs": [],
   "source": [
    "# Display of line 10\n",
    "data[10,]"
   ]
  },
  {
   "cell_type": "code",
   "execution_count": null,
   "id": "2c23e514",
   "metadata": {},
   "outputs": [],
   "source": [
    "# Display of the 3rd column - several ways\n",
    "data[,3]"
   ]
  },
  {
   "cell_type": "code",
   "execution_count": null,
   "id": "da389036",
   "metadata": {},
   "outputs": [],
   "source": [
    "# or(if we know the name of the variable written in the 3rd column)\n",
    "data$C5"
   ]
  },
  {
   "cell_type": "code",
   "execution_count": null,
   "id": "7dbfc90d",
   "metadata": {},
   "outputs": [],
   "source": [
    "# or using the dplyr package select function, which selects the selected columns\n",
    "data %>% select(C5)"
   ]
  },
  {
   "cell_type": "markdown",
   "id": "809e77dd",
   "metadata": {},
   "source": [
    "hr>\n",
    " \n"
   ]
  },
  {
   "cell_type": "code",
   "execution_count": null,
   "id": "781542fd",
   "metadata": {},
   "outputs": [],
   "source": [
    "# Save the first and fifth columns of data. frames data to data. framework attempt\n",
    "pokus = data[,c(1,5)]\n",
    "head(pokus)"
   ]
  },
  {
   "cell_type": "code",
   "execution_count": null,
   "id": "139ab551",
   "metadata": {},
   "outputs": [],
   "source": [
    "# or using the dplyr function\n",
    "pokus = data %>% select(1,5)\n",
    "head(pokus)"
   ]
  },
  {
   "cell_type": "code",
   "execution_count": null,
   "id": "515ff1aa",
   "metadata": {},
   "outputs": [],
   "source": [
    "# or by name\n",
    "naz_sl = \"A100\"\n",
    "pokus = data %>% select(A5, naz_sl)\n",
    "head(pokus)"
   ]
  },
  {
   "cell_type": "markdown",
   "id": "ef58ab02",
   "metadata": {},
   "source": [
    "hr>Exclude data from the file.\n",
    " \n"
   ]
  },
  {
   "cell_type": "code",
   "execution_count": null,
   "id": "54debeea",
   "metadata": {},
   "outputs": [],
   "source": [
    "# Exclude the first and fifth columns from the data. data frames and data storage. framework attempt\n",
    "pokus = data[,-c(1,5)]\n",
    "head(pokus)"
   ]
  },
  {
   "cell_type": "code",
   "execution_count": null,
   "id": "6ec027d4",
   "metadata": {},
   "outputs": [],
   "source": [
    "# or using dplyr\n",
    "pokus = data %>% select(-1, -5)\n",
    "head(pokus)"
   ]
  },
  {
   "cell_type": "code",
   "execution_count": null,
   "id": "ddf0b80a",
   "metadata": {},
   "outputs": [],
   "source": [
    "# or by name\n",
    "pokus = data %>% select(-A5,-A100)\n",
    "head(pokus)"
   ]
  },
  {
   "cell_type": "markdown",
   "id": "53b9a678",
   "metadata": {},
   "source": [
    "hr>Modification of data into several smaller logical units with different structure Note. when storing data, we think of clarity in names\n",
    " \n",
    "### Basic conversion of a simple data matrix into a standard data format - stack(...)\n",
    " \n"
   ]
  },
  {
   "cell_type": "code",
   "execution_count": null,
   "id": "fbd5ef8b",
   "metadata": {},
   "outputs": [],
   "source": [
    "data5 = data[,1:4] # from the data we select those columns that correspond to measurements after 5 cycles\n",
    "colnames(data5) = c(\"A\",\"B\",\"C\",\"D\") # Rename columns\n",
    "head(data5)"
   ]
  },
  {
   "cell_type": "code",
   "execution_count": null,
   "id": "63ddc570",
   "metadata": {},
   "outputs": [],
   "source": [
    "data5S = stack(data5)         # and transfer to st. data format\n",
    "colnames(data5S) = c(\"kap5\",\"vyrobce\") # and edit the column names once more\n",
    "head(data5S)"
   ]
  },
  {
   "cell_type": "code",
   "execution_count": null,
   "id": "40dd1008",
   "metadata": {},
   "outputs": [],
   "source": [
    "# We do the same for measurements performed after 100 cycles\n",
    "data100 = data[,5:8] # we select from the data those columns that correspond to measurements after 100 cycles\n",
    "colnames(data100) = c(\"A\",\"B\",\"C\",\"D\") # Rename columns\n",
    "data100S = stack(data100)         # and transfer to st. data format\n",
    "colnames(data100S) = c(\"kap100\",\"vyrobce\") # and edit the column names once more\n"
   ]
  },
  {
   "cell_type": "code",
   "execution_count": null,
   "id": "0870052c",
   "metadata": {},
   "outputs": [],
   "source": [
    "# Finally we will create a data file in st. data format with all data\n",
    "dataS = cbind(data5S,data100S) # merge \"by columns\"\n",
    "head(dataS)"
   ]
  },
  {
   "cell_type": "code",
   "execution_count": null,
   "id": "5890b9b9",
   "metadata": {
    "scrolled": true
   },
   "outputs": [],
   "source": [
    "dataS = dataS[,-2] # omit the extra second column\n",
    "dataS = na.omit(dataS) # omit rows with NA values\n",
    "head(dataS)"
   ]
  },
  {
   "cell_type": "markdown",
   "id": "f234a620",
   "metadata": {},
   "source": [
    "**!!! Handle the na.omit function extremely carefully so that you do not inadvertently lose data !!!**\n",
    " \n"
   ]
  },
  {
   "cell_type": "markdown",
   "id": "cba60e42",
   "metadata": {},
   "source": [
    "hr>\n",
    " \n",
    "### Defining new columns in a data frame\n",
    " \n"
   ]
  },
  {
   "cell_type": "code",
   "execution_count": null,
   "id": "74f85784",
   "metadata": {},
   "outputs": [],
   "source": [
    "# Defining a new drop variable\n",
    "dataS$pokles = dataS$kap5 - dataS$kap100"
   ]
  },
  {
   "cell_type": "code",
   "execution_count": null,
   "id": "e3924c54",
   "metadata": {},
   "outputs": [],
   "source": [
    "head(dataS)"
   ]
  },
  {
   "cell_type": "code",
   "execution_count": null,
   "id": "f305cc18",
   "metadata": {},
   "outputs": [],
   "source": [
    "# or using a function from the dplyr package\n",
    "dataS = dataS %>% mutate(pokles=kap5-kap100)"
   ]
  },
  {
   "cell_type": "markdown",
   "id": "b6f7b5c0",
   "metadata": {},
   "source": [
    "### Select data from standard data format\n",
    " \n"
   ]
  },
  {
   "cell_type": "code",
   "execution_count": null,
   "id": "e5c73e7f",
   "metadata": {},
   "outputs": [],
   "source": [
    "dataS$kap5"
   ]
  },
  {
   "cell_type": "code",
   "execution_count": null,
   "id": "6ff110f5",
   "metadata": {},
   "outputs": [],
   "source": [
    "# May be useful - create separate variables\n",
    "a5 = dataS$kap5[dataS$vyrobce==\"A\"] # Class(type) numeric\n",
    "a5"
   ]
  },
  {
   "cell_type": "code",
   "execution_count": null,
   "id": "e91e81ed",
   "metadata": {},
   "outputs": [],
   "source": [
    "# as follows with a data frame result\n",
    "a5.df = dataS %>%\n",
    "  filter(vyrobce==\"A\") %>%  # filters rows corresponding to manufacturer A\n",
    "  select(kap5)   # Selects only the values in column kap5,\n",
    "head(a5.df)"
   ]
  },
  {
   "cell_type": "code",
   "execution_count": null,
   "id": "3420ae8c",
   "metadata": {},
   "outputs": [],
   "source": [
    "# Other separate variables(only one method specified)\n",
    "b5=dataS$kap5[dataS$vyrobce==\"B\"]\n",
    "c5=dataS$kap5[dataS$vyrobce==\"C\"]\n",
    "d5=dataS$kap5[dataS$vyrobce==\"D\"]\n",
    "\n",
    "a100=dataS$kap100[dataS$vyrobce==\"A\"]\n",
    "b100=dataS$kap100[dataS$vyrobce==\"B\"]\n",
    "c100=dataS$kap100[dataS$vyrobce==\"C\"]\n",
    "d100=dataS$kap100[dataS$vyrobce==\"D\"]\n",
    "\n",
    "pokles.a=dataS$pokles[dataS$vyrobce==\"A\"]\n",
    "pokles.b=dataS$pokles[dataS$vyrobce==\"B\"]\n",
    "pokles.c=dataS$pokles[dataS$vyrobce==\"C\"]\n",
    "pokles.d=dataS$pokles[dataS$vyrobce==\"D\"]"
   ]
  },
  {
   "cell_type": "markdown",
   "id": "5bae3e3f",
   "metadata": {},
   "source": [
    "### More detailed window for Dplyr library functions - work on data in standard data format\n",
    " \n"
   ]
  },
  {
   "cell_type": "markdown",
   "id": "166d5a69",
   "metadata": {},
   "source": [
    "It is necessary to apply to data in st. data format !!! Pipe operator%>% - helps with chaining functions - in the new RSstudio shortcut key Ctrl + Shift + M\n",
    " \n",
    "#### filter - applies a filter to the given column\n",
    " \n"
   ]
  },
  {
   "cell_type": "code",
   "execution_count": null,
   "id": "6321e04b",
   "metadata": {},
   "outputs": [],
   "source": [
    "# filter - selects/filters rows based on given conditions\n",
    "# Selection of products from the manufacturer\n",
    "dataS %>% filter(vyrobce==\"A\")"
   ]
  },
  {
   "cell_type": "code",
   "execution_count": null,
   "id": "6b243f3a",
   "metadata": {},
   "outputs": [],
   "source": [
    "# Selection of products from manufacturer A or B\n",
    "# separating conditions correspond to the logical \"or\"\n",
    "dataS %>% filter(vyrobce==\"A\" | vyrobce==\"B\")  "
   ]
  },
  {
   "cell_type": "code",
   "execution_count": null,
   "id": "b5c38c72",
   "metadata": {},
   "outputs": [],
   "source": [
    "# Selection of all products with a decrease of 200 mAh and more from the manufacturer C\n",
    "# comma separating conditions corresponds to logical \"and at the same time\"\n",
    "dataS %>% filter(pokles>=200, vyrobce==\"C\")  "
   ]
  },
  {
   "cell_type": "markdown",
   "id": "fb6fe641",
   "metadata": {},
   "source": [
    "#### mutate - produce a new column\n",
    " \n"
   ]
  },
  {
   "cell_type": "code",
   "execution_count": null,
   "id": "6a9fb3bd",
   "metadata": {},
   "outputs": [],
   "source": [
    "# mutate - adds a new variable or transforms an existing one\n",
    "# Creating a new column drop_Ah, which indicates the capacity drop in Ah(original data in mAh, 1 Ah=1000 mAh)\n",
    "pokus = dataS %>% mutate(pokles_Ah=pokles/1000)\n",
    "head(pokus)\n",
    "# Attention! if we do not save the result with the new column, it will only be printed and disappear\n"
   ]
  },
  {
   "cell_type": "markdown",
   "id": "ddf66835",
   "metadata": {},
   "source": [
    "#### summarize - generates summary characteristics of various variables\n",
    " \n"
   ]
  },
  {
   "cell_type": "code",
   "execution_count": null,
   "id": "cca73c5c",
   "metadata": {},
   "outputs": [],
   "source": [
    "# Calculation of the mean and median of all values of the variable kap5\n",
    "dataS %>% summarise(prum=mean(kap5),median=median(kap5))"
   ]
  },
  {
   "cell_type": "markdown",
   "id": "2ec63027",
   "metadata": {},
   "source": [
    "#### arrange - sorts rows according to the selected variable\n",
    " \n"
   ]
  },
  {
   "cell_type": "code",
   "execution_count": null,
   "id": "f3b94668",
   "metadata": {},
   "outputs": [],
   "source": [
    "# Ascending and descending order of rows according to the decrease value\n",
    "dataS %>% arrange(pokles)"
   ]
  },
  {
   "cell_type": "code",
   "execution_count": null,
   "id": "eb0669dd",
   "metadata": {},
   "outputs": [],
   "source": [
    "dataS %>% arrange(desc(pokles))"
   ]
  },
  {
   "cell_type": "markdown",
   "id": "4dc4871e",
   "metadata": {},
   "source": [
    "#### group_by - groups values into groups according to the selected variable\n",
    " \n"
   ]
  },
  {
   "cell_type": "code",
   "execution_count": null,
   "id": "a3d57979",
   "metadata": {},
   "outputs": [],
   "source": [
    "# the table is \"virtually\" divided into groups for later processing, eg summarize\n",
    "dataS %>% group_by(vyrobce)"
   ]
  },
  {
   "cell_type": "code",
   "execution_count": null,
   "id": "d214bbdd",
   "metadata": {},
   "outputs": [],
   "source": [
    "# Ideal for calculating summary characteristics for each manufacturer separately, eg average\n",
    "dataS %>%\n",
    "  group_by(vyrobce) %>% \n",
    "  summarise(prum=mean(kap5), \"směrodatná odchylka\"=sd(kap5))"
   ]
  },
  {
   "cell_type": "markdown",
   "id": "89dc7985",
   "metadata": {},
   "source": [
    "** Final note on dplyr(which is good to finish until the end...)\n",
    " \n",
    "Some operations may throw a \"tibble\" object. This is a more modern data.frame, however it can cause problems and cause error messages in some functions! You can easily convert this \"tibble\" object to data.frame using as.data.frame(). **\n",
    " \n"
   ]
  },
  {
   "cell_type": "markdown",
   "id": "2949b97e",
   "metadata": {},
   "source": [
    "# 5. Data conversion to standard data format(for the two most common data formats)\n",
    " \n",
    "## From data in Data Matrix format\n",
    " \n"
   ]
  },
  {
   "cell_type": "code",
   "execution_count": null,
   "id": "10e8b6bb",
   "metadata": {},
   "outputs": [],
   "source": [
    "data_DM = read_excel(\"./data/datova_matice.xlsx\")\n",
    "head(data_DM)"
   ]
  },
  {
   "cell_type": "code",
   "execution_count": null,
   "id": "81cece12",
   "metadata": {},
   "outputs": [],
   "source": [
    "data_DM = data_DM[,-1]\n",
    "colnames(data_DM) = c(\"A22\", \"A5\", \"B22\", \"B5\", \"C22\", \"C5\", \"D22\", \"D5\")\n",
    "head(data_DM)"
   ]
  },
  {
   "cell_type": "markdown",
   "id": "d11627ef",
   "metadata": {},
   "source": [
    "### Reshape function\n",
    " \n",
    "Its parameters:\n",
    " \n",
    "- **data** -datato be converted must be fe format data.frame(as.data.frame(data))\n",
    " \n",
    "- **direction** - whichdirectionwe want to transform\n",
    " \n",
    "- \"long\" - to standard format\n",
    " \n",
    "- \"wide\" - back to the data matrix\n",
    " \n",
    "- **varying** - column names that indicate the same data for different categories\n",
    " \n",
    "- it is a sheet of vectors\n",
    " \n",
    "- each sheet item is one measurement\n",
    " \n",
    "- each vector is then a list of columns\n",
    " \n",
    "- **v.names** - column names in st. give. format\n",
    " \n",
    "- The number of names must match the number of vectors in varying\n",
    " \n",
    "- **times** - names of individual categories\n",
    " \n",
    "- ATTENTION !! must be in the same order as the varying variable\n",
    " \n",
    "- **timevar** - column name with categories\n",
    " \n"
   ]
  },
  {
   "cell_type": "code",
   "execution_count": null,
   "id": "8b565d82",
   "metadata": {},
   "outputs": [],
   "source": [
    "data_DM_S=reshape(data=as.data.frame(data_DM),\n",
    "                  direction=\"long\",\n",
    "                  varying=list(c(\"A5\", \"B5\", \"C5\", \"D5\"),\n",
    "                               c(\"A22\",\"B22\",\"C22\",\"D22\")),\n",
    "                  v.names=c(\"5 C\",\"22  C\"),   \n",
    "                  times=c(\"Amber\",\"Bright\",\"Clear\",\"Dim\"),  \n",
    "                  timevar=\"vyrobce\")\n",
    "head(data_DM_S)"
   ]
  },
  {
   "cell_type": "code",
   "execution_count": null,
   "id": "519f22e4",
   "metadata": {},
   "outputs": [],
   "source": [
    "help(reshape)"
   ]
  },
  {
   "cell_type": "code",
   "execution_count": null,
   "id": "f7ef2b21",
   "metadata": {},
   "outputs": [],
   "source": [
    "# and if we want, we can convert the data back\n",
    "data_DM_2=reshape(data=data_DM_S,\n",
    "                  direction=\"wide\",\n",
    "                  varying=list(c(\"A5\", \"B5\", \"C5\", \"D5\"),\n",
    "                               c(\"A22\",\"B22\",\"C22\",\"D22\")),\n",
    "                  v.names=c(\"5 C\",\"22  C\"),   \n",
    "                  times=c(\"Amber\",\"Bright\",\"Clear\",\"Dim\"),  \n",
    "                  timevar=\"vyrobce\")\n",
    "head(data_DM_2)"
   ]
  },
  {
   "cell_type": "markdown",
   "id": "2e081d55",
   "metadata": {},
   "source": [
    "## From a data file where the categories are in individual Excel sheets\n",
    " \n"
   ]
  },
  {
   "cell_type": "code",
   "execution_count": null,
   "id": "74aaf76b",
   "metadata": {},
   "outputs": [],
   "source": [
    "data_A = read_excel(\"./data/po_listech.xlsx\", sheet=1)\n",
    "head(data_A)\n",
    "data_B = read_excel(\"./data/po_listech.xlsx\", sheet=2)\n",
    "data_C = read_excel(\"./data/po_listech.xlsx\", sheet=3)\n",
    "data_D = read_excel(\"./data/po_listech.xlsx\", sheet=4)"
   ]
  },
  {
   "cell_type": "code",
   "execution_count": null,
   "id": "40512f65",
   "metadata": {},
   "outputs": [],
   "source": [
    "data_A$vyrobce = \"Amber\"\n",
    "data_B$vyrobce = \"Bright\"\n",
    "data_C$vyrobce = \"Clear\"\n",
    "data_D$vyrobce = \"Dim\"\n",
    "head(data_A)"
   ]
  },
  {
   "cell_type": "code",
   "execution_count": null,
   "id": "ea00cbb8",
   "metadata": {
    "scrolled": true
   },
   "outputs": [],
   "source": [
    "data_PL_S = rbind(data_A, data_B, data_C, data_D)\n",
    "data_PL_S"
   ]
  },
  {
   "cell_type": "markdown",
   "id": "eb48f82c",
   "metadata": {},
   "source": [
    "# 6. Exploratory analysis and visualization of a categorical variable\n",
    " \n",
    "### Notes on graphics in R\n",
    " \n",
    "the basis are the so-called high-level functions, which create a graph(ie open the graphics window and draw according to the specified parameters) followed by the so-called low-level functions, which add something to the active graphics window, do not open new low-level functions - eg abline, points, lines, legend, title, axis... which add a line, points, legend... ie. before using the \"low-level\" function it is necessary to call the \"high-level\" function(eg plot, boxplot, hist, barplot, pie,...) Further graphic parameters can be found in the help or eg here http://www.statmethods.net/advgraphs/parameters.html or here https://flowingdata.com/2015/03/17/r-cheat-sheet-for-graphical-parameters/or http://bcb.dfci.harvard.edu/~aedin/courses/BiocDec2011/2.Plotting.pdf Colors in R http://www.stat.columbia.edu/~tzheng/files/Rcolor.pdf https://www.nceas.ucsb.edu/~frazier/RSpatialGuides/colorPaletteCheatsheet.pdf Saving graphs is possible using the function dev.print, jpeg, pdf and others. More easily in the Plots ->Export window\n",
    " \n"
   ]
  },
  {
   "cell_type": "code",
   "execution_count": null,
   "id": "5f47eb9f",
   "metadata": {},
   "outputs": [],
   "source": [
    "# Table of absolute frequencies of the manufacturer's categorical variable...\n",
    "cetnosti=table(dataS$vyrobce)\n",
    "cetnosti # listing - object of type \"table\" - mostly more suitable, but more difficult conversion to type data.frame\n"
   ]
  },
  {
   "cell_type": "code",
   "execution_count": null,
   "id": "f8276f6e",
   "metadata": {},
   "outputs": [],
   "source": [
    "# .. and using dplyr functions(more complex)\n",
    "abs.cetnosti = dataS %>%\n",
    "                  group_by(vyrobce) %>%\n",
    "                  summarise(cetnost = n())  # number of products for each manufacturer\n"
   ]
  },
  {
   "cell_type": "code",
   "execution_count": null,
   "id": "0d1e3aae",
   "metadata": {},
   "outputs": [],
   "source": [
    "abs.cetnosti # listing - object type \"tibble\" - useful when we need to simply convert to type data.frame\n"
   ]
  },
  {
   "cell_type": "markdown",
   "id": "a3624bdf",
   "metadata": {},
   "source": [
    "### Relative frequency table\n",
    " \n"
   ]
  },
  {
   "cell_type": "code",
   "execution_count": null,
   "id": "9bed4ddb",
   "metadata": {},
   "outputs": [],
   "source": [
    "# By direct calculation\n",
    "rel.cetnosti=100*cetnosti/sum(cetnosti)   \n",
    "rel.cetnosti # statement\n"
   ]
  },
  {
   "cell_type": "code",
   "execution_count": null,
   "id": "04b53b44",
   "metadata": {},
   "outputs": [],
   "source": [
    "# or using the prop.table function\n",
    "rel.cetnosti2=prop.table(cetnosti)*100\n",
    "rel.cetnosti2 # statement\n"
   ]
  },
  {
   "cell_type": "code",
   "execution_count": null,
   "id": "96ce9045",
   "metadata": {},
   "outputs": [],
   "source": [
    "# or using the dplyr functions, where absolute frequencies will also be included\n",
    "tabulka_abs_rel = dataS %>%\n",
    "                    group_by(vyrobce) %>%\n",
    "                    summarise(cetnost = n()) %>%   \n",
    "                    mutate(rel_cet_proc = round(100*(cetnost / sum(cetnost) ),1) )\n",
    "tabulka_abs_rel # statement\n",
    "t(tabulka_abs_rel)"
   ]
  },
  {
   "cell_type": "code",
   "execution_count": null,
   "id": "a165daba",
   "metadata": {},
   "outputs": [],
   "source": [
    "# For all tables, rounding and the associated risk of rounding error must be observed.\n",
    "# The procedure for frequency and frequency2 is the same.\n",
    "rel.cetnosti=round(rel.cetnosti,digits=1) # rounded to 1 decimal place\n",
    "rel.cetnosti[4]=100-sum(rel.cetnosti[1:3]) # rounding error monitoring\n",
    "rel.cetnosti"
   ]
  },
  {
   "cell_type": "code",
   "execution_count": null,
   "id": "5be0a65d",
   "metadata": {},
   "outputs": [],
   "source": [
    "# The procedure for table_abs_rel is different due to a different format(tibble)\n",
    "tabulka_abs_rel[4,3]=100-sum((tabulka_abs_rel[1:3,3]))\n",
    "tabulka_abs_rel"
   ]
  },
  {
   "cell_type": "markdown",
   "id": "f307f453",
   "metadata": {},
   "source": [
    "#### Create table with absolute and rel. frequencies(without gas). We have:\n",
    " \n"
   ]
  },
  {
   "cell_type": "code",
   "execution_count": null,
   "id": "5cb8a703",
   "metadata": {},
   "outputs": [],
   "source": [
    "cetnosti"
   ]
  },
  {
   "cell_type": "code",
   "execution_count": null,
   "id": "354afa43",
   "metadata": {},
   "outputs": [],
   "source": [
    "rel.cetnosti"
   ]
  },
  {
   "cell_type": "code",
   "execution_count": null,
   "id": "a7e3cf1e",
   "metadata": {},
   "outputs": [],
   "source": [
    "tabulka=cbind(cetnosti,rel.cetnosti)  # merge tables\n",
    "colnames(tabulka)=c(\"četnost\",\"rel.četnost (%)\") # change column names\n",
    "tabulka"
   ]
  },
  {
   "cell_type": "markdown",
   "id": "2795ea7b",
   "metadata": {},
   "source": [
    "#### Save table to csv file\n",
    " \n"
   ]
  },
  {
   "cell_type": "code",
   "execution_count": null,
   "id": "f10ee87c",
   "metadata": {},
   "outputs": [],
   "source": [
    "write.csv2(tabulka,file=\"tabulka.csv\")"
   ]
  },
  {
   "cell_type": "code",
   "execution_count": null,
   "id": "ac52f6ad",
   "metadata": {},
   "outputs": [],
   "source": [
    "# Where is the table stored? It is stored in the working directory without specifying the complete path in the previous command.\n",
    "getwd()"
   ]
  },
  {
   "cell_type": "markdown",
   "id": "de752a10",
   "metadata": {},
   "source": [
    "hr>\n",
    " \n",
    "### Visualization using graphs\n",
    " \n"
   ]
  },
  {
   "cell_type": "code",
   "execution_count": null,
   "id": "e1ceaf10",
   "metadata": {},
   "outputs": [],
   "source": [
    "# Bar graph\n",
    "# The basic(ie no package required) bar graph is based on the frequency table we have prepared\n",
    "par(mfrow = c(1,1), # simple division of the graphics window - 1 row, 1 column\n",
    "    mar = c(2,2,2,2), # margins around each of the graphs in line numbers - - c(bottom, left, top, right)\n",
    "    oma = c(2,2,2,2)) # outer margins in number of lines - c(bottom, left, top, right)\n",
    "barplot(cetnosti)"
   ]
  },
  {
   "cell_type": "code",
   "execution_count": null,
   "id": "96c89ae7",
   "metadata": {},
   "outputs": [],
   "source": [
    "# Change colors, add name\n",
    "barplot(cetnosti,\n",
    "        col=heat.colors(4), # alt. a vector of specific colors can be chosen, eg c(\"blue\", \"yellow,\" red \",\" green \")\n",
    "        # or other scales(heat.colors, topo.colors, terrain.colors and many others)\n",
    "        main=\"Zastoupení výrobců ve výběru\",\n",
    "        space=0.6) # The space parameter creates a space between columns\n"
   ]
  },
  {
   "cell_type": "code",
   "execution_count": null,
   "id": "f000a2ee",
   "metadata": {},
   "outputs": [],
   "source": [
    "# Add additional labels and legends\n",
    "barplot(cetnosti,\n",
    "        col=heat.colors(4),\n",
    "        horiz=TRUE,                            # horizontal orientation of the graph\n",
    "        border=FALSE,                   # does not draw a line around the bars\n",
    "        main=\"Zastoupení výrobců ve výběru\",\n",
    "        names.arg=paste0(\"Výrobce \\n\",names(cetnosti))) \n",
    "# The paste0 function allows you to merge text strings and variable values, the \"\\ n\" symbol forms a new line in the text\n",
    "legend(\"right\",                             # placing a legend next to a bar graph is very tricky\n",
    "       paste(\"Výrobce\",names(cetnosti)),       # it is much easier to work with ggplot2 in this case\n",
    "       col=heat.colors(4),\n",
    "       fill=heat.colors(4),\n",
    "       border=TRUE,\n",
    "       bty=\"n\")"
   ]
  },
  {
   "cell_type": "code",
   "execution_count": null,
   "id": "6626c4c8",
   "metadata": {},
   "outputs": [],
   "source": [
    "# Add absolute and relative frequencies to the corresponding columns\n",
    "bp = barplot(cetnosti,\n",
    "             col=heat.colors(4),\n",
    "             main=\"Zastoupení výrobců ve výběru\",\n",
    "             names.arg=paste(\"Výrobce\",names(cetnosti)))\n",
    "text(bp,\n",
    "     cetnosti,paste0(cetnosti,\"; \",rel.cetnosti,\"%\"),\n",
    "     pos=1)\n",
    "# parameter pos specifies where the text will be given with respect to the given position(1=below, 2=left, 3=above, 4=right)\n"
   ]
  },
  {
   "cell_type": "markdown",
   "id": "1256668b",
   "metadata": {},
   "source": [
    "Try to use the previous code and create a bar graph for the Manufacturer variable by yourself.\n",
    " \n"
   ]
  },
  {
   "cell_type": "markdown",
   "id": "34c0cc8e",
   "metadata": {},
   "source": [
    "# 7. Exploratory analysis and visualization of a quantitative variable\n",
    " \n"
   ]
  },
  {
   "cell_type": "code",
   "execution_count": null,
   "id": "e3f3b699",
   "metadata": {},
   "outputs": [],
   "source": [
    "# Descriptive statistics\n",
    "summary(dataS$kap5)"
   ]
  },
  {
   "cell_type": "code",
   "execution_count": null,
   "id": "54d1dbc3",
   "metadata": {},
   "outputs": [],
   "source": [
    "# Calculation of the average of one variable\n",
    "mean(dataS$kap5)"
   ]
  },
  {
   "cell_type": "code",
   "execution_count": null,
   "id": "3eb6ac88",
   "metadata": {},
   "outputs": [],
   "source": [
    "mean(a5)"
   ]
  },
  {
   "cell_type": "code",
   "execution_count": null,
   "id": "85b09b33",
   "metadata": {},
   "outputs": [],
   "source": [
    "# Beware of missing values\n",
    "mean(data$C5)"
   ]
  },
  {
   "cell_type": "code",
   "execution_count": null,
   "id": "f3323aa9",
   "metadata": {},
   "outputs": [],
   "source": [
    "mean(data$C5,na.rm=TRUE)"
   ]
  },
  {
   "cell_type": "code",
   "execution_count": null,
   "id": "075e7b49",
   "metadata": {},
   "outputs": [],
   "source": [
    "# Calculation of the median of one variable\n",
    "quantile(dataS$kap5,probs=0.5)"
   ]
  },
  {
   "cell_type": "code",
   "execution_count": null,
   "id": "59017721",
   "metadata": {},
   "outputs": [],
   "source": [
    "quantile(a5,probs=0.5)"
   ]
  },
  {
   "cell_type": "code",
   "execution_count": null,
   "id": "330977a6",
   "metadata": {},
   "outputs": [],
   "source": [
    "# Range determination\n",
    "length(dataS$kap5)"
   ]
  },
  {
   "cell_type": "markdown",
   "id": "8f175436",
   "metadata": {},
   "source": [
    "#### Other characteristics ->var(), sd(), min(), max(),...\n",
    " \n",
    "Attention! The functions for calculating skewness and kurtosis are not part of the basic R, you will find them in the package moments. sharpness in the interval(1,5) To standardize the sharpness, it is necessary to subtract 3 from the calculated value. If you write the package name and \"::\" before the function name, you will ensure that the function from the given package will be used. packages have different functions under the same name\n",
    " \n"
   ]
  },
  {
   "cell_type": "code",
   "execution_count": null,
   "id": "0c7e72fb",
   "metadata": {},
   "outputs": [],
   "source": [
    "# install.packages(\"moments\")\n"
   ]
  },
  {
   "cell_type": "code",
   "execution_count": null,
   "id": "2a2f7d7b",
   "metadata": {},
   "outputs": [],
   "source": [
    "library(moments)"
   ]
  },
  {
   "cell_type": "code",
   "execution_count": null,
   "id": "592efee8",
   "metadata": {},
   "outputs": [],
   "source": [
    "skewness(a5)"
   ]
  },
  {
   "cell_type": "code",
   "execution_count": null,
   "id": "8fd9ba32",
   "metadata": {},
   "outputs": [],
   "source": [
    "kurtosis(a5)-3"
   ]
  },
  {
   "cell_type": "code",
   "execution_count": null,
   "id": "205cc9be",
   "metadata": {},
   "outputs": [],
   "source": [
    "# If we want to calculate the given characteristic for variable capacity after 5 cycles\n",
    "# according to the manufacturers, we can use the tapply function\n",
    "tapply(dataS$kap5, dataS$vyrobce, mean, na.rm=TRUE)"
   ]
  },
  {
   "cell_type": "code",
   "execution_count": null,
   "id": "3f812a25",
   "metadata": {},
   "outputs": [],
   "source": [
    "# or using dplyr - here pay attention to automatic(not always correct rounding)\n",
    "dataS %>% \n",
    "  group_by(vyrobce) %>% \n",
    "  summarise(mean(kap5,na.rm=T))"
   ]
  },
  {
   "cell_type": "code",
   "execution_count": null,
   "id": "d5ae0d79",
   "metadata": {},
   "outputs": [],
   "source": [
    "# To simplify the work, we can use the dplyr function and put all the characteristics in one table\n",
    "dataS %>%    # without using group_by for the whole kap5 variable\n",
    "  summarise(rozsah=length(kap5),\n",
    "            minimum=min(kap5,na.rm=T),     # preventive na.rm=T\n",
    "            Q1=quantile(kap5,0.25,na.rm=T),\n",
    "            prumer=mean(kap5,na.rm=T),\n",
    "            median=median(kap5,na.rm=T),\n",
    "            Q3=quantile(kap5,0.75,na.rm=T),\n",
    "            maximum=max(kap5,na.rm=T),\n",
    "            rozptyl=var(kap5,na.rm=T),\n",
    "            smerodatna_odchylka=sd(kap5,na.rm=T),\n",
    "            variacni_koeficient=(100*(smerodatna_odchylka/prumer)),  # coefficient of variation in percent\n",
    "            sikmost=(moments::skewness(kap5,na.rm=T)),       # moments package precaution\n",
    "            spicatost=(moments::kurtosis(kap5,na.rm=T)-3)) "
   ]
  },
  {
   "cell_type": "code",
   "execution_count": null,
   "id": "5e50e9f1",
   "metadata": {},
   "outputs": [],
   "source": [
    "# Don't forget to round correctly!\n",
    "# We use group_by and get the characteristics for the capacity after 5 cycles according to the manufacturers\n",
    "# Due to the incomplete statement, it is advisable to save the output and view it in a new window\n",
    "charakteristiky_dle_vyrobce = \n",
    "  dataS %>%\n",
    "    group_by(vyrobce) %>% \n",
    "    summarise(rozsah=length(kap5),\n",
    "            minimum=min(kap5,na.rm=T),\n",
    "            Q1=quantile(kap5,0.25,na.rm=T),\n",
    "            prumer=mean(kap5,na.rm=T),\n",
    "            median=median(kap5,na.rm=T),\n",
    "            Q3=quantile(kap5,0.75,na.rm=T),\n",
    "            maximum=max(kap5,na.rm=T),\n",
    "            rozptyl=var(kap5,na.rm=T),\n",
    "            smerodatna_odchylka=sd(kap5,na.rm=T),\n",
    "            variacni_koeficient=(100*(smerodatna_odchylka/prumer)),  # coefficient of variation in percent\n",
    "            sikmost=(moments::skewness(kap5,na.rm=T)),\n",
    "            spicatost=(moments::kurtosis(kap5,na.rm=T)-3))"
   ]
  },
  {
   "cell_type": "code",
   "execution_count": null,
   "id": "dbc0f7b2",
   "metadata": {},
   "outputs": [],
   "source": [
    "charakteristiky_dle_vyrobce"
   ]
  },
  {
   "cell_type": "markdown",
   "id": "06493d3e",
   "metadata": {},
   "source": [
    "### Box chart\n",
    " \n",
    "**We draw for original data, we can add rendering for data without OP.**\n",
    " \n"
   ]
  },
  {
   "cell_type": "code",
   "execution_count": null,
   "id": "e6298f35",
   "metadata": {},
   "outputs": [],
   "source": [
    "# Simple and fast rendering using the basic function only for manufacturer C\n",
    "boxplot(c5)"
   ]
  },
  {
   "cell_type": "code",
   "execution_count": null,
   "id": "669b2d1f",
   "metadata": {},
   "outputs": [],
   "source": [
    "# Further modification of the graph, use of the points function to display the average\n",
    "boxplot(c5,\n",
    "        main=\"Kapacita po 5 cyklech (mAh)\", \n",
    "        xlab=\"Výrobce C\",\n",
    "        ylab=\"kapacita (mAh)\",\n",
    "        col=\"grey\")\n",
    "points(1, mean(c5,na.rm=TRUE), pch=3) # adds a point showing the average to the existing graph\n"
   ]
  },
  {
   "cell_type": "code",
   "execution_count": null,
   "id": "e4397742",
   "metadata": {},
   "outputs": [],
   "source": [
    "# Horizontal orientation, box width change\n",
    "boxplot(c5,\n",
    "        main=\"Kapacita po 5 cyklech (mAh), výrobce C\", \n",
    "        horizontal=TRUE,  # in horizontal orientation, the opposite setting of labels must be observed\n",
    "        xlab=\"kapacita (mAh)\",\n",
    "        boxwex=0.5)  # changes the box width to 1/2\n"
   ]
  },
  {
   "cell_type": "markdown",
   "id": "d351ca15",
   "metadata": {},
   "source": [
    "Use the previous code and create a box chart according to you.\n",
    " \n"
   ]
  },
  {
   "cell_type": "code",
   "execution_count": null,
   "id": "82b9985d",
   "metadata": {},
   "outputs": [],
   "source": []
  },
  {
   "cell_type": "code",
   "execution_count": null,
   "id": "6cee2466",
   "metadata": {},
   "outputs": [],
   "source": [
    "# And draw a multiple box graph\n",
    "boxplot(dataS$kap5~dataS$vyrobce) # graphic parameters can be set similarly to the previous ones\n"
   ]
  },
  {
   "cell_type": "code",
   "execution_count": null,
   "id": "314c3985",
   "metadata": {},
   "outputs": [],
   "source": [
    "boxplot(a5,b5,c5,d5)"
   ]
  },
  {
   "cell_type": "markdown",
   "id": "d866a8cc",
   "metadata": {},
   "source": [
    "### Histogram\n",
    " \n",
    "**We always plot for data without remote observations !!**\n",
    " \n"
   ]
  },
  {
   "cell_type": "code",
   "execution_count": null,
   "id": "c8314d42",
   "metadata": {},
   "outputs": [],
   "source": [
    "# Simple and fast rendering\n",
    "hist(a5)"
   ]
  },
  {
   "cell_type": "code",
   "execution_count": null,
   "id": "841bbc5d",
   "metadata": {},
   "outputs": [],
   "source": [
    "hist(a5,breaks=20) # What do the different values of the breaks parameter do with the graph?\n"
   ]
  },
  {
   "cell_type": "code",
   "execution_count": null,
   "id": "40d613ef",
   "metadata": {},
   "outputs": [],
   "source": [
    "# Labels, colors and other parameters can be set traditionally\n",
    "hist(a5, \n",
    "     main=\"Histogram pro kapacitu akumulátorů po 5 cyklech, výrobce A\", \n",
    "     xlab=\"kapacita (mAh)\",\n",
    "     ylab=\"četnost\",\n",
    "     col=\"blue\",       # fill color\n",
    "     border=\"grey\",    # column border color\n",
    "     labels=TRUE)         # adds the absolute frequencies of the given categories in the form of labels\n"
   ]
  },
  {
   "cell_type": "code",
   "execution_count": null,
   "id": "0881d73f",
   "metadata": {},
   "outputs": [],
   "source": [
    "# Y-axis scaling to plot a probability density estimate\n",
    "hist(a5, \n",
    "     main=\"Histogram pro kapacitu akumulátorů po 5 cyklech, výrobce A\", \n",
    "     xlab=\"kapacita (mAh)\",\n",
    "     ylab=\"f(x)\",\n",
    "     col=\"cadetblue1\", \n",
    "     border=\"grey\",\n",
    "     freq=FALSE)          # scaling on the y-axis ->f(x)\n",
    "lines(density(a5))        # Attaches a probability density estimation graph\n",
    "# Generate normal distribution density and add to histogram\n",
    "xfit=seq(min(a5), max(a5), length=40)     # Generate values for the x-axis\n",
    "yfit=dnorm(xfit, mean=mean(a5), sd=sd(a5))  # Generate values for the y-axis\n",
    "lines(xfit, yfit, col=\"black\", lwd=2)    # Add a curve to the last graph based on the values generated above\n",
    "# This combined graph can be used for visual assessment of normality.\n"
   ]
  },
  {
   "cell_type": "markdown",
   "id": "aadd1916",
   "metadata": {},
   "source": [
    "**Use the previous code and create a histogram of yourself.**\n",
    " \n"
   ]
  },
  {
   "cell_type": "code",
   "execution_count": null,
   "id": "263d717b",
   "metadata": {},
   "outputs": [],
   "source": []
  },
  {
   "cell_type": "markdown",
   "id": "aac3e85b",
   "metadata": {},
   "source": [
    "### QQ-graph\n",
    " \n",
    "**We always plot for data without remote observations !!**\n",
    " \n"
   ]
  },
  {
   "cell_type": "code",
   "execution_count": null,
   "id": "c7a7decd",
   "metadata": {},
   "outputs": [],
   "source": [
    "# Simple and very fast rendering...\n",
    "qqnorm(a5)\n",
    "qqline(a5)"
   ]
  },
  {
   "cell_type": "code",
   "execution_count": null,
   "id": "b9e70d5c",
   "metadata": {},
   "outputs": [],
   "source": [
    "# .. with adjustment of axis labels...\n",
    "qqnorm(a5, \n",
    "       xlab=\"Teoretické kvantily\",\n",
    "       ylab=\"Výběrové kvantily\",\n",
    "       main=\"QQ-graf, kapacita po 5 cyklech, výrobce A\")\n",
    "qqline(a5)"
   ]
  },
  {
   "cell_type": "code",
   "execution_count": null,
   "id": "9f29944f",
   "metadata": {},
   "outputs": [],
   "source": []
  },
  {
   "cell_type": "markdown",
   "id": "1ad2f7eb",
   "metadata": {},
   "source": [
    "For advanced and interested - automation, use of for-cycle, multiple graphs in one image If we use basic functions(barplot, boxplot, histogram), then the function par() or layout() is used. In these functions we specify the structure - how we want to draw more pictures\n",
    " \n"
   ]
  },
  {
   "cell_type": "code",
   "execution_count": null,
   "id": "20e78661",
   "metadata": {},
   "outputs": [],
   "source": [
    "# Eg. we want to draw a histogram and boxplot for capacity after 5 battery cycles from manufacturer A\n",
    "pom=layout(mat = matrix(1:2,2,1, byrow=FALSE), height = c(2.5,1)) # structure creation\n",
    "par(oma=c(2,2,3,2),mar=c(2,2,3,2)) # margin size adjustment\n",
    "\n",
    "hist(a5, \n",
    "     main=\"Výrobce A\",\n",
    "     xlab=\"kapacita (mAh) po 5 cyklech\", \n",
    "     ylab=\"četnost\", \n",
    "     ylim=c(0,32), \n",
    "     xlim=c(1730,2040))\n",
    "boxplot(a5, \n",
    "        horizontal=TRUE, \n",
    "        ylim=c(1700,2040), \n",
    "        boxwex=1.5)"
   ]
  },
  {
   "cell_type": "code",
   "execution_count": null,
   "id": "8282439e",
   "metadata": {},
   "outputs": [],
   "source": [
    "# Using for-cycle histograms and boxplots for all manufacturers\n",
    "pom=layout(mat = matrix(1:8,2,4, byrow=FALSE), height = c(1.5,1))\n",
    "\n",
    "for (i in 1:4){\n",
    "  hist(pull(data5,i), \n",
    "       main=paste(\"Výrobce\",colnames(data5)[i]), \n",
    "       xlab=\"\", \n",
    "       ylab=\"četnost\", \n",
    "       xlim=c(min(data5,na.rm=TRUE), max(data5,na.rm=TRUE)), \n",
    "       ylim=c(0,32))\n",
    "  boxplot(pull(data5,i), \n",
    "          horizontal=TRUE, \n",
    "          ylim=c(min(data5,na.rm=TRUE), max(data5,na.rm=TRUE)), \n",
    "          xlab=\"kapacita (mAh) po 5 cyklech\",\n",
    "          boxwex=1.5)\n",
    "}\n",
    "mtext(\"Kapacita akumulátorů (mAh) po 5 cyklech dle výrobců\", cex = 1.1, outer=TRUE, side=3)"
   ]
  },
  {
   "cell_type": "code",
   "execution_count": null,
   "id": "6bc68e86",
   "metadata": {},
   "outputs": [],
   "source": [
    "# Combination of histogram and QQ-fence\n",
    "pom=layout(mat = matrix(1:8,2,4, byrow=FALSE), height = c(2,1.5))\n",
    "par(oma=c(2,2,3,2), mar=c(2,2,3,2))\n",
    "\n",
    "for (i in 1:4){\n",
    "  hist(pull(data5,i), \n",
    "       main=paste(\"Výrobce\",colnames(data5)[i]), \n",
    "       xlab=\"kapacita (mAh) po 5 cyklech\", \n",
    "       ylab=\"četnost\", \n",
    "       xlim=c(min(data5,na.rm=TRUE), max(data5,na.rm=TRUE)), \n",
    "       ylim=c(0,0.037),\n",
    "       freq=FALSE)\n",
    "  lines(density(pull(data5,i), na.rm=TRUE))\n",
    "  xfit=seq(min(pull(data5,i), na.rm=TRUE), max(pull(data5,i), na.rm=TRUE), length=40) \n",
    "  yfit=dnorm(xfit, mean=mean(pull(data5,i), na.rm=TRUE), sd=sd(pull(data5,i), na.rm=TRUE)) \n",
    "  lines(xfit, yfit, col=\"blue\", lty=2)\n",
    "  qqnorm(pull(data5,i),main = \"\")\n",
    "  qqline(pull(data5,i))\n",
    "}\n",
    "mtext(\"Kapacita akumulátorů po 5 cyklech (mAh)\", cex = 1.5, outer=TRUE, side=3)"
   ]
  },
  {
   "cell_type": "markdown",
   "id": "8dd418f6",
   "metadata": {},
   "source": [
    "# 8. Internal walls and identification of remote observations\n",
    " \n",
    "## Manual removal by counting the inner walls\n",
    " \n"
   ]
  },
  {
   "cell_type": "code",
   "execution_count": null,
   "id": "f7f7b15a",
   "metadata": {},
   "outputs": [],
   "source": [
    "# data column separation for manufacturer\n",
    "data_A_kap5 = dataS$kap5[dataS$vyrobce == \"A\"]\n",
    "data_A_kap5"
   ]
  },
  {
   "cell_type": "code",
   "execution_count": null,
   "id": "dc9f89a4",
   "metadata": {},
   "outputs": [],
   "source": [
    "dolni_kvartil = quantile(data_A_kap5,0.25,na.rm=T)\n",
    "horni_kvartil = quantile(data_A_kap5,0.75,na.rm=T)\n",
    "IQR = horni_kvartil - dolni_kvartil  # interquartile margins\n",
    "dolni_mez = dolni_kvartil - 1.5*IQR  # calculation of the lower between the inner walls\n",
    "horni_mez = horni_kvartil + 1.5*IQR  # calculation of the upper between the inner walls\n",
    "dolni_mez\n",
    "horni_mez"
   ]
  },
  {
   "cell_type": "code",
   "execution_count": null,
   "id": "882defc8",
   "metadata": {},
   "outputs": [],
   "source": [
    "data_A_kap5_bezOP = data_A_kap5\n",
    "# set values that are out of limits to NA\n",
    "data_A_kap5_bezOP[data_A_kap5>=horni_mez | data_A_kap5<=dolni_mez] = NA\n",
    "data_A_kap5_bezOP"
   ]
  },
  {
   "cell_type": "code",
   "execution_count": null,
   "id": "b71c6fee",
   "metadata": {},
   "outputs": [],
   "source": [
    "# we can delete NA hondots\n",
    "data_A_kap5_bezOP = na.omit(data_A_kap5_bezOP)"
   ]
  },
  {
   "cell_type": "markdown",
   "id": "16a78db0",
   "metadata": {},
   "source": [
    "## Automatic removal according to the box fence\n",
    " \n"
   ]
  },
  {
   "cell_type": "code",
   "execution_count": null,
   "id": "7ce37344",
   "metadata": {},
   "outputs": [],
   "source": [
    "pom = boxplot(data_A_kap5)"
   ]
  },
  {
   "cell_type": "code",
   "execution_count": null,
   "id": "0c347a7e",
   "metadata": {},
   "outputs": [],
   "source": [
    "pom"
   ]
  },
  {
   "cell_type": "code",
   "execution_count": null,
   "id": "b353794e",
   "metadata": {},
   "outputs": [],
   "source": [
    "data_A_kap5_bezOP = data_A_kap5\n",
    "data_A_kap5_bezOP[data_A_kap5 %in% pom$out] = NA\n",
    "data_A_kap5_bezOP"
   ]
  },
  {
   "cell_type": "markdown",
   "id": "2a03f6c8",
   "metadata": {},
   "source": [
    "### How to do this for standard multi-category data?\n",
    " \n"
   ]
  },
  {
   "cell_type": "code",
   "execution_count": null,
   "id": "021da1de",
   "metadata": {},
   "outputs": [],
   "source": [
    "head(data5S)"
   ]
  },
  {
   "cell_type": "code",
   "execution_count": null,
   "id": "b55afb6b",
   "metadata": {},
   "outputs": [],
   "source": [
    "pom = boxplot(data5S$kap5 ~ data5S$vyrobce)\n",
    "pom"
   ]
  },
  {
   "cell_type": "markdown",
   "id": "89591f82",
   "metadata": {},
   "source": [
    "**Caution, this needs to be done by category, otherwise we risk deleting the data into the data. the file belongs to !!!**\n",
    " \n"
   ]
  },
  {
   "cell_type": "code",
   "execution_count": null,
   "id": "27082e08",
   "metadata": {},
   "outputs": [],
   "source": [
    "vyrobci = unique(data5S$vyrobce) # c(\"A\", \"B\",..)\n",
    "vyrobci\n",
    "\n",
    "data5S_bezOP = data5S\n",
    "\n",
    "for(vyrobce in vyrobci){\n",
    "    pom = boxplot(data5S$kap5[data5S$vyrobce == vyrobce],plot = FALSE)\n",
    "    data5S_bezOP$kap5[data5S$kap5 %in% pom$out & data5S$vyrobce == vyrobce]=NA\n",
    "}"
   ]
  },
  {
   "cell_type": "code",
   "execution_count": null,
   "id": "a68681c3",
   "metadata": {},
   "outputs": [],
   "source": [
    "boxplot(data5S_bezOP$kap5 ~ data5S_bezOP$vyrobce)"
   ]
  },
  {
   "cell_type": "markdown",
   "id": "828037f8",
   "metadata": {},
   "source": [
    "**The analyst can always say that he will not delete outgoing observations, but he must include this information in the analysis report!**\n",
    " \n"
   ]
  },
  {
   "cell_type": "markdown",
   "id": "6ef1e4f3",
   "metadata": {},
   "source": [
    "# 9 rule 3 $\\sigma$ and Chebyshev's inequality\n",
    " \n",
    "## Empirical verification of normality\n",
    " \n",
    "**Based on data after deleting remote observations:**\n",
    " \n"
   ]
  },
  {
   "cell_type": "code",
   "execution_count": null,
   "id": "98667a65",
   "metadata": {},
   "outputs": [],
   "source": [
    "# we will use the data from the removal example op\n",
    "data_A_kap5_bezOP = na.omit(data_A_kap5_bezOP)\n",
    "data_A_kap5_bezOP"
   ]
  },
  {
   "cell_type": "markdown",
   "id": "6063b922",
   "metadata": {},
   "source": [
    "We draw the QQ graph and calculate the skewness and sharpness:\n",
    " \n"
   ]
  },
  {
   "cell_type": "code",
   "execution_count": null,
   "id": "81e28411",
   "metadata": {},
   "outputs": [],
   "source": [
    "qqnorm(data_A_kap5_bezOP)\n",
    "qqline(data_A_kap5_bezOP)"
   ]
  },
  {
   "cell_type": "code",
   "execution_count": null,
   "id": "e1f9beac",
   "metadata": {},
   "outputs": [],
   "source": [
    "skewness(data_A_kap5_bezOP)\n",
    "kurtosis(data_A_kap5_bezOP) - 3 # another definition shifted by 3\n"
   ]
  },
  {
   "cell_type": "markdown",
   "id": "7b28789e",
   "metadata": {},
   "source": [
    "- the dots in the QQ graph must lie approximately on the line - ie. the quantiles correspond approximately to the quantiles of the normal distribution\n",
    " \n",
    "- skewness must lie in the interval<-2, 2>\n",
    " \n",
    "- kurtosis must lie in the interval<-2.2>\n",
    " \n",
    "- be careful we have to reduce the result of the R function by 3\n",
    " \n",
    " \n",
    "**If data normality is met ->rule 3σ**<br>\n",
    " \n",
    "σ: P(µ - σ<X<µ + σ)=0.6827<br>2σ: P(µ - 2σ<X<µ + 2σ)=0.9545<br>3σ: P(µ - 3σ<X<µ + 3σ)=0.9973<br><br>\n",
    " \n",
    "**If data normality is not met ->Chebyshev inequality**<br>\n",
    " \n",
    "σ: P(µ - σ<X<µ + σ)=0<br>2σ: P(µ - 2σ<X<µ + 2σ)=0.75<br>3σ: P(µ - 3σ<X<µ + 3σ)=0.8889<br>\n",
    " \n"
   ]
  },
  {
   "cell_type": "code",
   "execution_count": null,
   "id": "5cbaf393",
   "metadata": {},
   "outputs": [],
   "source": [
    "mu = mean(data_A_kap5_bezOP)\n",
    "sigma = sd(data_A_kap5_bezOP)\n",
    "paste0(\"<\", mu - sigma, \", \", mu + sigma, \">\")\n",
    "paste0(\"<\", mu - 2*sigma, \", \", mu + 2*sigma, \">\")\n",
    "paste0(\"<\", mu - 3*sigma, \", \", mu + 3*sigma, \">\")"
   ]
  },
  {
   "cell_type": "markdown",
   "id": "0c9db44b",
   "metadata": {},
   "source": [
    "# 10. Rounding\n",
    " \n",
    "Everything needed for rounding can be found on the LMS in the rounding document. https://lms.vsb.cz/pluginfile.php/1298954/mod_folder/content/0/Leg%C3%A1ln%C3%AD%20tah%C3%A1ky/zaokrouhlovani.pdf<br>Most important:\n",
    " \n",
    "- the standard deviation is rounded up to the prescribed number of digits(ceiling)\n",
    " \n",
    "- data file size=<2.10>->1 valid digit\n",
    " \n",
    "- data file size=(10.30>->2 valid digits\n",
    " \n",
    "- data file size=(30,2000>->3 valid digits\n",
    " \n",
    "- position measures(averages, quantiles,...) are then rounded to the same valid digit as the standard deviation\n",
    " \n"
   ]
  },
  {
   "cell_type": "code",
   "execution_count": null,
   "id": "188f10cb",
   "metadata": {},
   "outputs": [],
   "source": [
    "length(data_A_kap5_bezOP)\n",
    "smer_odch = sd(data_A_kap5_bezOP)\n",
    "smer_odch"
   ]
  },
  {
   "cell_type": "code",
   "execution_count": null,
   "id": "b66c3a99",
   "metadata": {},
   "outputs": [],
   "source": [
    "ceiling(smer_odch*10)/10"
   ]
  },
  {
   "cell_type": "code",
   "execution_count": null,
   "id": "ad2777f3",
   "metadata": {},
   "outputs": [],
   "source": [
    "prumer = mean(data_A_kap5_bezOP)\n",
    "prumer"
   ]
  },
  {
   "cell_type": "code",
   "execution_count": null,
   "id": "d87afae2",
   "metadata": {},
   "outputs": [],
   "source": [
    "round(prumer,digits=1)"
   ]
  },
  {
   "cell_type": "code",
   "execution_count": null,
   "id": "dcfdc05f",
   "metadata": {},
   "outputs": [],
   "source": [
    "max(data_A_kap5_bezOP)"
   ]
  },
  {
   "cell_type": "code",
   "execution_count": null,
   "id": "2e969982",
   "metadata": {},
   "outputs": [],
   "source": []
  }
 ],
 "metadata": {
  "kernelspec": {
   "display_name": "R",
   "language": "R",
   "name": "ir"
  },
  "language_info": {
   "codemirror_mode": "r",
   "file_extension": ".r",
   "mimetype": "text/x-r-source",
   "name": "R",
   "pygments_lexer": "r",
   "version": "4.1.2"
  }
 },
 "nbformat": 4,
 "nbformat_minor": 5
}
