{
 "cells": [
  {
   "cell_type": "code",
   "execution_count": 29,
   "metadata": {},
   "outputs": [],
   "source": [
    "import json\n",
    "import numpy as np\n",
    "import re\n",
    "from docx import Document \n",
    "import docx\n",
    "import os"
   ]
  },
  {
   "cell_type": "markdown",
   "metadata": {},
   "source": [
    "Třída pro parsování Markdown položek, pro shlukování textu pro lepší překlady"
   ]
  },
  {
   "cell_type": "code",
   "execution_count": 30,
   "metadata": {},
   "outputs": [],
   "source": [
    "class markdown_text:\n",
    "    def __init__(self, lines_orig):\n",
    "        self.lines_orig = lines_orig\n",
    "    \n",
    "    def parse_orig(self):\n",
    "        self.lines_CZ = list()\n",
    "        first_line = True\n",
    "        tmp_line = ''\n",
    "        for line in self.lines_orig:\n",
    "            if line[0] == '#' or line[0:3] == ' - ' or line[0:2] == ' *' or line[0:1] == '*' or line[0:2] == '- ' or line[0:6] == '    - ':\n",
    "                if tmp_line != '':\n",
    "                    self.lines_CZ.append(tmp_line)\n",
    "                self.lines_CZ.append(line.replace('\\n',''))\n",
    "                first_line = True\n",
    "                tmp_line = ''\n",
    "            else:\n",
    "                if first_line:\n",
    "                    first_line = False\n",
    "                    tmp_line = line.replace('\\n','')\n",
    "                else:\n",
    "                    tmp_line = tmp_line + ' ' + line.replace('\\n','')\n",
    "                    \n",
    "        if tmp_line != '':\n",
    "            self.lines_CZ.append(tmp_line)\n",
    "            \n",
    "        self.n_lines = len(self.lines_CZ)\n",
    "    \n",
    "    def set_trans(self, lines_translated):\n",
    "        for i in range(self.n_lines):\n",
    "            line_CZ = self.lines_CZ[i]\n",
    "            line_EN = lines_translated[i]\n",
    "            formulas_CZ = re.findall(\"\\$(.*?)\\$\",line_CZ)\n",
    "            formulas_EN = re.findall(\"\\$(.*?)\\$\",line_EN)\n",
    "            for j in range(len(formulas_EN)):\n",
    "                line_EN = line_EN.replace('$'+formulas_EN[j]+'$','$'+formulas_CZ[j]+'$')\n",
    "            lines_translated[i] = line_EN + ' \\n'\n",
    "        self.lines_EN = lines_translated\n",
    "        return self.lines_EN\n",
    "            "
   ]
  },
  {
   "cell_type": "markdown",
   "metadata": {},
   "source": [
    "Projdu všechny soubory v složce cz"
   ]
  },
  {
   "cell_type": "code",
   "execution_count": 31,
   "metadata": {},
   "outputs": [],
   "source": [
    "all_files = os.listdir(path='cz/')\n",
    "all_files_n = list()\n",
    "for line in all_files:\n",
    "    all_files_n.append(line[:-6])\n"
   ]
  },
  {
   "cell_type": "markdown",
   "metadata": {},
   "source": [
    "Zpracujeme soubory"
   ]
  },
  {
   "cell_type": "code",
   "execution_count": 32,
   "metadata": {},
   "outputs": [],
   "source": [
    "document = Document()"
   ]
  },
  {
   "cell_type": "code",
   "execution_count": 33,
   "metadata": {},
   "outputs": [],
   "source": [
    "for filename in all_files_n:\n",
    "    document.add_paragraph('%%%%%%%%%% ' + filename + ' \\n')\n",
    "    json_file = open('cz/'+filename + '.ipynb')\n",
    "    data = json.load(json_file)\n",
    "    all_cells = data['cells']\n",
    "    mark_classes = list()\n",
    "    out_list = list()\n",
    "    n_lines = 0\n",
    "\n",
    "    for one_cell in all_cells:\n",
    "        if one_cell['cell_type'] == 'markdown':\n",
    "            mt= markdown_text(one_cell['source'].copy())\n",
    "            mt.parse_orig()\n",
    "            out_lines = mt.lines_CZ\n",
    "            out_list = out_list + out_lines\n",
    "            n_lines += mt.n_lines\n",
    "\n",
    "        if one_cell['cell_type'] == 'code':\n",
    "            for line in one_cell['source']:\n",
    "                idx = line.find('#')\n",
    "                if idx > -1:\n",
    "                    out_list.append(line[(idx+1):].replace('\\n',''))\n",
    "                    n_lines += 1\n",
    "\n",
    "    for i in range(len(out_list)):\n",
    "        out_list[i] = 'L' + str(i) + ': ' + out_list[i] + '\\n'\n",
    "\n",
    "    for line in out_list:\n",
    "        document.add_paragraph(line)"
   ]
  },
  {
   "cell_type": "code",
   "execution_count": 34,
   "metadata": {},
   "outputs": [],
   "source": [
    "document.save('to_translate.docx')"
   ]
  },
  {
   "cell_type": "code",
   "execution_count": 35,
   "metadata": {},
   "outputs": [],
   "source": [
    "def getText(filename):\n",
    "    doc = docx.Document(filename)\n",
    "    fullText = []\n",
    "    for para in doc.paragraphs:\n",
    "        fullText.append(para.text)\n",
    "    return fullText"
   ]
  },
  {
   "cell_type": "markdown",
   "metadata": {},
   "source": [
    "V tuto chvíli je třeba vyrobený soubor, přeložit pomocí Google translate!!!!"
   ]
  },
  {
   "cell_type": "code",
   "execution_count": 36,
   "metadata": {},
   "outputs": [],
   "source": [
    "translated_lines = getText('translated.docx')"
   ]
  },
  {
   "cell_type": "code",
   "execution_count": 37,
   "metadata": {},
   "outputs": [],
   "source": [
    "all_files = list()\n",
    "for line in translated_lines:\n",
    "    if line[:11] == '%%%%%%%%%% ':\n",
    "        this_file = list()\n",
    "        all_files.append(this_file)\n",
    "    else:\n",
    "        bold_txt = re.findall(\"\\*\\*(.*?)\\*\\*\",line)\n",
    "        tmp = line\n",
    "        for bold_piece in bold_txt:\n",
    "            tmp = tmp.replace(bold_piece,bold_piece[1:-1])\n",
    "        tmp = tmp.replace(' =','=').replace('= ','=').replace(' (','(').replace(' |','|').replace('| ','|').replace(' >','>').replace('> ','>').replace(' <','<').replace('< ','<').replace(' ~','~').replace('~ ','~')\n",
    "        tmp = tmp.replace('! [',' </br> \\n ![').replace('attachment: ','attachment:').replace(' *(','*(').replace(' /','/').replace('/ ','/').replace(' .','.')\n",
    "        idx = tmp.find(':')\n",
    "        tmp = tmp[(idx+2):]\n",
    "        this_file.append(tmp)\n"
   ]
  },
  {
   "cell_type": "markdown",
   "metadata": {},
   "source": [
    "Projde řádky a vyrobí nové ipynb"
   ]
  },
  {
   "cell_type": "code",
   "execution_count": 38,
   "metadata": {},
   "outputs": [],
   "source": [
    "idx_file = 0\n",
    "for filename in all_files_n:\n",
    "    translated_single_file = all_files[idx_file]\n",
    "    idx_file += 1\n",
    "    json_file = open('cz/'+filename + '.ipynb')\n",
    "    data = json.load(json_file)\n",
    "    all_cells = data['cells']\n",
    "    mark_classes = list()\n",
    "    out_list = list()\n",
    "    n_lines = 0\n",
    "\n",
    "    for one_cell in all_cells:\n",
    "        if one_cell['cell_type'] == 'markdown':\n",
    "            mt= markdown_text(one_cell['source'].copy())\n",
    "            mt.parse_orig()\n",
    "            out_lines = mt.set_trans(translated_single_file[n_lines:(n_lines+mt.n_lines)])\n",
    "            one_cell['source'] = out_lines\n",
    "            n_lines += mt.n_lines\n",
    "\n",
    "        if one_cell['cell_type'] == 'code':\n",
    "            i = 0\n",
    "            for line in one_cell['source']:\n",
    "                idx = line.find('#')\n",
    "                if idx > -1:\n",
    "                    out_list.append(line[(idx+1):].replace('\\n',''))\n",
    "                    one_cell['source'][i] = line[0:(idx+1)] + ' ' + translated_single_file[n_lines]\n",
    "                    n_lines += 1\n",
    "                i += 1\n",
    "\n",
    "                \n",
    "    for one_cell in all_cells:\n",
    "        if one_cell['cell_type'] == 'markdown' or one_cell['cell_type'] == 'code':\n",
    "            i = 0\n",
    "            for line in one_cell['source']:\n",
    "                tmp = line.replace('variace_opak','r_permutation_repetition').replace('variace','r_permutation')\n",
    "                tmp = tmp.replace('citatel','numerator').replace('jmenovatel','denominator')\n",
    "                tmp = tmp.replace('permutace_opak','permutation_repetition').replace('permutace','permutation')\n",
    "                tmp = tmp.replace('kombinace_opak','combinations_repetition').replace('kombinace','combinations').replace('pocet','count')               \n",
    "                one_cell['source'][i] = tmp\n",
    "                i += 1\n",
    "    \n",
    "    \n",
    "    outfile = open('en/'+filename + '.ipynb', 'w')\n",
    "    json.dump(data, outfile)\n",
    "    outfile.close()\n"
   ]
  },
  {
   "cell_type": "code",
   "execution_count": null,
   "metadata": {},
   "outputs": [],
   "source": []
  }
 ],
 "metadata": {
  "kernelspec": {
   "display_name": "Python 3.8.0 64-bit",
   "language": "python",
   "name": "python38064bit6cab653956db4431a5301ba2f6fc7f74"
  },
  "language_info": {
   "codemirror_mode": {
    "name": "ipython",
    "version": 3
   },
   "file_extension": ".py",
   "mimetype": "text/x-python",
   "name": "python",
   "nbconvert_exporter": "python",
   "pygments_lexer": "ipython3",
   "version": "3.10.1"
  }
 },
 "nbformat": 4,
 "nbformat_minor": 4
}
