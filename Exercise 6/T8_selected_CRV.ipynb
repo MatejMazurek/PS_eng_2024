{
 "cells": [
  {
   "cell_type": "markdown",
   "metadata": {},
   "source": [
    "# Exercise 6 - Selected distributions of a continuous random variable\n",
    " \n",
    "## Martina Litschmannová, Adéla Vrtková, Michal Béreš\n",
    " \n"
   ]
  },
  {
   "cell_type": "markdown",
   "metadata": {},
   "source": [
    "# Overview of distributions and their functions\n",
    " \n",
    "## Introduction: Probability Density, Distribution Function and Quantile Function\n",
    " \n",
    "### Probability density\n",
    " \n",
    "- starts with the letter **d**: p=d...(x,...)\n",
    " \n",
    "### Distribution function\n",
    " \n",
    "- starts with the letter **p**: $p = P(X < x)$:p=p...(x,...)\n",
    " \n",
    "### Quantile function\n",
    " \n",
    "- starts with the letter **q**: find x for the given p: $p = F(x) \\rightarrow x = F^{-1}(p)$: x=q...(p,...)\n",
    " \n"
   ]
  },
  {
   "cell_type": "markdown",
   "metadata": {},
   "source": [
    "## Uniform distribution: $X \\sim U(a, b)$\n",
    " \n",
    "- the random variable takes on only values greater than a and less than b\n",
    " \n",
    "- all values have the same occurrence density ->the probability density is constant between a and b, elsewhere zero\n",
    " \n"
   ]
  },
  {
   "cell_type": "code",
   "execution_count": null,
   "metadata": {},
   "outputs": [],
   "source": [
    "# Probability density f(x)\n",
    "a = 2   # from where\n",
    "b = 4   # up to\n",
    "x = 3   \n",
    "dunif(x, a, b)"
   ]
  },
  {
   "cell_type": "code",
   "execution_count": null,
   "metadata": {},
   "outputs": [],
   "source": [
    "# we plot the probability density\n",
    "x = seq(from = 0, to = 6, by = 0.01)\n",
    "f_x = dunif(x, a, b)\n",
    "plot(x, f_x, cex = 0.1) # cex is the size of the markers\n",
    "grid()"
   ]
  },
  {
   "cell_type": "code",
   "execution_count": null,
   "metadata": {},
   "outputs": [],
   "source": [
    "# Distribution function F(x)=P(X<x)\n",
    "a = 2   # from where\n",
    "b = 4   # where\n",
    "x = 3   \n",
    "punif(x, a, b)"
   ]
  },
  {
   "cell_type": "code",
   "execution_count": null,
   "metadata": {},
   "outputs": [],
   "source": [
    "# let's draw the Distribution function\n",
    "x = seq(from = 0, to = 6, by = 0.01)\n",
    "F_x = punif(x, a, b)\n",
    "plot(x, F_x, type = 'l')\n",
    "grid()"
   ]
  },
  {
   "cell_type": "code",
   "execution_count": null,
   "metadata": {},
   "outputs": [],
   "source": [
    "# quantile function F ^(- 1)(p)=x: P(X<x)=p\n",
    "a = 2   # from where\n",
    "b = 4   # where\n",
    "p = 0.75   \n",
    "qunif(p, a, b)"
   ]
  },
  {
   "cell_type": "code",
   "execution_count": null,
   "metadata": {},
   "outputs": [],
   "source": [
    "# plot - quantile function F ^(- 1)(p)=x\n",
    "p = seq(from=0, to=1, by=0.01)   \n",
    "x = qunif(p, a, b)\n",
    "plot(p, x, type = 'l')\n",
    "grid()"
   ]
  },
  {
   "cell_type": "markdown",
   "metadata": {},
   "source": [
    "## Exponential distribution: $X \\sim Exp(\\lambda)$\n",
    " \n",
    "- time to 1st event, time between events(only in the period of stable life - Poisson process)\n",
    " \n",
    "- the parameter $\\lambda$ is the same as in the Poisson distribution\n",
    " \n",
    "- the mean value is: $E(X)=1 / \\lambda$\n",
    " \n"
   ]
  },
  {
   "cell_type": "code",
   "execution_count": null,
   "metadata": {},
   "outputs": [],
   "source": [
    "# Probability density f(x)\n",
    "lambda = 2\n",
    "x = 1\n",
    "dexp(x, lambda)"
   ]
  },
  {
   "cell_type": "code",
   "execution_count": null,
   "metadata": {},
   "outputs": [],
   "source": [
    "# we plot the probability density\n",
    "x = seq(from = 0, to = 6, by = 0.01)\n",
    "f_x = dexp(x, lambda)\n",
    "plot(x, f_x, type='l')\n",
    "grid()"
   ]
  },
  {
   "cell_type": "code",
   "execution_count": null,
   "metadata": {},
   "outputs": [],
   "source": [
    "# Distribution function F(x)=P(X<x)\n",
    "lambda = 2\n",
    "x = 1\n",
    "pexp(x, lambda)"
   ]
  },
  {
   "cell_type": "code",
   "execution_count": null,
   "metadata": {},
   "outputs": [],
   "source": [
    "# let's draw the Distribution function\n",
    "x = seq(from = 0, to = 6, by = 0.01)\n",
    "F_x = pexp(x, lambda)\n",
    "plot(x, F_x, type = 'l')\n",
    "grid()"
   ]
  },
  {
   "cell_type": "code",
   "execution_count": null,
   "metadata": {},
   "outputs": [],
   "source": [
    "# quantile function F ^(- 1)(p)=x: P(X<x)=p\n",
    "lambda = 2\n",
    "p = 0.5 \n",
    "qexp(p, a, b)"
   ]
  },
  {
   "cell_type": "code",
   "execution_count": null,
   "metadata": {},
   "outputs": [],
   "source": [
    "# plot - quantile function F ^(- 1)(p)=x\n",
    "p = seq(from=0, to=1, by=0.001)   \n",
    "x = qexp(p, lambda)\n",
    "plot(p, x, type = 'l')\n",
    "grid()"
   ]
  },
  {
   "cell_type": "markdown",
   "metadata": {},
   "source": [
    "## Weibull distribution: $X \\sim W(\\theta,\\beta)$\n",
    " \n",
    "- time until the 1st event(faults)(suitable choice of β allows use in any period of fault intensity)\n",
    " \n",
    "- extension of exponential distribution Exp(λ)=W(Θ=1/λ, β=1)\n",
    " \n"
   ]
  },
  {
   "cell_type": "code",
   "execution_count": null,
   "metadata": {},
   "outputs": [],
   "source": [
    "# Probability density f(x)\n",
    "theta = 1/2 # equivalent of 1/lambda in exp. distribution\n",
    "beta = 1  # beta=1 ->exponential distribution\n",
    "x = 5\n",
    "dweibull(x,shape=beta, scale=theta)"
   ]
  },
  {
   "cell_type": "code",
   "execution_count": null,
   "metadata": {},
   "outputs": [],
   "source": [
    "# we plot the probability density\n",
    "x = seq(from = 0, to = 6, by = 0.01)\n",
    "f_x = dweibull(x,shape=beta, scale=theta)\n",
    "plot(x, f_x, type='l')\n",
    "grid()"
   ]
  },
  {
   "cell_type": "code",
   "execution_count": null,
   "metadata": {},
   "outputs": [],
   "source": [
    "# Distribution function F(x)=P(X<x)\n",
    "theta = 3 # equivalent of 1/lambda in exp. distribution\n",
    "beta = 2  # beta=1 ->exponential distribution\n",
    "x = 5\n",
    "pweibull(x,shape=beta, scale=theta)"
   ]
  },
  {
   "cell_type": "code",
   "execution_count": null,
   "metadata": {},
   "outputs": [],
   "source": [
    "# we draw the Distribution function\n",
    "x = seq(from = 0, to = 6, by = 0.01)\n",
    "F_x = pweibull(x,shape=beta, scale=theta)\n",
    "plot(x, F_x, type = 'l')\n",
    "grid()"
   ]
  },
  {
   "cell_type": "code",
   "execution_count": null,
   "metadata": {},
   "outputs": [],
   "source": [
    "# quantile function F ^(- 1)(p)=x: P(X<x)=p\n",
    "theta = 3 # equivalent of 1/lambda in exp. distribution\n",
    "beta = 2  # beta=1 ->exponential distribution\n",
    "p = 0.5\n",
    "qweibull(p,shape=beta, scale=theta)"
   ]
  },
  {
   "cell_type": "code",
   "execution_count": null,
   "metadata": {},
   "outputs": [],
   "source": [
    "# plot - quantile function F ^(- 1)(p)=x\n",
    "p = seq(from=0, to=1, by=0.01)   \n",
    "x = qweibull(p,shape=beta, scale=theta)\n",
    "plot(p, x, type = 'l')\n",
    "grid()"
   ]
  },
  {
   "cell_type": "markdown",
   "metadata": {},
   "source": [
    "## Normal distribution: $X \\sim N(\\mu,\\sigma^2)$\n",
    " \n",
    "- distribution modeling eg. measurement errors, sum/average behavior of many other random variables\n",
    " \n",
    "- viz. Central limit theorem\n",
    " \n",
    "- $\\mu$ is the average distribution value: $E(X)=\\mu$\n",
    " \n",
    "- $\\sigma$ is the directly standard deviation of the distribution: $D(X)=\\sigma^2$\n",
    " \n",
    "- with parameters $\\mu=0,\\sigma=1$ is called normalized Normal distribution\n",
    " \n"
   ]
  },
  {
   "cell_type": "code",
   "execution_count": null,
   "metadata": {},
   "outputs": [],
   "source": [
    "# Probability density f(x)\n",
    "mu = 2\n",
    "sigma = 3\n",
    "x = 4\n",
    "dnorm(x, mean=mu, sd=sigma)"
   ]
  },
  {
   "cell_type": "code",
   "execution_count": null,
   "metadata": {},
   "outputs": [],
   "source": [
    "# we plot the probability density\n",
    "x = seq(from = -5, to = 10, by = 0.01)\n",
    "f_x = dnorm(x, mean=mu, sd=sigma)\n",
    "plot(x, f_x, type='l')\n",
    "grid()"
   ]
  },
  {
   "cell_type": "code",
   "execution_count": null,
   "metadata": {},
   "outputs": [],
   "source": [
    "# Distribution function F(x)=P(X<x)\n",
    "mu = 2\n",
    "sigma = 3\n",
    "x = 4\n",
    "pnorm(x, mean=mu, sd=sigma)"
   ]
  },
  {
   "cell_type": "code",
   "execution_count": null,
   "metadata": {},
   "outputs": [],
   "source": [
    "# let's draw the Distribution function\n",
    "x = seq(from = -5, to = 10, by = 0.01)\n",
    "F_x = pnorm(x, mean=mu, sd=sigma)\n",
    "plot(x, F_x, type = 'l')\n",
    "grid()"
   ]
  },
  {
   "cell_type": "code",
   "execution_count": null,
   "metadata": {},
   "outputs": [],
   "source": [
    "# quantile function F ^(- 1)(p)=x: P(X<x)=p\n",
    "mu = 2\n",
    "sigma = 3\n",
    "p = 0.5\n",
    "qnorm(p, mean=mu, sd=sigma)"
   ]
  },
  {
   "cell_type": "code",
   "execution_count": null,
   "metadata": {},
   "outputs": [],
   "source": [
    "# plot - quantile function F ^(- 1)(p)=x\n",
    "p = seq(from=0, to=1, by=0.01)   \n",
    "x = qnorm(p, mean=mu, sd=sigma)\n",
    "plot(p, x, type = 'l')\n",
    "grid()"
   ]
  },
  {
   "cell_type": "markdown",
   "metadata": {},
   "source": [
    "# Examples\n",
    " \n"
   ]
  },
  {
   "cell_type": "markdown",
   "metadata": {},
   "source": [
    "## Example 1.\n",
    " \n",
    "Height in the population of boys aged 3.5-4 years has a normal distribution with a mean value of 102 cm and a standard deviation of 4.5 cm. Determine what percentage of boys at that age are less than or equal to 93 cm in height.\n",
    " \n"
   ]
  },
  {
   "cell_type": "code",
   "execution_count": null,
   "metadata": {},
   "outputs": [],
   "source": [
    "# X... height of boys aged 3.5 to 4 years(cm)\n",
    "# X~N(mu=102, sd=4.5)\n",
    "\n",
    "mu = 102\n",
    "sigma = 4.5\n",
    "\n",
    "# P(X<=93)=F(93)\n",
    "pnorm(93, mean=mu, sd=sigma) "
   ]
  },
  {
   "cell_type": "markdown",
   "metadata": {},
   "source": [
    "## Example 2.\n",
    " \n",
    "The average life of a machine part is 30,000 hours. Assume that the component is in a period of stable life. Specify:\n",
    " \n"
   ]
  },
  {
   "cell_type": "code",
   "execution_count": null,
   "metadata": {},
   "outputs": [],
   "source": [
    "# X... component life(h)\n",
    "# X~Exp(lambda), where E(X)=1/lambda\n",
    "\n",
    "lambda = 1/30000"
   ]
  },
  {
   "cell_type": "markdown",
   "metadata": {},
   "source": [
    "### a)\n",
    " \n",
    "probability that the component will not last more than 2,000 hours,\n",
    " \n"
   ]
  },
  {
   "cell_type": "code",
   "execution_count": null,
   "metadata": {},
   "outputs": [],
   "source": [
    "# a) P(X<2000)=F(2000)\n",
    "pexp(2000, lambda)"
   ]
  },
  {
   "cell_type": "markdown",
   "metadata": {},
   "source": [
    "### b)\n",
    " \n",
    "probability that the component will last more than 35,000 hours,\n",
    " \n"
   ]
  },
  {
   "cell_type": "code",
   "execution_count": null,
   "metadata": {},
   "outputs": [],
   "source": [
    "# b) P(X>35000)=1-F(35000)\n",
    "1 - pexp(35000, lambda)"
   ]
  },
  {
   "cell_type": "markdown",
   "metadata": {},
   "source": [
    "### c)\n",
    " \n",
    "time until 95% of the components fail.\n",
    " \n"
   ]
  },
  {
   "cell_type": "code",
   "execution_count": null,
   "metadata": {},
   "outputs": [],
   "source": [
    "# c) P(X<t)=0.95 ->F(t)=0.95 ->t… 95% quantile\n",
    "qexp(0.95, lambda)"
   ]
  },
  {
   "cell_type": "markdown",
   "metadata": {},
   "source": [
    "## Example 3.\n",
    " \n",
    "The production facility fails on average once every 2000 hours. The quantity Y representing the time before the fault has an exponential distribution. Determine the time T0 so that the probability that the device will run longer than T0 is 0.99.\n",
    " \n"
   ]
  },
  {
   "cell_type": "code",
   "execution_count": null,
   "metadata": {},
   "outputs": [],
   "source": [
    "# X... fault waiting time(h)\n",
    "# X~Exp(lambda), where E(X)=1/lambda\n",
    "lambda = 1/2000\n",
    "\n",
    "# P(X>t)=0.99 ->1-F(t)=0.99 ->F(t)=0.01 ->t… 1% quant.\n",
    "qexp(0.01, lambda)"
   ]
  },
  {
   "cell_type": "markdown",
   "metadata": {},
   "source": [
    "## Example 4.\n",
    " \n",
    "The measurement results are corrupted only with a normally distributed error with zero mean and a standard deviation of 3 mm. What is the probability that there will be an error in the interval(0 mm; 2.4 mm) at least once in 3 measurements?\n",
    " \n"
   ]
  },
  {
   "cell_type": "code",
   "execution_count": null,
   "metadata": {},
   "outputs": [],
   "source": [
    "# Y measurement error size(mm)\n",
    "# Y~N(mu=0, sigma=3)\n",
    "\n",
    "mu = 0\n",
    "sigma = 3\n",
    "\n",
    "# pp… true that the measurement error will be in int. 0.0-2.4mm\n",
    "pp = pnorm(2.4,mean=mu,sd=sigma) - pnorm(0,mean=mu,sd=sigma)\n",
    "pp"
   ]
  },
  {
   "cell_type": "code",
   "execution_count": null,
   "metadata": {},
   "outputs": [],
   "source": [
    "# X… number of measurement errors in int. 0 mm -2.4 mm in 3 measures.\n",
    "# X~Bi(n=3, p=pp)\n",
    "n = 3\n",
    "p = pp\n",
    "\n",
    "# P(X>=1)=1-P(X=0)\n",
    "1 - dbinom(0, n, p)"
   ]
  },
  {
   "cell_type": "markdown",
   "metadata": {},
   "source": [
    "## Example 5.\n",
    " \n",
    "An average of 25 users per hour log on to a large computer network. Determine the probability that:\n",
    " \n",
    "### a)\n",
    " \n",
    "no one logs in during 14:30 - 14:36,\n",
    " \n"
   ]
  },
  {
   "cell_type": "code",
   "execution_count": null,
   "metadata": {},
   "outputs": [],
   "source": [
    "# X… number of users logged in in 6 minutes\n",
    "# X~Po(lt=2.5)\n",
    "\n",
    "lambda = 25/60\n",
    "t = 6\n",
    "lt = lambda*t\n",
    "\n",
    "# P(X=0)\n",
    "dpois(0, lt)"
   ]
  },
  {
   "cell_type": "markdown",
   "metadata": {},
   "source": [
    "### b)\n",
    " \n",
    "2-3 minutes will elapse before the next login.\n",
    " \n"
   ]
  },
  {
   "cell_type": "code",
   "execution_count": null,
   "metadata": {},
   "outputs": [],
   "source": [
    "# Y… time until next login\n",
    "# Y~Exp(lambda=25/60), where E(X)=1/lambda\n",
    "lambda = 25/60 \n",
    "\n",
    "# P(2<Y<3)=F(3) -F(2)\n",
    "pexp(3, lambda) - pexp(2, lambda)"
   ]
  },
  {
   "cell_type": "markdown",
   "metadata": {},
   "source": [
    "### c)\n",
    " \n",
    "Specify the maximum length of the time interval so that the probability that no one will log in is at least 0.90.\n",
    " \n"
   ]
  },
  {
   "cell_type": "code",
   "execution_count": null,
   "metadata": {},
   "outputs": [],
   "source": [
    "# P(Y>t)=0.90 ->1-F(t)=0.90 ->F(t)=0.10 ->t… 10% kv.\n",
    "\n",
    "qexp(0.10, lambda)*60"
   ]
  },
  {
   "cell_type": "markdown",
   "metadata": {},
   "source": [
    "## Example 6.\n",
    " \n",
    "The random variable X has a normal distribution N(µ; σ). Specify:\n",
    " \n",
    "### a)\n",
    " \n",
    "P(µ - 2σ<X<µ + 2σ),\n",
    " \n"
   ]
  },
  {
   "cell_type": "code",
   "execution_count": null,
   "metadata": {},
   "outputs": [],
   "source": [
    "# P(µ - 2σ<X<µ + 2σ)=F(µ + 2σ) - F(µ - 2σ)\n",
    "# X~N(µ, σ)\n",
    "# it doesn't matter what values we choose\n",
    "mu = -105.5447 \n",
    "sigma = 2.654\n",
    "\n",
    "pnorm(mu + 2*sigma, mean=mu, sd=sigma) - \n",
    "pnorm(mu - 2*sigma, mean=mu, sd=sigma)"
   ]
  },
  {
   "cell_type": "markdown",
   "metadata": {},
   "source": [
    "### b)\n",
    " \n",
    "smallest k ∈ Z, so that P(µ - kσ<X<µ + kσ)>0.99.\n",
    " \n"
   ]
  },
  {
   "cell_type": "code",
   "execution_count": null,
   "metadata": {},
   "outputs": [],
   "source": [
    "# normal distribution is symmetric\n",
    "# P(µ - kσ<X<µ + kσ)=\n",
    "# 1 -(P(X<µ - kσ) + P(X>µ + kσ))=\n",
    "# 1 - 2 * P(X>µ + kσ)=0.99 ->P(X>µ + kσ)=0.005\n",
    "# ->P(X<µ + kσ)=0.995\n",
    "\n",
    "# x=µ + kσ\n",
    "x = qnorm(0.995, mean=mu, sd=sigma)\n",
    "(x - mu)/sigma"
   ]
  },
  {
   "cell_type": "code",
   "execution_count": null,
   "metadata": {},
   "outputs": [],
   "source": [
    "for(k in 1:5){\n",
    "    p = pnorm(mu + k*sigma, mean=mu, sd=sigma) - \n",
    "        pnorm(mu - k*sigma, mean=mu, sd=sigma)\n",
    "    print(paste0(k,\":\",p))\n",
    "}"
   ]
  },
  {
   "cell_type": "markdown",
   "metadata": {},
   "source": [
    "## Example 7.\n",
    " \n",
    "An accompanying film about the life of the author of the exhibited works is screened on a tour of the exhibition. His screening begins every 20 minutes. Determine the probability that if you come to the screening room at random time (and you have no clue about screening shedule),\n",
    " \n"
   ]
  },
  {
   "cell_type": "code",
   "execution_count": null,
   "metadata": {},
   "outputs": [],
   "source": [
    "# Y… time until the start of the next projection\n",
    "# Y~Ro(a=0, b=20)\n",
    "\n",
    "a = 0\n",
    "b = 20"
   ]
  },
  {
   "cell_type": "markdown",
   "metadata": {},
   "source": [
    "### a)\n",
    " \n",
    "you won't have to wait more than 5 minutes for the movie to start,\n",
    " \n"
   ]
  },
  {
   "cell_type": "code",
   "execution_count": null,
   "metadata": {},
   "outputs": [],
   "source": [
    "# P(X<5)\n",
    "punif(5, a, b)"
   ]
  },
  {
   "cell_type": "markdown",
   "metadata": {},
   "source": [
    "### b)\n",
    " \n",
    "you will wait between 5 and 10 minutes,\n",
    " \n"
   ]
  },
  {
   "cell_type": "code",
   "execution_count": null,
   "metadata": {},
   "outputs": [],
   "source": [
    "# P(5<X<10)\n",
    "punif(10, a, b) - punif(5, a, b)"
   ]
  },
  {
   "cell_type": "markdown",
   "metadata": {},
   "source": [
    "### c)\n",
    " \n",
    "mean and standard deviation of the waiting time for the beginning of the movie.\n",
    " \n"
   ]
  },
  {
   "cell_type": "code",
   "execution_count": null,
   "metadata": {},
   "outputs": [],
   "source": [
    "E_X = (a + b)/2\n",
    "E_X\n",
    "\n",
    "D_X = (a - b)^2/12\n",
    "D_X\n",
    "\n",
    "sigma_X = sqrt(D_X)\n",
    "sigma_X"
   ]
  },
  {
   "cell_type": "markdown",
   "metadata": {},
   "source": [
    "## Example 8.\n",
    " \n",
    "During quality control, we only accept the part if its dimension is in the range of 26-27 mm. The dimensions of the components have a normal distribution with a mean value of 26.4 mm and a standard deviation of 0.2 mm. What is the probability that the size of the part randomly selected for inspection will be within the required limits?\n",
    " \n"
   ]
  },
  {
   "cell_type": "code",
   "execution_count": null,
   "metadata": {},
   "outputs": [],
   "source": [
    "# X... part size(mm)\n",
    "# X~N(mu=26.4, sigma=0.2)\n",
    "\n",
    "mu = 26.4\n",
    "sigma = 0.2\n",
    "\n",
    "# P(26<X<27)=F(27) -F(26)\n",
    "pnorm(27, mean=mu, sd=sigma) - pnorm(26, mean=mu, sd=sigma)"
   ]
  },
  {
   "cell_type": "markdown",
   "metadata": {},
   "source": [
    "## Example 9.\n",
    " \n",
    "The length of jumps of the athlete Jakub measured in cm has a normal distribution N(µ1; σ1), where µ1=690 and σ1=10. The length of jumps of the athlete Aleš measured in cm also has a normal distribution N(µ2; σ2), where µ2=705 and σ2=15. The one who jumps more than 700 cm from two jumps at least once qualifies for the races.\n",
    " \n"
   ]
  },
  {
   "cell_type": "code",
   "execution_count": null,
   "metadata": {},
   "outputs": [],
   "source": [
    "# SJ... length of Jakub's jump\n",
    "# SJ~N(mu=690, sigma=10)\n",
    "mu_J = 690\n",
    "sigma_J = 10\n",
    "\n",
    "# SA Ale Aleš's jump length\n",
    "# SA~N(mu=705, sigma=15)\n",
    "mu_A = 705\n",
    "sigma_A = 15\n",
    "\n",
    "# J... Jakub's jump is successful(longer than 700 cm)\n",
    "# And... Aleš's jump is successful(longer than 700 cm)\n",
    "\n",
    "# P(J)=P(SJ>700)=1-F(700)\n",
    "P.J = 1-pnorm(700,mean=mu_J,sd=sigma_J)\n",
    "P.J\n",
    "\n",
    "# P(A)=P(SA>700)=1-F(700)\n",
    "P.A = 1-pnorm(700,mean=mu_A, sd=sigma_A)\n",
    "P.A"
   ]
  },
  {
   "cell_type": "code",
   "execution_count": null,
   "metadata": {},
   "outputs": [],
   "source": [
    "# KJ… Jakub qualifies for races,\n",
    "# P(KJ)=1-(1-P(J))(1-P(J))\n",
    "P.KJ=1-(1-P.J)*(1-P.J)\n",
    "P.KJ\n",
    "\n",
    "# KA… Aleš qualifies for races,\n",
    "# P(KA)=1-(1-P(A))(1-P(A))\n",
    "P.KA=1-(1-P.A)*(1-P.A)\n",
    "P.KA"
   ]
  },
  {
   "cell_type": "markdown",
   "metadata": {},
   "source": [
    "### a)\n",
    " \n",
    "How likely are they both to qualify for the race?\n",
    " \n"
   ]
  },
  {
   "cell_type": "code",
   "execution_count": null,
   "metadata": {},
   "outputs": [],
   "source": [
    "# ada)\n",
    "P.KJ*P.KA"
   ]
  },
  {
   "cell_type": "markdown",
   "metadata": {},
   "source": [
    "### b)\n",
    " \n",
    "With what probability does Aleš qualify, but Jakub does not?\n",
    " \n"
   ]
  },
  {
   "cell_type": "code",
   "execution_count": null,
   "metadata": {},
   "outputs": [],
   "source": [
    "# adb)\n",
    "(1-P.KJ)*P.KA"
   ]
  },
  {
   "cell_type": "code",
   "execution_count": null,
   "metadata": {},
   "outputs": [],
   "source": []
  }
 ],
 "metadata": {
  "kernelspec": {
   "display_name": "R",
   "language": "R",
   "name": "ir"
  },
  "language_info": {
   "codemirror_mode": "r",
   "file_extension": ".r",
   "mimetype": "text/x-r-source",
   "name": "R",
   "pygments_lexer": "r",
   "version": "4.1.2"
  }
 },
 "nbformat": 4,
 "nbformat_minor": 4
}
