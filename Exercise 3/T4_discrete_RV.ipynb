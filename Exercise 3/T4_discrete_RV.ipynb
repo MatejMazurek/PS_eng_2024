{
 "cells": [
  {
   "cell_type": "markdown",
   "metadata": {},
   "source": [
    "# Exercise 3 - Discrete random variable\n",
    "\n",
    "**R code presented in this excercise is not required on homeworks or exams, its only to show what is possible in R an to complement the excercise with nice graphs.**\n",
    " \n",
    "## Martina Litschmannová, Adéla Vrtková, Michal Béreš\n",
    " \n"
   ]
  },
  {
   "attachments": {
    "image-3.png": {
     "image/png": "[encoded data removed]"
    }
   },
   "cell_type": "markdown",
   "metadata": {},
   "source": [
    "# Examples\n",
    " \n",
    "## Example 1.\n",
    " \n",
    "The owner of the service center offered maintanace to a car dealership that set up car rental company. For each car rented through it, they will receive CZK 500 from the car rental company. At the same time, however, he undertook to invest CZK 800 in the maintenance every day. The number of cars rented through the service center in 1 day is described by the following probability function: </br> \n",
    " ![Image-3.png](attachment:image-3.png)\n",
    " \n",
    "### 1. a)\n",
    " \n",
    "The value of the probability function for 5 cars was difficult to read. Specify it:\n",
    " \n"
   ]
  },
  {
   "cell_type": "code",
   "execution_count": null,
   "metadata": {},
   "outputs": [],
   "source": [
    "x = c(0,1,2,3,4,5,6)\n",
    "p = c(0.01,0.40,0.25,0.15,0.10,0,0.03)\n",
    "x\n",
    "p"
   ]
  },
  {
   "cell_type": "code",
   "execution_count": null,
   "metadata": {},
   "outputs": [],
   "source": [
    "1 - sum(p) # Computer arithmetic can be annoying here\n",
    "round(1 - sum(p), digits=2) # round to the hundredth\n",
    "p[6] = round(1 - sum(p), digits=2) # the notation for x=5 is the 6th position\n",
    "p"
   ]
  },
  {
   "cell_type": "code",
   "execution_count": null,
   "metadata": {},
   "outputs": [],
   "source": [
    "plot(x, p)"
   ]
  },
  {
   "cell_type": "code",
   "execution_count": null,
   "metadata": {},
   "outputs": [],
   "source": [
    "# Probability function\n",
    "probability_draw = function(x,p){\n",
    "    plot(x, p, # solid wheels - in actual values\n",
    "        ylab='p(x)',xaxt='n',pch=19,ylim=c(0,max(p)),main=\"Probability function\") \n",
    "    lines(c(min(x)-100,max(x)+100),c(0, 0))\n",
    "    for(i in 1:length(x)){\n",
    "        lines(c(min(x)-100,max(x)+100), c(p[i],p[i]),\n",
    "              type = 'l', lty = 3, lwd=0.5) # horizontal grid\n",
    "        lines(c(x[i],x[i]), c(-0.1,1.1), \n",
    "              type = 'l', lty = 3, lwd=0.5) # vertical grid\n",
    "    }\n",
    "    par(new=TRUE) # that we want to draw in one graph\n",
    "    plot(x, p*0, # empty circles - where a non-zero value is defined\n",
    "        ylab='p(x)', xaxt='n', ylim=c(0,max(p)))\n",
    "    axis(1, at=x,labels=x) # set values to X\n",
    "    axis(4, at=p,labels=p, las=2, cex.axis=0.7, tck=-.01) # and Y\n",
    "}\n",
    "\n",
    "probability_draw(x, p)"
   ]
  },
  {
   "cell_type": "markdown",
   "metadata": {},
   "source": [
    "More on plotting in R can be found here: http://www.statmethods.net/advgraphs/parameters.html or here https://flowingdata.com/2015/03/17/r-cheat-sheet-for-graphical-parameters/ or http://bcb.dfci.harvard.edu/~aedin/courses/BiocDec2011/2.Plotting.pdf\n",
    " \n"
   ]
  },
  {
   "cell_type": "markdown",
   "metadata": {},
   "source": [
    "### 1. b)\n",
    " \n",
    "Determine and plot the distribution function of the random variable X, which is defined as the number of rented cars.\n",
    " \n"
   ]
  },
  {
   "cell_type": "code",
   "execution_count": null,
   "metadata": {},
   "outputs": [],
   "source": [
    "p\n",
    "F = cumsum(p)\n",
    "F"
   ]
  },
  {
   "cell_type": "code",
   "execution_count": null,
   "metadata": {},
   "outputs": [],
   "source": [
    "plot(x, F, type=\"s\") # simplified distribution function graph\n"
   ]
  },
  {
   "cell_type": "code",
   "execution_count": null,
   "metadata": {},
   "outputs": [],
   "source": [
    "# Function for calculating and plotting the distribution function\n",
    "distribution_draw = function(x,p){\n",
    "    F = cumsum(p)\n",
    "    F_ext = c(0, F) # we stretch F by 0 at the beginning\n",
    "    x_ext = c(x[1]-1, x, x[length(x)]+1) # axz both sides\n",
    "       \n",
    "    plot(x, F, ylab=\"F(x)\", xaxt='n', ylim=c(0,1), # empty wheels\n",
    "         type='p', main=\"Distribution function\") \n",
    "    par(new=TRUE) # that we want to draw in one graph\n",
    "    plot(x, F_ext[1:(length(F_ext)-1)], # full wheels\n",
    "         ylab=\"F(x)\", xaxt='n', ylim=c(0,1), type='p', pch=19) \n",
    "    \n",
    "    for(i in 1:(length(x_ext)-1)){\n",
    "        lines(c(min(x)-100,max(x)+100), c(F_ext[i],F_ext[i]),\n",
    "              type = 'l', lty = 3, lwd=0.5) # horizontal grid\n",
    "        lines(c(x_ext[i],x_ext[i]), c(-0.1,1.1), \n",
    "              type = 'l', lty = 3, lwd=0.5) # vertical grid\n",
    "        lines(x_ext[i:(i+1)], c(F_ext[i],F_ext[i])) # graph - lines\n",
    "    }\n",
    "    axis(1, at=x,labels=x) # set values to X\n",
    "    axis(4, at=F,labels=F, las=2, cex.axis=0.7, tck=-.01) # a Y\n",
    "    return(F)\n",
    "}\n",
    "\n",
    "distribution_draw(x,p)"
   ]
  },
  {
   "cell_type": "markdown",
   "metadata": {},
   "source": [
    "### 1. c)\n",
    " \n",
    "Determine the mean, variance, standard deviation, and mode of the number of cars rented per day.\n",
    " \n"
   ]
  },
  {
   "cell_type": "code",
   "execution_count": null,
   "metadata": {},
   "outputs": [],
   "source": [
    "# Mean value\n",
    "x*p\n",
    "EX = sum(x*p)\n",
    "EX"
   ]
  },
  {
   "cell_type": "code",
   "execution_count": null,
   "metadata": {},
   "outputs": [],
   "source": [
    "# Scattering\n",
    "EX2 = sum(x*x*p)  # second general moment\n",
    "DX = EX2 - EX^2\n",
    "DX"
   ]
  },
  {
   "cell_type": "code",
   "execution_count": null,
   "metadata": {},
   "outputs": [],
   "source": [
    "# Standard deviation\n",
    "sigma.X = sqrt(DX)\n",
    "sigma.X"
   ]
  },
  {
   "cell_type": "code",
   "execution_count": null,
   "metadata": {},
   "outputs": [],
   "source": [
    "# Functions for calculating basic numerical characteristics\n",
    "summary_of_RV=function(x,p){\n",
    "  EX = sum(x*p)\n",
    "  EX2 = sum(x*x*p)  \n",
    "  DX = EX2-EX^2\n",
    "  sigma.X = sqrt(DX)\n",
    "  # write the results to the table\n",
    "  tab = rbind(EX, DX, sigma.X)\n",
    "  tab.popis = c(\"mean\",\"variance\",\"st. dev.\")\n",
    "  rownames(tab) = tab.popis\n",
    "  return(tab)\n",
    "}"
   ]
  },
  {
   "cell_type": "code",
   "execution_count": null,
   "metadata": {},
   "outputs": [],
   "source": [
    "summary_of_RV(x, p)"
   ]
  },
  {
   "cell_type": "markdown",
   "metadata": {},
   "source": [
    "### 1. d)\n",
    " \n",
    "Determine the probability function and the distribution function of the random variable Y, which is defined as the daily income of the service owner.\n",
    " \n"
   ]
  },
  {
   "cell_type": "code",
   "execution_count": null,
   "metadata": {},
   "outputs": [],
   "source": [
    "y = 500*x\n",
    "y"
   ]
  },
  {
   "cell_type": "code",
   "execution_count": null,
   "metadata": {},
   "outputs": [],
   "source": [
    "probability_draw(y, p)"
   ]
  },
  {
   "cell_type": "code",
   "execution_count": null,
   "metadata": {},
   "outputs": [],
   "source": [
    "# Distribution function\n",
    "distribution_draw(y,p)"
   ]
  },
  {
   "cell_type": "markdown",
   "metadata": {},
   "source": [
    "### 1. e)\n",
    " \n",
    "Determine the mean, standard deviation, and mode of receipt of the service owner from rented cars within one day.\n",
    " \n"
   ]
  },
  {
   "cell_type": "code",
   "execution_count": null,
   "metadata": {},
   "outputs": [],
   "source": [
    "summary_of_RV(y,p)"
   ]
  },
  {
   "cell_type": "markdown",
   "metadata": {},
   "source": [
    "### 1. f)\n",
    " \n",
    "Determine the probability that the service owner's income(random variable Y) from car rental will exceed his expenses.\n",
    " \n"
   ]
  },
  {
   "cell_type": "code",
   "execution_count": null,
   "metadata": {},
   "outputs": [],
   "source": [
    "# profit\n",
    "z=500*x-800\n",
    "z"
   ]
  },
  {
   "cell_type": "code",
   "execution_count": null,
   "metadata": {},
   "outputs": [],
   "source": [
    "# income exceeds expenses when profit is positive\n",
    "z > 0"
   ]
  },
  {
   "cell_type": "code",
   "execution_count": null,
   "metadata": {},
   "outputs": [],
   "source": [
    "p\n",
    "sum(p[z>0])"
   ]
  },
  {
   "cell_type": "markdown",
   "metadata": {},
   "source": [
    "### 1. g)\n",
    " \n",
    "Determine the mean, standard deviation, and mode of the random variable Z, which is defined as the service owner's profit from rented cars in one day.\n",
    " \n"
   ]
  },
  {
   "cell_type": "code",
   "execution_count": null,
   "metadata": {},
   "outputs": [],
   "source": [
    "summary_of_RV(z,p)"
   ]
  },
  {
   "cell_type": "markdown",
   "metadata": {},
   "source": [
    "## Example # 2\n",
    " \n",
    "For the distribution function of the random variable X: $F(x)=\\begin{cases} 0   &      x \\leq -1 \\\\ 0.3 & -1 < x \\leq  0 \\\\ 0.7 &  0 < x \\leq  1 \\\\ 1   & -1 < x \\end{cases}$\n",
    " \n",
    "### 2. a)\n",
    " \n",
    "Determine the probability function of a random variable X, its mean and standard deviation.\n",
    " \n"
   ]
  },
  {
   "cell_type": "code",
   "execution_count": null,
   "metadata": {},
   "outputs": [],
   "source": [
    "F = c(0, 0.3, 0.7, 1)\n",
    "F\n",
    "x = c(-1,0,1)\n",
    "x"
   ]
  },
  {
   "cell_type": "code",
   "execution_count": null,
   "metadata": {},
   "outputs": [],
   "source": [
    "diff(F)"
   ]
  },
  {
   "cell_type": "code",
   "execution_count": null,
   "metadata": {},
   "outputs": [],
   "source": [
    "p = diff(F)\n",
    "x\n",
    "p"
   ]
  },
  {
   "cell_type": "code",
   "execution_count": null,
   "metadata": {},
   "outputs": [],
   "source": [
    "probability_draw(x,p)"
   ]
  },
  {
   "cell_type": "code",
   "execution_count": null,
   "metadata": {},
   "outputs": [],
   "source": [
    "distribution_draw(x,p)"
   ]
  },
  {
   "cell_type": "code",
   "execution_count": null,
   "metadata": {},
   "outputs": [],
   "source": [
    "summary_of_RV(x,p)"
   ]
  },
  {
   "cell_type": "markdown",
   "metadata": {},
   "source": [
    "### 2. b)\n",
    " \n",
    "Random variable Y=1 - 3X, determine P(y), F(y), E(Y), D(Y).\n",
    " \n"
   ]
  },
  {
   "cell_type": "code",
   "execution_count": null,
   "metadata": {},
   "outputs": [],
   "source": [
    "y = 1 - 3*x\n",
    "probability_draw(y,p)"
   ]
  },
  {
   "cell_type": "code",
   "execution_count": null,
   "metadata": {},
   "outputs": [],
   "source": [
    "distribution_draw(y,p)   # Nonsensical output - what is the cause?\n",
    "y\n",
    "p"
   ]
  },
  {
   "cell_type": "code",
   "execution_count": null,
   "metadata": {},
   "outputs": [],
   "source": [
    "y\n",
    "sort(y)\n",
    "idx_sorted = order(y) # The order function returns the sorted order indexes\n",
    "idx_sorted\n",
    "y = y[idx_sorted]\n",
    "p_y = p[idx_sorted]\n",
    "p_y"
   ]
  },
  {
   "cell_type": "code",
   "execution_count": null,
   "metadata": {},
   "outputs": [],
   "source": [
    "distribution_draw(y,p_y)"
   ]
  },
  {
   "cell_type": "code",
   "execution_count": null,
   "metadata": {},
   "outputs": [],
   "source": [
    "summary_of_RV(y, p_y)"
   ]
  },
  {
   "cell_type": "markdown",
   "metadata": {},
   "source": [
    "### 2. c)\n",
    " \n",
    "Random variable W=$3X^2$, determine P(w), F(w), E(W), D(W).\n",
    " \n"
   ]
  },
  {
   "cell_type": "code",
   "execution_count": null,
   "metadata": {},
   "outputs": [],
   "source": [
    "w = 3*x*x\n",
    "w"
   ]
  },
  {
   "cell_type": "code",
   "execution_count": null,
   "metadata": {},
   "outputs": [],
   "source": [
    "probability_draw(w,p)\n",
    "distribution_draw(w,p)"
   ]
  },
  {
   "cell_type": "code",
   "execution_count": null,
   "metadata": {},
   "outputs": [],
   "source": [
    "w\n",
    "w_uniq = unique(w)\n",
    "w_uniq\n",
    "w_sorted = sort(w_uniq)\n",
    "w_sorted"
   ]
  },
  {
   "cell_type": "code",
   "execution_count": null,
   "metadata": {},
   "outputs": [],
   "source": [
    "p_w = w_sorted*0 # initialize an array of the same size\n",
    "for(i in 1:length(w_sorted)){\n",
    "    p_w[i] = sum(p[w == w_sorted[i]])\n",
    "}\n",
    "p_w"
   ]
  },
  {
   "cell_type": "code",
   "execution_count": null,
   "metadata": {},
   "outputs": [],
   "source": [
    "probability_draw(w_sorted,p_w)\n",
    "distribution_draw(w_sorted,p_w)\n",
    "summary_of_RV(w_sorted,p_w)"
   ]
  },
  {
   "cell_type": "markdown",
   "metadata": {},
   "source": [
    "## Example 3.\n",
    " \n",
    "There are two machines working independently in the workshop. The probability of failure of the first machine is 0.2, the probability of failure of the second machine is 0.3. The random variable X is defined as the number of machines that have failed at the same time. Specify:\n",
    " \n",
    "### 3. a)\n",
    " \n",
    "probability function of a random variable X,\n",
    " \n"
   ]
  },
  {
   "cell_type": "code",
   "execution_count": null,
   "metadata": {},
   "outputs": [],
   "source": [
    "x = c(0, 1, 2)\n",
    "x\n",
    "p1 = 0.2\n",
    "p2 = 0.3"
   ]
  },
  {
   "cell_type": "code",
   "execution_count": null,
   "metadata": {},
   "outputs": [],
   "source": [
    "p = x*0\n",
    "# we calculate the individual probabilities of the number of broken machines\n",
    "p[1] = (1 - p1)*(1 - p2) # 0 broken, so both in operation\n",
    "p[3] = p1*p2 # 2 so broken both\n",
    "p\n",
    "1 - sum(p)\n",
    "p[2] = (1 - p1)*p2 + p1*(1 - p2) # just one - either the first or the second\n",
    "p"
   ]
  },
  {
   "cell_type": "code",
   "execution_count": null,
   "metadata": {},
   "outputs": [],
   "source": [
    "sum(p)"
   ]
  },
  {
   "cell_type": "code",
   "execution_count": null,
   "metadata": {},
   "outputs": [],
   "source": [
    "probability_draw(x,p)"
   ]
  },
  {
   "cell_type": "markdown",
   "metadata": {},
   "source": [
    "### 3. b)\n",
    " \n",
    "distribution function of random variable X,\n",
    " \n"
   ]
  },
  {
   "cell_type": "code",
   "execution_count": null,
   "metadata": {},
   "outputs": [],
   "source": [
    "distribution_draw(x,p)"
   ]
  },
  {
   "cell_type": "markdown",
   "metadata": {},
   "source": [
    "### 3. c)\n",
    " \n",
    "mean and variance of a random variable X.\n",
    " \n"
   ]
  },
  {
   "cell_type": "code",
   "execution_count": null,
   "metadata": {},
   "outputs": [],
   "source": [
    "summary_of_RV(x,p)"
   ]
  },
  {
   "cell_type": "code",
   "execution_count": null,
   "metadata": {},
   "outputs": [],
   "source": []
  }
 ],
 "metadata": {
  "kernelspec": {
   "display_name": "R",
   "language": "R",
   "name": "ir"
  },
  "language_info": {
   "codemirror_mode": "r",
   "file_extension": ".r",
   "mimetype": "text/x-r-source",
   "name": "R",
   "pygments_lexer": "r",
   "version": "4.1.2"
  }
 },
 "nbformat": 4,
 "nbformat_minor": 4
}
