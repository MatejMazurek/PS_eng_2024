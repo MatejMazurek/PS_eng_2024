{
 "cells": [
  {
   "cell_type": "markdown",
   "id": "b6219073",
   "metadata": {},
   "source": [
    "# Exercise 7. Data preprocessing and exploratory analysis \n",
    "## Adéla Vrtková, Martina Litschmannová, Michal Béreš\n",
    " \n"
   ]
  },
  {
   "cell_type": "markdown",
   "id": "540ecd41",
   "metadata": {},
   "source": [
    "# 1. Packages - installation and loading\n",
    " \n"
   ]
  },
  {
   "cell_type": "code",
   "execution_count": null,
   "id": "740ac111",
   "metadata": {},
   "outputs": [],
   "source": [
    "# You only need to install packages once(if you don't already have them)\n",
    "# install.packages(\"readxl\")\n",
    "# install.packages(\"dplyr\")\n",
    "# install.packages(\"openxlsx\")\n",
    "# install.packages(\"rstatix\")"
   ]
  },
  {
   "cell_type": "code",
   "execution_count": null,
   "id": "08d77491",
   "metadata": {},
   "outputs": [],
   "source": [
    "# Loading the package(must be repeated every time you restart R, it is advisable to have it \n",
    "# at the beginning of the script)\n",
    "library(readxl)\n",
    "library(dplyr)\n",
    "library(openxlsx)\n",
    "library(rstatix)\n",
    "# contains notifications of overwritten functions or older versions of the package"
   ]
  },
  {
   "cell_type": "markdown",
   "id": "9e79b7bf",
   "metadata": {},
   "source": [
    "# 2. Working directory - where we load and where we store data\n",
    " \n",
    "- **Attention, the current open folder in Rstudio, or the location of the Rskcript is not automatically a working directory**\n",
    " \n"
   ]
  },
  {
   "cell_type": "code",
   "execution_count": null,
   "id": "1882d279",
   "metadata": {},
   "outputs": [],
   "source": [
    "# Working directory listing\n",
    "getwd()"
   ]
  },
  {
   "cell_type": "code",
   "execution_count": null,
   "id": "60bd7580",
   "metadata": {},
   "outputs": [],
   "source": [
    "# Working directory setting -> in quotation marks, full path(relative or absolute)\n",
    "setwd(\"./data\")"
   ]
  },
  {
   "cell_type": "code",
   "execution_count": null,
   "id": "b318736c",
   "metadata": {},
   "outputs": [],
   "source": [
    "getwd() # Where are we now?\n"
   ]
  },
  {
   "cell_type": "code",
   "execution_count": null,
   "id": "e37586e9",
   "metadata": {},
   "outputs": [],
   "source": [
    "setwd(\"./..\") # back again\n"
   ]
  },
  {
   "cell_type": "code",
   "execution_count": null,
   "id": "aaef208c",
   "metadata": {},
   "outputs": [],
   "source": [
    "getwd() # for control\n"
   ]
  },
  {
   "cell_type": "markdown",
   "id": "8a9e8127",
   "metadata": {},
   "source": [
    "# 3. Load data file\n",
    " \n"
   ]
  },
  {
   "cell_type": "markdown",
   "id": "78e56a5e",
   "metadata": {},
   "source": [
    "## From CSV file\n",
    " \n",
    "Basic functions - read.table, read.csv, read.csv2,... It depends mainly on the file format(.txt,.csv), the so-called separator of individual values, decimal point/dot\n",
    " \n"
   ]
  },
  {
   "cell_type": "code",
   "execution_count": null,
   "id": "8ea93e05",
   "metadata": {},
   "outputs": [],
   "source": [
    "# Load and save a data file in csv2 format from the working directory\n",
    "data = read.csv2(file=\"aku.csv\")"
   ]
  },
  {
   "cell_type": "code",
   "execution_count": null,
   "id": "348b8d94-a1c3-4d0a-a207-0a54c1b3d231",
   "metadata": {},
   "outputs": [],
   "source": [
    "head(data)"
   ]
  },
  {
   "cell_type": "code",
   "execution_count": null,
   "id": "89bdf27b-ea5e-4798-b0e4-3500fdcdfccc",
   "metadata": {},
   "outputs": [],
   "source": [
    "data = read.csv2(file=\"aku.csv\", sep=\";\", quote=\"\", skip=0, header=TRUE)\n",
    "head(data)"
   ]
  },
  {
   "cell_type": "code",
   "execution_count": null,
   "id": "d3a7a14d",
   "metadata": {},
   "outputs": [],
   "source": [
    "# Load and save a csv2 data file from the local disk to the data frame\n",
    "data = read.csv2(file=\"./data/aku.csv\")"
   ]
  },
  {
   "cell_type": "code",
   "execution_count": null,
   "id": "c21039fb",
   "metadata": {},
   "outputs": [],
   "source": [
    "# Load and save a csv2 data file from the Internet to the data frame\n",
    "data = read.csv2(file=\"http://am-nas.vsb.cz/lit40/DATA/aku.csv\")"
   ]
  },
  {
   "cell_type": "markdown",
   "id": "c0dcf13d",
   "metadata": {},
   "source": [
    "## From Excel(xlsx file)\n",
    " \n",
    "Loading and saving a data file in xlsx format from the local disk to the data frame We use the function from the readxl package, which we expanded in the introduction\n",
    " \n"
   ]
  },
  {
   "cell_type": "code",
   "execution_count": null,
   "id": "328c6686",
   "metadata": {},
   "outputs": [],
   "source": [
    "data = read_excel(\"./data/aku.xlsx\", \n",
    "                  sheet = \"Data\",           # worksheet specification in xlsx file\n",
    "                  skip = 3)                 # lines to be skipped"
   ]
  },
  {
   "cell_type": "code",
   "execution_count": null,
   "id": "93dc8daf",
   "metadata": {},
   "outputs": [],
   "source": [
    "head(data)"
   ]
  },
  {
   "cell_type": "markdown",
   "id": "00f2d426",
   "metadata": {},
   "source": [
    "## Remove unnecessary rows/columns and name rows/columns for easier data addressing\n",
    " \n"
   ]
  },
  {
   "cell_type": "code",
   "execution_count": null,
   "id": "4bc97d08",
   "metadata": {},
   "outputs": [],
   "source": [
    "# Indexing with negative indexes returns everything except the index value\n",
    "# do not mix negative and positive indices!\n",
    "data = data[,-1] # delete the first column with indexes\n",
    "head(data)"
   ]
  },
  {
   "cell_type": "code",
   "execution_count": null,
   "id": "47f3946b",
   "metadata": {},
   "outputs": [],
   "source": [
    "# Rename columns - if necessary\n",
    "colnames(data)=c(\"A5\",\"B5\",\"C5\",\"D5\",\"A100\",\"B100\",\"C100\",\"D100\") \n",
    "head(data)"
   ]
  },
  {
   "cell_type": "markdown",
   "id": "84458612",
   "metadata": {},
   "source": [
    "#### Note(which is good to read until the end....)\n",
    " \n",
    "in Rstudio) it is possible to import using \"Import Dataset\" from the Environment window without having to write the code. In this case, however, there must be no special characters(hooks, commas) in the \"path\" to the file. Otherwise, an error will appear. The object imported this way will be in the new RSstudio as type \"tibble\". This is a more modern \"data.frame\" and in some features it can cause problems and throw errors! You can easily convert this object to type data.frame using **as.data.frame()**"
   ]
  },
  {
   "cell_type": "markdown",
   "id": "b0e566ee",
   "metadata": {},
   "source": [
    "# 4. Pre-processing data + Dplyr library\n",
    " \n",
    "### Overview of Dplyr library functions\n",
    " \n",
    "- **%>%** is a so-called pipe operator, typical usage is \"res=data %>% operation\", where the result is a operation calibrated to data\n",
    " \n",
    "- **select(...)** is one of the operations that we can insert into the \"pipe\" operator - it is used to select data\n",
    "    - select(1) - selects the first column\n",
    "    - select(A5) - selects the column named A5\n",
    "    - select(1,3,5) - selects columns 1,3,5\n",
    " \n",
    "- **mutate(new_column=...)** is an operation that produces a new data column in the data frame using the specified calculation over the current columns\n",
    "    - data %>% mutate(C=A-B) produces a new column named \"C\" in the \"data\" data frame as the difference of the values in the existing columns \"A\" and \"B\"\n",
    " \n",
    "- **filter(...)** filters values from the data that meet the specified requirements\n",
    "    - data %>% filter(manufacturer==\"A\"|manufacturer==\"B\") returns a data file that has only \"A\" or \"B\" values in the \"manufacturer\" column\n",
    "    - data %>% filter(manufacturer==\"A\", values>1000) if we write the requirements one after the other(separated by a comma) we understand it as logical **and**\n",
    " \n",
    "- **summarize(...)** calculate the prescribed numerical characteristics within the specified columns(suitable for combination with group.by)\n",
    "    - data %>% summarize(prum=mean(kap5), median=median(kap5))\n",
    " \n",
    "- **arrange(...)** ascending or descending row order\n",
    "    - data %>% arrange ascending\n",
    "    - data %>% arrange(desc) descending\n",
    " \n",
    "- **group_by(...)** grouping of data according to unique values in the specified column\n",
    "    - data %>% group_by(manufacturer)\n",
    " \n",
    "Very useful \"cheat sheet\" can be found here: https://github.com/rstudio/cheatsheets/raw/master/data-transformation.pdf"
   ]
  },
  {
   "cell_type": "markdown",
   "id": "f8a15af5",
   "metadata": {},
   "source": [
    "### Column/row selections\n",
    " \n"
   ]
  },
  {
   "cell_type": "code",
   "execution_count": null,
   "id": "45ae19d1",
   "metadata": {},
   "outputs": [],
   "source": [
    "# Display of the first six lines\n",
    "head(data)"
   ]
  },
  {
   "cell_type": "code",
   "execution_count": null,
   "id": "6ef83fd6",
   "metadata": {},
   "outputs": [],
   "source": [
    "# Display of the last six lines\n",
    "tail(data)"
   ]
  },
  {
   "cell_type": "code",
   "execution_count": null,
   "id": "9ceede00",
   "metadata": {},
   "outputs": [],
   "source": [
    "# Display of line 10\n",
    "data[10,]"
   ]
  },
  {
   "cell_type": "code",
   "execution_count": null,
   "id": "2c23e514",
   "metadata": {},
   "outputs": [],
   "source": [
    "# Display of the 3rd column - several ways\n",
    "tmp = data[,3]\n",
    "head(tmp)"
   ]
  },
  {
   "cell_type": "code",
   "execution_count": null,
   "id": "da389036",
   "metadata": {},
   "outputs": [],
   "source": [
    "# or(if we know the name of the variable written in the 3rd column)\n",
    "data$C5"
   ]
  },
  {
   "cell_type": "code",
   "execution_count": null,
   "id": "7dbfc90d",
   "metadata": {},
   "outputs": [],
   "source": [
    "# or using the dplyr package select function, which selects the selected columns\n",
    "tmp = data %>% select(C5)\n",
    "head(tmp)"
   ]
  },
  {
   "cell_type": "code",
   "execution_count": null,
   "id": "781542fd",
   "metadata": {},
   "outputs": [],
   "source": [
    "# Save the first and fifth columns of data frame\n",
    "data_1_5 = data[,c(1,5)]\n",
    "head(data_1_5)"
   ]
  },
  {
   "cell_type": "code",
   "execution_count": null,
   "id": "139ab551",
   "metadata": {},
   "outputs": [],
   "source": [
    "# or using the dplyr function\n",
    "data_1_5 = data %>% select(1,5)\n",
    "head(data_1_5)"
   ]
  },
  {
   "cell_type": "code",
   "execution_count": null,
   "id": "515ff1aa",
   "metadata": {},
   "outputs": [],
   "source": [
    "# or by name\n",
    "data_1_5 = data %>% select(A5, \"A100\")\n",
    "head(data_1_5)"
   ]
  },
  {
   "cell_type": "markdown",
   "id": "ef58ab02",
   "metadata": {},
   "source": [
    "**Exclude data from the file.**"
   ]
  },
  {
   "cell_type": "code",
   "execution_count": null,
   "id": "54debeea",
   "metadata": {},
   "outputs": [],
   "source": [
    "# Exclude the first and fifth columns from the data. data frames and data storage. framework attempt\n",
    "temp_data = data[,-c(1,5)]\n",
    "head(temp_data)"
   ]
  },
  {
   "cell_type": "code",
   "execution_count": null,
   "id": "6ec027d4",
   "metadata": {},
   "outputs": [],
   "source": [
    "# or using dplyr\n",
    "temp_data = data %>% select(-1, -5)\n",
    "head(temp_data)"
   ]
  },
  {
   "cell_type": "code",
   "execution_count": null,
   "id": "ddf0b80a",
   "metadata": {},
   "outputs": [],
   "source": [
    "# or by name\n",
    "temp_data = data %>% select(-A5,-A100)\n",
    "head(temp_data)"
   ]
  },
  {
   "cell_type": "markdown",
   "id": "53b9a678",
   "metadata": {},
   "source": [
    "### Basic conversion of a simple data matrix into a standard data format - stack(...)"
   ]
  },
  {
   "cell_type": "code",
   "execution_count": null,
   "id": "fbd5ef8b",
   "metadata": {},
   "outputs": [],
   "source": [
    "data5 = data[,1:4] # from the data we select those columns that correspond to measurements after 5 cycles\n",
    "colnames(data5) = c(\"A\",\"B\",\"C\",\"D\") # Rename columns\n",
    "head(data5)"
   ]
  },
  {
   "cell_type": "code",
   "execution_count": null,
   "id": "63ddc570",
   "metadata": {},
   "outputs": [],
   "source": [
    "data5S = stack(data5)         # and transfer to st. data format\n",
    "colnames(data5S) = c(\"kap5\",\"manufacturer\") # and edit the column names once more\n",
    "head(data5S)"
   ]
  },
  {
   "cell_type": "code",
   "execution_count": null,
   "id": "40dd1008",
   "metadata": {},
   "outputs": [],
   "source": [
    "# We do the same for measurements performed after 100 cycles\n",
    "data100 = data[,5:8] # we select from the data those columns that correspond to measurements after 100 cycles\n",
    "colnames(data100) = c(\"A\",\"B\",\"C\",\"D\") # Rename columns\n",
    "data100S = stack(data100)         # and transfer to st. data format\n",
    "colnames(data100S) = c(\"kap100\",\"manufacturer\") # and edit the column names once more"
   ]
  },
  {
   "cell_type": "markdown",
   "id": "8a4a3d28-bf50-48ab-bcd1-55714dea8e39",
   "metadata": {},
   "source": [
    "**If we want standard data type with both measurements, we should use reshape function:**"
   ]
  },
  {
   "cell_type": "code",
   "execution_count": null,
   "id": "5890b9b9",
   "metadata": {
    "tags": []
   },
   "outputs": [],
   "source": [
    "dataS=reshape(data=as.data.frame(data),\n",
    "                  direction=\"long\", # means we are going from data matrix (wide format)\n",
    "                                    # into standard data format - long formant\n",
    "                  varying=list(c(\"A5\",\"B5\",\"C5\",\"D5\"), # list of vectors with values for each\n",
    "                               c(\"A100\",\"B100\",\"C100\",\"D100\")), # resulting column\n",
    "                  v.names=c(\"cycles5\",\"cycles100\"), # name of columns in the result\n",
    "                  times=c(\"A\",\"B\",\"C\",\"D\"),  # values of sorting variable\n",
    "                  timevar=\"manufacturer\")\n",
    "head(dataS)\n",
    "# you can use na.omit(dataS) to remove NaN values from data frame"
   ]
  },
  {
   "cell_type": "markdown",
   "id": "f234a620",
   "metadata": {},
   "source": [
    "**!!! Handle the na.omit function extremely carefully so that you do not inadvertently lose data !!!**\n",
    " \n"
   ]
  },
  {
   "cell_type": "markdown",
   "id": "cba60e42",
   "metadata": {},
   "source": [
    "### Defining new columns in a data frame"
   ]
  },
  {
   "cell_type": "code",
   "execution_count": null,
   "id": "74f85784",
   "metadata": {},
   "outputs": [],
   "source": [
    "# Defining a new variable of the drop in the capacity\n",
    "dataS$drop = dataS$cycles5 - dataS$cycles100"
   ]
  },
  {
   "cell_type": "code",
   "execution_count": null,
   "id": "e3924c54",
   "metadata": {},
   "outputs": [],
   "source": [
    "head(dataS)"
   ]
  },
  {
   "cell_type": "code",
   "execution_count": null,
   "id": "f305cc18",
   "metadata": {},
   "outputs": [],
   "source": [
    "# or using a function from the dplyr package\n",
    "dataS = dataS %>% mutate(drop=cycles5-cycles100)"
   ]
  },
  {
   "cell_type": "markdown",
   "id": "b6f7b5c0",
   "metadata": {},
   "source": [
    "### Select data from standard data format\n",
    " \n"
   ]
  },
  {
   "cell_type": "code",
   "execution_count": null,
   "id": "e5c73e7f",
   "metadata": {},
   "outputs": [],
   "source": [
    "dataS$cycles5"
   ]
  },
  {
   "cell_type": "code",
   "execution_count": null,
   "id": "6ff110f5",
   "metadata": {},
   "outputs": [],
   "source": [
    "# May be useful - create separate variables\n",
    "a5 = dataS$cycles5[dataS$manufacturer==\"A\"] # Class(type) numeric\n",
    "a5"
   ]
  },
  {
   "cell_type": "code",
   "execution_count": null,
   "id": "e91e81ed",
   "metadata": {},
   "outputs": [],
   "source": [
    "# using dplyr with a data frame result\n",
    "a5.df = dataS %>%\n",
    "  filter(manufacturer==\"A\") %>%  # filters rows corresponding to manufacturer A\n",
    "  select(cycles5)   # Selects only the values in column kap5,\n",
    "head(a5.df)"
   ]
  },
  {
   "cell_type": "markdown",
   "id": "5bae3e3f",
   "metadata": {},
   "source": [
    "### More detailed window for Dplyr library functions - work on data in standard data format\n",
    " \n"
   ]
  },
  {
   "cell_type": "markdown",
   "id": "166d5a69",
   "metadata": {},
   "source": [
    "It is necessary to apply to data in st. data format !!! Pipe operator %>% - helps with chaining functions - in the new RSstudio shortcut key Ctrl + Shift + M\n",
    " \n",
    "#### filter - applies a filter to the given column\n",
    " \n"
   ]
  },
  {
   "cell_type": "code",
   "execution_count": null,
   "id": "6321e04b",
   "metadata": {},
   "outputs": [],
   "source": [
    "# filter - selects/filters rows based on given conditions\n",
    "# Selection of products from the manufacturer\n",
    "tmp = dataS %>% filter(manufacturer==\"A\")\n",
    "head(tmp)"
   ]
  },
  {
   "cell_type": "code",
   "execution_count": null,
   "id": "6b243f3a",
   "metadata": {},
   "outputs": [],
   "source": [
    "# Selection of products from manufacturer A or B\n",
    "# separating conditions correspond to the logical \"or\"\n",
    "tmp = dataS %>% filter(manufacturer==\"A\" | manufacturer==\"B\")  \n",
    "head(tmp)"
   ]
  },
  {
   "cell_type": "code",
   "execution_count": null,
   "id": "b5c38c72",
   "metadata": {},
   "outputs": [],
   "source": [
    "# Selection of all products with a decrease of 200 mAh and more from the manufacturer C\n",
    "# comma separating conditions corresponds to logical \"and at the same time\"\n",
    "tmp = dataS %>% filter(drop>=200, manufacturer==\"C\") \n",
    "head(tmp)"
   ]
  },
  {
   "cell_type": "markdown",
   "id": "fb6fe641",
   "metadata": {},
   "source": [
    "#### mutate - produce a new column\n",
    " \n"
   ]
  },
  {
   "cell_type": "code",
   "execution_count": null,
   "id": "6a9fb3bd",
   "metadata": {},
   "outputs": [],
   "source": [
    "# mutate - adds a new variable or transforms an existing one\n",
    "# Creating a new column drop_Ah, which indicates the capacity drop in Ah(original data in mAh, 1 Ah=1000 mAh)\n",
    "tmp = dataS %>% mutate(drop_Ah=drop/1000)\n",
    "head(tmp)\n",
    "# Attention! if we do not save the result with the new column, it will only be printed and disappear"
   ]
  },
  {
   "cell_type": "markdown",
   "id": "ddf66835",
   "metadata": {},
   "source": [
    "#### summarize - generates summary characteristics of various variables\n",
    " \n"
   ]
  },
  {
   "cell_type": "code",
   "execution_count": null,
   "id": "cca73c5c",
   "metadata": {},
   "outputs": [],
   "source": [
    "# Calculation of the mean and median of all values of the variable cycles5\n",
    "dataS %>% summarise(average=mean(cycles5),median=median(cycles5))"
   ]
  },
  {
   "cell_type": "markdown",
   "id": "8db8cd18-3683-4568-a09d-39427786bcea",
   "metadata": {},
   "source": [
    "**If the results contain NaNs, it means that the original data contained NaNs. There are two options, either drop NaNs from data, or set the function to ignore them.**\n",
    "**Be carefull with droping NaN values, you can loose data you want to keep. E.g. of you have data for capacity for 5 cycles, but not for 100, na.omit(...) will drop the whole line.**"
   ]
  },
  {
   "cell_type": "code",
   "execution_count": null,
   "id": "4749f147-2f4c-4ee5-b859-d71aec711c96",
   "metadata": {},
   "outputs": [],
   "source": [
    "tmp = na.omit(dataS)\n",
    "tmp %>% summarise(average=mean(cycles5),median=median(cycles5))"
   ]
  },
  {
   "cell_type": "code",
   "execution_count": null,
   "id": "d05fc82c-97d2-4e3a-b1a1-12be981b2f89",
   "metadata": {},
   "outputs": [],
   "source": [
    "dataS %>% summarise(average=mean(cycles5,na.rm = TRUE),median=median(cycles5,na.rm = TRUE))"
   ]
  },
  {
   "cell_type": "markdown",
   "id": "2ec63027",
   "metadata": {},
   "source": [
    "#### arrange - sorts rows according to the selected variable\n",
    " \n"
   ]
  },
  {
   "cell_type": "code",
   "execution_count": null,
   "id": "f3b94668",
   "metadata": {},
   "outputs": [],
   "source": [
    "# Ascending and descending order of rows according to the decrease value\n",
    "tmp = dataS %>% arrange(drop)\n",
    "head(tmp)"
   ]
  },
  {
   "cell_type": "code",
   "execution_count": null,
   "id": "eb0669dd",
   "metadata": {},
   "outputs": [],
   "source": [
    "tmp = dataS %>% arrange(desc(drop))\n",
    "head(tmp)"
   ]
  },
  {
   "cell_type": "markdown",
   "id": "4dc4871e",
   "metadata": {},
   "source": [
    "#### group_by - groups values into groups according to the selected variable\n",
    " \n"
   ]
  },
  {
   "cell_type": "code",
   "execution_count": null,
   "id": "a3d57979",
   "metadata": {},
   "outputs": [],
   "source": [
    "# the table is \"virtually\" divided into groups for later processing, eg summarize\n",
    "head(dataS %>% group_by(manufacturer))"
   ]
  },
  {
   "cell_type": "code",
   "execution_count": null,
   "id": "d214bbdd",
   "metadata": {},
   "outputs": [],
   "source": [
    "# Ideal for calculating summary characteristics for each manufacturer separately, eg average\n",
    "dataS %>%\n",
    "  group_by(manufacturer) %>% \n",
    "  summarise(average=mean(cycles5,na.rm = TRUE), \"st.dev.\"=sd(cycles5,na.rm = TRUE))"
   ]
  },
  {
   "cell_type": "markdown",
   "id": "89dc7985",
   "metadata": {},
   "source": [
    "**Final note on dplyr(which is good to finish until the end...)**\n",
    " \n",
    "**Some operations may throw a \"tibble\" object. This is a more modern data.frame, however it can cause problems and cause error messages in some functions! You can easily convert this \"tibble\" object to data.frame using as.data.frame().**"
   ]
  },
  {
   "cell_type": "markdown",
   "id": "2949b97e",
   "metadata": {},
   "source": [
    "# 5. Data conversion to the standard data format (for the two most common data formats)\n",
    " \n",
    "## From data in Data Matrix format (already seen before)"
   ]
  },
  {
   "cell_type": "code",
   "execution_count": null,
   "id": "10e8b6bb",
   "metadata": {},
   "outputs": [],
   "source": [
    "data_DM = read_excel(\"./data/datova_matice.xlsx\")\n",
    "head(data_DM)"
   ]
  },
  {
   "cell_type": "code",
   "execution_count": null,
   "id": "81cece12",
   "metadata": {},
   "outputs": [],
   "source": [
    "data_DM = data_DM[,-1]\n",
    "colnames(data_DM) = c(\"A22\", \"A5\", \"B22\", \"B5\", \"C22\", \"C5\", \"D22\", \"D5\")\n",
    "head(data_DM)"
   ]
  },
  {
   "cell_type": "markdown",
   "id": "d11627ef",
   "metadata": {},
   "source": [
    "### Reshape function\n",
    " \n",
    "Its parameters:\n",
    "- **data** - data to be converted must be fe format data.frame(as.data.frame(data))\n",
    " \n",
    "- **direction** - which direction we want to transform\n",
    "    - \"long\" - to standard format\n",
    "    - \"wide\" - back to the data matrix\n",
    " \n",
    "- **varying** - column names that indicate the same data for different categories\n",
    "    - it is a sheet of vectors\n",
    "    - each sheet item is one measurement\n",
    "    - each vector is then a list of columns\n",
    " \n",
    "- **v.names** - column names in st. give. format\n",
    "    - The number of names must match the number of vectors in varying\n",
    " \n",
    "- **times** - names of individual categories\n",
    "    - ATTENTION !! must be in the same order as the varying variable\n",
    " \n",
    "- **timevar** - column name with categories"
   ]
  },
  {
   "cell_type": "code",
   "execution_count": null,
   "id": "8b565d82",
   "metadata": {},
   "outputs": [],
   "source": [
    "data_DM_S=reshape(data=as.data.frame(data_DM),\n",
    "                  direction=\"long\",\n",
    "                  varying=list(c(\"A5\", \"B5\", \"C5\", \"D5\"),\n",
    "                               c(\"A22\",\"B22\",\"C22\",\"D22\")),\n",
    "                  v.names=c(\"5 C\",\"22  C\"),   \n",
    "                  times=c(\"Amber\",\"Bright\",\"Clear\",\"Dim\"),  \n",
    "                  timevar=\"vyrobce\")\n",
    "head(data_DM_S)"
   ]
  },
  {
   "cell_type": "code",
   "execution_count": null,
   "id": "f7ef2b21",
   "metadata": {},
   "outputs": [],
   "source": [
    "# and if we want, we can convert the data back\n",
    "data_DM_2=reshape(data=data_DM_S,\n",
    "                  direction=\"wide\",\n",
    "                  varying=list(c(\"A5\", \"B5\", \"C5\", \"D5\"),\n",
    "                               c(\"A22\",\"B22\",\"C22\",\"D22\")),\n",
    "                  v.names=c(\"5 C\",\"22  C\"),   \n",
    "                  times=c(\"Amber\",\"Bright\",\"Clear\",\"Dim\"),  \n",
    "                  timevar=\"vyrobce\")\n",
    "head(data_DM_2)"
   ]
  },
  {
   "cell_type": "markdown",
   "id": "2e081d55",
   "metadata": {},
   "source": [
    "## From a data file where the categories are in individual Excel sheets\n",
    " \n"
   ]
  },
  {
   "cell_type": "code",
   "execution_count": null,
   "id": "74aaf76b",
   "metadata": {},
   "outputs": [],
   "source": [
    "data_A = read_excel(\"./data/po_listech.xlsx\", sheet=1)\n",
    "head(data_A)\n",
    "data_B = read_excel(\"./data/po_listech.xlsx\", sheet=2)\n",
    "data_C = read_excel(\"./data/po_listech.xlsx\", sheet=3)\n",
    "data_D = read_excel(\"./data/po_listech.xlsx\", sheet=4)"
   ]
  },
  {
   "cell_type": "code",
   "execution_count": null,
   "id": "40512f65",
   "metadata": {},
   "outputs": [],
   "source": [
    "data_A$vyrobce = \"Amber\"\n",
    "data_B$vyrobce = \"Bright\"\n",
    "data_C$vyrobce = \"Clear\"\n",
    "data_D$vyrobce = \"Dim\"\n",
    "head(data_A)"
   ]
  },
  {
   "cell_type": "code",
   "execution_count": null,
   "id": "ea00cbb8",
   "metadata": {
    "tags": []
   },
   "outputs": [],
   "source": [
    "data_PL_S = rbind(data_A, data_B, data_C, data_D)\n",
    "head(data_PL_S)"
   ]
  },
  {
   "cell_type": "markdown",
   "id": "eb48f82c",
   "metadata": {},
   "source": [
    "# 6. Exploratory analysis and visualization of a categorical variable\n",
    " \n",
    "### Notes on graphics in R\n",
    " \n",
    "the basis are the so-called high-level functions, which create a graph(ie open the graphics window and draw according to the specified parameters) followed by the so-called low-level functions, which add something to the active graphics window, do not open new low-level functions - eg abline, points, lines, legend, title, axis... which add a line, points, legend... ie. before using the \"low-level\" function it is necessary to call the \"high-level\" function(eg plot, boxplot, hist, barplot, pie,...) Further graphic parameters can be found in the help or eg here http://www.statmethods.net/advgraphs/parameters.html or here https://flowingdata.com/2015/03/17/r-cheat-sheet-for-graphical-parameters/or http://bcb.dfci.harvard.edu/~aedin/courses/BiocDec2011/2.Plotting.pdf Colors in R http://www.stat.columbia.edu/~tzheng/files/Rcolor.pdf https://www.nceas.ucsb.edu/~frazier/RSpatialGuides/colorPaletteCheatsheet.pdf Saving graphs is possible using the function dev.print, jpeg, pdf and others. More easily in the Plots ->Export window\n",
    " \n"
   ]
  },
  {
   "cell_type": "code",
   "execution_count": null,
   "id": "5f47eb9f",
   "metadata": {},
   "outputs": [],
   "source": [
    "# Table of absolute frequencies of the manufacturer's categorical variable...\n",
    "freq = table(dataS$manufacturer)\n",
    "freq # listing - object of type \"table\" - mostly more suitable, but more difficult conversion to type data.frame"
   ]
  },
  {
   "cell_type": "markdown",
   "id": "cd11ad91-a8da-49c7-b0b5-d6cd78f5d07c",
   "metadata": {},
   "source": [
    "Looks weird, we should remember, that we had NaNs and we converted it from data matrix, thats why we got same numbers!"
   ]
  },
  {
   "cell_type": "code",
   "execution_count": null,
   "id": "d98ff30b-f8bf-4dc8-b246-3e51c95c5f4a",
   "metadata": {},
   "outputs": [],
   "source": [
    "tmp = na.omit(dataS)\n",
    "freq = table(tmp$manufacturer)\n",
    "freq"
   ]
  },
  {
   "cell_type": "code",
   "execution_count": null,
   "id": "f8276f6e",
   "metadata": {},
   "outputs": [],
   "source": [
    "# .. and using dplyr functions(more complex)\n",
    "freq_df = tmp %>%  group_by(manufacturer) %>%\n",
    "                  summarise(freq = n())  # number of products for each manufacturer\n",
    "freq_df # listing - object type \"tibble\" - useful when we need to simply convert to type data.frame"
   ]
  },
  {
   "cell_type": "markdown",
   "id": "a3624bdf",
   "metadata": {},
   "source": [
    "### Relative frequency table\n",
    " \n"
   ]
  },
  {
   "cell_type": "code",
   "execution_count": null,
   "id": "9bed4ddb",
   "metadata": {},
   "outputs": [],
   "source": [
    "# By direct calculation\n",
    "rel.freq=100*freq/sum(freq)   \n",
    "rel.freq"
   ]
  },
  {
   "cell_type": "code",
   "execution_count": null,
   "id": "04b53b44",
   "metadata": {},
   "outputs": [],
   "source": [
    "# or using the prop.table function\n",
    "rel.freq=prop.table(freq)*100\n",
    "rel.freq # statement"
   ]
  },
  {
   "cell_type": "code",
   "execution_count": null,
   "id": "96ce9045",
   "metadata": {},
   "outputs": [],
   "source": [
    "# or using the dplyr functions, where absolute frequencies will also be included\n",
    "freq_all = tmp %>%  group_by(manufacturer) %>%\n",
    "                    summarise(freq = n()) %>%   \n",
    "                    mutate(rel_freq = 100*(freq/sum(freq)))\n",
    "freq_all \n",
    "t(freq_all) # maybe more elegant in transpose form"
   ]
  },
  {
   "cell_type": "code",
   "execution_count": null,
   "id": "a165daba",
   "metadata": {},
   "outputs": [],
   "source": [
    "# For relative frequencies tables, rounding must be included, \n",
    "# and summation to 1 (or 100 in case of %) kept\n",
    "rel.freq=round(rel.freq,digits=1) # rounded to 1 decimal place\n",
    "rel.freq[4]=100-sum(rel.freq[1:3]) # rounding error monitoring\n",
    "rel.freq"
   ]
  },
  {
   "cell_type": "code",
   "execution_count": null,
   "id": "5be0a65d",
   "metadata": {},
   "outputs": [],
   "source": [
    "# The procedure for table_abs_rel is different due to a different format(tibble)\n",
    "freq_all[1:4,3] = round(freq_all[1:4,3],digits=1) # rounded to 1 decimal place\n",
    "freq_all[4,3] = 100-sum((freq_all[1:3,3]))\n",
    "freq_all"
   ]
  },
  {
   "cell_type": "markdown",
   "id": "de752a10",
   "metadata": {},
   "source": [
    "### Visualization using graphs"
   ]
  },
  {
   "cell_type": "code",
   "execution_count": null,
   "id": "d4547834-227d-482b-b885-cd19580d564f",
   "metadata": {},
   "outputs": [],
   "source": [
    "# Bar graph\n",
    "# The basic R functionality (i.e. no package required) bar graph is based on the frequency table we have prepared\n",
    "barplot(freq)"
   ]
  },
  {
   "cell_type": "code",
   "execution_count": null,
   "id": "96c89ae7",
   "metadata": {},
   "outputs": [],
   "source": [
    "# Change colors, add name\n",
    "barplot(freq,\n",
    "        col=heat.colors(4), # alt. a vector of specific colors can be chosen, eg c(\"blue\", \"yellow,\" red \",\" green \")\n",
    "        # or other scales(heat.colors, topo.colors, terrain.colors and many others)\n",
    "        main=\"Selection size of different manufacturers\",\n",
    "        space=0.6) # The space parameter creates a space between columns\n"
   ]
  },
  {
   "cell_type": "markdown",
   "id": "34c0cc8e",
   "metadata": {},
   "source": [
    "# 7. Exploratory analysis and visualization of a quantitative variable\n",
    " \n"
   ]
  },
  {
   "cell_type": "code",
   "execution_count": null,
   "id": "e3f3b699",
   "metadata": {},
   "outputs": [],
   "source": [
    "# Descriptive statistics\n",
    "summary(dataS$cycles5)"
   ]
  },
  {
   "cell_type": "code",
   "execution_count": null,
   "id": "54d1dbc3",
   "metadata": {},
   "outputs": [],
   "source": [
    "# Beware of missing values\n",
    "# Calculation of the average of one variable\n",
    "mean(dataS$cycles5, na.rm = TRUE)"
   ]
  },
  {
   "cell_type": "code",
   "execution_count": null,
   "id": "075e7b49",
   "metadata": {},
   "outputs": [],
   "source": [
    "# Calculation of the median of one variable\n",
    "quantile(dataS$cycles5, probs=0.5, na.rm = TRUE)"
   ]
  },
  {
   "cell_type": "code",
   "execution_count": null,
   "id": "330977a6",
   "metadata": {},
   "outputs": [],
   "source": [
    "# Range determination\n",
    "length(dataS$cycles5)"
   ]
  },
  {
   "cell_type": "code",
   "execution_count": null,
   "id": "02b1574e-b2da-436c-b162-bda490dbb1a3",
   "metadata": {},
   "outputs": [],
   "source": [
    "# beware NaNs\n",
    "length(na.omit(dataS$cycles5))"
   ]
  },
  {
   "cell_type": "markdown",
   "id": "8f175436",
   "metadata": {},
   "source": [
    "#### Other characteristics ->var(), sd(), min(), max(),...\n",
    " \n",
    "Attention! The functions for calculating skewness and kurtosis are not part of the basic R, you will find them in the package moments. sharpness in the interval(1,5) To standardize the sharpness, it is necessary to subtract 3 from the calculated value. If you write the package name and \"::\" before the function name, you will ensure that the function from the given package will be used. packages have different functions under the same name\n",
    " \n"
   ]
  },
  {
   "cell_type": "code",
   "execution_count": null,
   "id": "0c7e72fb",
   "metadata": {},
   "outputs": [],
   "source": [
    "# install.packages(\"moments\")"
   ]
  },
  {
   "cell_type": "code",
   "execution_count": null,
   "id": "2a2f7d7b",
   "metadata": {},
   "outputs": [],
   "source": [
    "library(moments)"
   ]
  },
  {
   "cell_type": "code",
   "execution_count": null,
   "id": "592efee8",
   "metadata": {},
   "outputs": [],
   "source": [
    "skewness(a5,na.rm = TRUE)"
   ]
  },
  {
   "cell_type": "code",
   "execution_count": null,
   "id": "8fd9ba32",
   "metadata": {},
   "outputs": [],
   "source": [
    "kurtosis(a5,na.rm = TRUE)-3"
   ]
  },
  {
   "cell_type": "code",
   "execution_count": null,
   "id": "205cc9be",
   "metadata": {},
   "outputs": [],
   "source": [
    "# If we want to calculate the given characteristic for variable capacity after 5 cycles\n",
    "# according to the manufacturers, we can use the tapply function\n",
    "tapply(dataS$cycles5, dataS$manufacturer, mean, na.rm=TRUE)"
   ]
  },
  {
   "cell_type": "code",
   "execution_count": null,
   "id": "3f812a25",
   "metadata": {},
   "outputs": [],
   "source": [
    "# or using dplyr - here pay attention to automatic(not always correct rounding)\n",
    "dataS %>% \n",
    "  group_by(manufacturer) %>% \n",
    "  summarise(mean(cycles5,na.rm=TRUE))"
   ]
  },
  {
   "cell_type": "code",
   "execution_count": null,
   "id": "d5ae0d79",
   "metadata": {},
   "outputs": [],
   "source": [
    "# To simplify the work, we can use the dplyr function and put all the characteristics in one table\n",
    "dataS %>%    # without using group_by for the whole kap5 variable\n",
    "  summarise(size=length(na.omit(cycles5)),\n",
    "            min=min(cycles5,na.rm=TRUE),     # preventive na.rm=T\n",
    "            Q1=quantile(cycles5,0.25,na.rm=TRUE),\n",
    "            average=mean(cycles5,na.rm=TRUE),\n",
    "            median=median(cycles5,na.rm=TRUE),\n",
    "            Q3=quantile(cycles5,0.75,na.rm=TRUE),\n",
    "            max=max(cycles5,na.rm=TRUE),\n",
    "            variance=var(cycles5,na.rm=TRUE),\n",
    "            st.dev.=sd(cycles5,na.rm=TRUE),\n",
    "            variation_coeff=(100*(st.dev./average)),  # coefficient of variation in percent\n",
    "            skewness=(moments::skewness(cycles5,na.rm=TRUE)),       # moments package precaution\n",
    "            kurtosis=(moments::kurtosis(cycles5,na.rm=TRUE)-3)) "
   ]
  },
  {
   "cell_type": "code",
   "execution_count": null,
   "id": "5e50e9f1",
   "metadata": {},
   "outputs": [],
   "source": [
    "# Don't forget to round correctly!\n",
    "# We use group_by and get the characteristics for the capacity after 5 cycles according to the manufacturers\n",
    "result = dataS %>%   \n",
    "            group_by(manufacturer) %>%\n",
    "            summarise(size=length(na.omit(cycles5)),\n",
    "            min=min(cycles5,na.rm=TRUE),     # preventive na.rm=T\n",
    "            Q1=quantile(cycles5,0.25,na.rm=TRUE),\n",
    "            average=mean(cycles5,na.rm=TRUE),\n",
    "            median=median(cycles5,na.rm=TRUE),\n",
    "            Q3=quantile(cycles5,0.75,na.rm=TRUE),\n",
    "            max=max(cycles5,na.rm=TRUE),\n",
    "            variance=var(cycles5,na.rm=TRUE),\n",
    "            st.dev.=sd(cycles5,na.rm=TRUE),\n",
    "            variation_coeff=(100*(st.dev./average)),  # coefficient of variation in percent\n",
    "            skewness=(moments::skewness(cycles5,na.rm=TRUE)),       # moments package precaution\n",
    "            kurtosis=(moments::kurtosis(cycles5,na.rm=TRUE)-3)) "
   ]
  },
  {
   "cell_type": "code",
   "execution_count": null,
   "id": "dbc0f7b2",
   "metadata": {},
   "outputs": [],
   "source": [
    "t(result) # more favourable looks as transposed"
   ]
  },
  {
   "cell_type": "markdown",
   "id": "06493d3e",
   "metadata": {},
   "source": [
    "### Box chart\n",
    " \n",
    "**We always plot for the original data and observe the outliers.**"
   ]
  },
  {
   "cell_type": "code",
   "execution_count": null,
   "id": "e6298f35",
   "metadata": {},
   "outputs": [],
   "source": [
    "# Simple and fast rendering using the basic function only for manufacturer A and 5 cycles\n",
    "boxplot(a5)"
   ]
  },
  {
   "cell_type": "code",
   "execution_count": null,
   "id": "6cee2466",
   "metadata": {},
   "outputs": [],
   "source": [
    "# And draw a multiple box graph\n",
    "boxplot(dataS$cycles5~dataS$manufacturer) # graphic parameters can be set similarly to the previous ones"
   ]
  },
  {
   "cell_type": "code",
   "execution_count": null,
   "id": "314c3985",
   "metadata": {},
   "outputs": [],
   "source": [
    "# Further modification of the graph, use of the points function to display the average\n",
    "boxplot(dataS$cycles5~dataS$manufacturer,\n",
    "        main=\"Capacity after 5 cycles (mAh)\", \n",
    "        xlab=\"Manufacturer\",\n",
    "        ylab=\"Capacity (mAh)\",\n",
    "        col=\"grey\")"
   ]
  },
  {
   "cell_type": "markdown",
   "id": "3df8e205-72fb-4f95-88d6-a66ac46f659e",
   "metadata": {},
   "source": [
    "## Removing outliers"
   ]
  },
  {
   "cell_type": "code",
   "execution_count": null,
   "id": "f559b66d-3ac8-4a17-a002-8b17c8813af8",
   "metadata": {},
   "outputs": [],
   "source": [
    "outliers_cycles5 = \n",
    "  dataS %>% \n",
    "  group_by(manufacturer) %>% \n",
    "  identify_outliers(cycles5)\n",
    "outliers_cycles5"
   ]
  },
  {
   "cell_type": "markdown",
   "id": "bb7122a9-1d44-4574-8f1d-c9cacf297155",
   "metadata": {},
   "source": [
    "**Important!! - we need a column with unique indentifier - if we dont have it we can add it. By default during e.g. reshape it is added.**"
   ]
  },
  {
   "cell_type": "code",
   "execution_count": null,
   "id": "6d6f0697-55bc-463c-9979-5421d6d509d6",
   "metadata": {},
   "outputs": [],
   "source": [
    "dataS$id2 = 1:length(dataS$manufacturer)\n",
    "head(dataS)"
   ]
  },
  {
   "cell_type": "markdown",
   "id": "528c2cc3-64f7-4a4b-86ba-6613bfd85ce2",
   "metadata": {},
   "source": [
    "Now we use the id column for creating new data column free of outliers"
   ]
  },
  {
   "cell_type": "code",
   "execution_count": null,
   "id": "ff1d9bb2-a368-4af0-85b3-967fc2a839b9",
   "metadata": {},
   "outputs": [],
   "source": [
    "dataS$cycles5_out = ifelse(dataS$id %in% outliers_cycles5$id,NA,dataS$cycles5) "
   ]
  },
  {
   "cell_type": "code",
   "execution_count": null,
   "id": "480e9135-c84c-4d29-a398-4e3327a44c62",
   "metadata": {},
   "outputs": [],
   "source": [
    "# compare\n",
    "boxplot(dataS$cycles5~dataS$manufacturer)\n",
    "boxplot(dataS$cycles5_out~dataS$manufacturer)"
   ]
  },
  {
   "cell_type": "markdown",
   "id": "d866a8cc",
   "metadata": {},
   "source": [
    "### Histogram\n",
    " \n",
    "**We always plot for data without outliers !!**\n",
    " \n"
   ]
  },
  {
   "cell_type": "code",
   "execution_count": null,
   "id": "fc35abbc-89c1-4a56-9ca6-a263763a8c4f",
   "metadata": {},
   "outputs": [],
   "source": [
    "a5_no_outliers = dataS %>% filter(manufacturer==\"A\") %>% select(cycles5_out)\n",
    "head(a5_no_outliers)"
   ]
  },
  {
   "cell_type": "code",
   "execution_count": null,
   "id": "940c1bdf-6ff6-4088-8267-06a2351a0069",
   "metadata": {},
   "outputs": [],
   "source": [
    "# hist does not like input as data frame, we can cheat it by selecting all of its values\n",
    "hist(a5_no_outliers[,1], breaks=10)"
   ]
  },
  {
   "cell_type": "code",
   "execution_count": null,
   "id": "40d613ef",
   "metadata": {},
   "outputs": [],
   "source": [
    "# Labels, colors and other parameters can be set traditionally\n",
    "hist(a5_no_outliers[,1], \n",
    "     main=\"Histogram of capacity of bateries of manufacturer A after 5 cycles\", \n",
    "     xlab=\"capacity (mAh)\",\n",
    "     ylab=\"frequency\",\n",
    "     col=\"blue\",       # fill color\n",
    "     border=\"grey\",    # column border color\n",
    "     labels=TRUE)         # adds the absolute frequencies of the given categories in the form of labels"
   ]
  },
  {
   "cell_type": "markdown",
   "id": "aac3e85b",
   "metadata": {},
   "source": [
    "### QQ-graph\n",
    " \n",
    "**We always plot for data without remote observations !!**\n",
    " \n"
   ]
  },
  {
   "cell_type": "code",
   "execution_count": null,
   "id": "b9e70d5c",
   "metadata": {},
   "outputs": [],
   "source": [
    "# .. with adjustment of axis labels...\n",
    "qqnorm(a5_no_outliers[,1], \n",
    "       xlab=\"Theoretical quantiles (normal dist.)\",\n",
    "       ylab=\"Sample quantiles\",\n",
    "       main=\"QQ-plot of capacity after 5 cycles of manufacturer A\")\n",
    "qqline(a5_no_outliers[,1])"
   ]
  },
  {
   "cell_type": "markdown",
   "id": "6ef1e4f3",
   "metadata": {},
   "source": [
    "# 8. rule 3 $\\sigma$ and Chebyshev's inequality\n",
    " \n",
    "## Empirical verification of normality\n",
    " \n",
    "**Based on data after deleting outliers:**\n",
    " \n"
   ]
  },
  {
   "cell_type": "code",
   "execution_count": null,
   "id": "98667a65",
   "metadata": {},
   "outputs": [],
   "source": [
    "# we will use the data from the removal example op\n",
    "a5_no_outliers_cleared = na.omit(a5_no_outliers)[,1]\n",
    "a5_no_outliers_cleared"
   ]
  },
  {
   "cell_type": "markdown",
   "id": "6063b922",
   "metadata": {},
   "source": [
    "We plot the QQ graph and calculate the skewness and sharpness:\n",
    " \n"
   ]
  },
  {
   "cell_type": "code",
   "execution_count": null,
   "id": "81e28411",
   "metadata": {},
   "outputs": [],
   "source": [
    "qqnorm(a5_no_outliers_cleared)\n",
    "qqline(a5_no_outliers_cleared)"
   ]
  },
  {
   "cell_type": "code",
   "execution_count": null,
   "id": "e1f9beac",
   "metadata": {},
   "outputs": [],
   "source": [
    "skewness(a5_no_outliers_cleared)\n",
    "kurtosis(a5_no_outliers_cleared) - 3 # another definition shifted by 3"
   ]
  },
  {
   "cell_type": "markdown",
   "id": "7b28789e",
   "metadata": {},
   "source": [
    "- the dots in the QQ graph must lie approximately on the line - ie. the quantiles correspond approximately to the quantiles of the normal distribution\n",
    " \n",
    "- skewness must lie in the interval <-2, 2>\n",
    " \n",
    "- kurtosis must lie in the interval <-2.2>\n",
    "    - be careful we have to reduce the result of the R function by 3\n",
    " \n",
    " \n",
    "**If data normality is met -> rule 3σ**<br>\n",
    " \n",
    "σ: P(µ - σ<X<µ + σ)=0.6827<br>2σ: P(µ - 2σ<X<µ + 2σ)=0.9545<br>3σ: P(µ - 3σ<X<µ + 3σ)=0.9973<br><br>\n",
    " \n",
    "**If data normality is not met -> Chebyshev inequality**<br>\n",
    " \n",
    "σ: P(µ - σ<X<µ + σ)=0<br>2σ: P(µ - 2σ<X<µ + 2σ)=0.75<br>3σ: P(µ - 3σ<X<µ + 3σ)=0.8889<br>\n",
    " \n"
   ]
  },
  {
   "cell_type": "code",
   "execution_count": null,
   "id": "5cbaf393",
   "metadata": {},
   "outputs": [],
   "source": [
    "mu = mean(a5_no_outliers_cleared)\n",
    "sigma = sd(a5_no_outliers_cleared)\n",
    "paste0(\"<\", mu - sigma, \", \", mu + sigma, \">\")\n",
    "paste0(\"<\", mu - 2*sigma, \", \", mu + 2*sigma, \">\")\n",
    "paste0(\"<\", mu - 3*sigma, \", \", mu + 3*sigma, \">\")"
   ]
  },
  {
   "cell_type": "markdown",
   "id": "0c9db44b",
   "metadata": {},
   "source": [
    "# 9. Rounding\n",
    " \n",
    "Most important:\n",
    " \n",
    "- the standard deviation is rounded up to the prescribed number of digits(ceiling)\n",
    "- data file size = <2,10> -> 1 valid digit\n",
    "- data file size = (10,30> -> 2 valid digits\n",
    "- data file size = (30,2000> -> 3 valid digits\n",
    "- position measures(averages, quantiles,...) are then rounded (classically) to the same valid digit as the standard deviation"
   ]
  },
  {
   "cell_type": "code",
   "execution_count": null,
   "id": "188f10cb",
   "metadata": {},
   "outputs": [],
   "source": [
    "length(a5_no_outliers_cleared)\n",
    "stdev = sd(a5_no_outliers_cleared)\n",
    "stdev"
   ]
  },
  {
   "cell_type": "code",
   "execution_count": null,
   "id": "ad2777f3",
   "metadata": {},
   "outputs": [],
   "source": [
    "average = mean(a5_no_outliers_cleared)\n",
    "average"
   ]
  },
  {
   "cell_type": "code",
   "execution_count": null,
   "id": "dcfdc05f",
   "metadata": {},
   "outputs": [],
   "source": [
    "max(a5_no_outliers_cleared)"
   ]
  }
 ],
 "metadata": {
  "kernelspec": {
   "display_name": "R",
   "language": "R",
   "name": "ir"
  },
  "language_info": {
   "codemirror_mode": "r",
   "file_extension": ".r",
   "mimetype": "text/x-r-source",
   "name": "R",
   "pygments_lexer": "r",
   "version": "4.1.3"
  }
 },
 "nbformat": 4,
 "nbformat_minor": 5
}
