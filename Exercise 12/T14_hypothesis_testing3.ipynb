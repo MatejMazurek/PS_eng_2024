{
 "cells": [
  {
   "cell_type": "markdown",
   "id": "transsexual-rogers",
   "metadata": {},
   "source": [
    "# Exercise 12. Tests for multiple samples\n",
    "## Michal Béreš, Martina Litschmannová, Adéla Vrtková"
   ]
  },
  {
   "cell_type": "markdown",
   "id": "weekly-given",
   "metadata": {},
   "source": [
    "## Test data for a function call example\n",
    " \n"
   ]
  },
  {
   "cell_type": "code",
   "execution_count": null,
   "id": "painful-price",
   "metadata": {},
   "outputs": [],
   "source": [
    "# I will create some data from the normal distribution with same variances\n",
    "a = as.data.frame(rnorm(n = 35, mean = 100, sd = 10))\n",
    "b = as.data.frame(rnorm(n = 30, mean = 108, sd = 10))\n",
    "c = as.data.frame(rnorm(n = 40, mean = 104, sd = 10))\n",
    "d = as.data.frame(rnorm(n = 32, mean = 112, sd = 10))\n",
    "\n",
    "# I will rename the column name\n",
    "colnames(a) = c(\"value\")\n",
    "colnames(b) = c(\"value\")\n",
    "colnames(c) = c(\"value\")\n",
    "colnames(d) = c(\"value\")\n",
    "\n",
    "# I will add a type for all frame data\n",
    "a$type = \"group1\"\n",
    "b$type = \"group2\"\n",
    "c$type = \"group3\"\n",
    "d$type = \"group4\"\n",
    "\n",
    "# I glue the lines together\n",
    "data = rbind(a,b,c,d)\n",
    "\n",
    "# Convert type to type factor (needed for some tests)\n",
    "data$type = as.factor(data$type)\n",
    "\n",
    "head(data)"
   ]
  },
  {
   "cell_type": "code",
   "execution_count": null,
   "id": "velvet-abortion",
   "metadata": {},
   "outputs": [],
   "source": [
    "boxplot(data$value ~ data$type)\n",
    "# if there are any outliars, I will ignore them\n",
    "# I know the data is from a normal distribution!\n",
    "# I also know they have the same variance sd = 10"
   ]
  },
  {
   "cell_type": "markdown",
   "id": "03bba294-5166-4706-b4ff-3e64ee3d3f8e",
   "metadata": {},
   "source": [
    "# Overview of tests and their functions\n",
    " \n",
    "## Comparing the measures of Variability (variances)"
   ]
  },
  {
   "cell_type": "markdown",
   "id": "ca331cd8-c0db-48a1-a3b2-9543862ad446",
   "metadata": {},
   "source": [
    "### Bartlett test\n",
    "- verifies the equality of variances \n",
    "- $H_0: \\sigma^2_1 = \\sigma^2_2 = \\sigma^2_3 = \\ldots$\n",
    "- $H_A: \\neg H_0$\n",
    "- the assumtion data normality(and of course independence and continuity)"
   ]
  },
  {
   "cell_type": "code",
   "execution_count": null,
   "id": "golden-accordance",
   "metadata": {},
   "outputs": [],
   "source": [
    "bartlett.test(data$value ~ data$type)"
   ]
  },
  {
   "cell_type": "markdown",
   "id": "accredited-picking",
   "metadata": {},
   "source": [
    "### Levene's test\n",
    "- verifies the equality of variances \n",
    "- $H_0: \\sigma^2_1 = \\sigma^2_2 = \\sigma^2_3 = \\ldots$\n",
    "- $H_A: \\neg H_0$\n",
    "- only independence and continuity are required"
   ]
  },
  {
   "cell_type": "code",
   "execution_count": null,
   "id": "incoming-bacteria",
   "metadata": {},
   "outputs": [],
   "source": [
    "car::leveneTest(data$value ~ data$type)"
   ]
  },
  {
   "cell_type": "markdown",
   "id": "a1792c6d-4c9d-49ff-8e04-d5a0711f5d49",
   "metadata": {},
   "source": [
    "### Cochran's and Hartley's test\n",
    "- verifies the equality of variances \n",
    "- require data normality and so-called balanced sorting\n",
    "    - balanced sorting means that we have approximately the same amount of data in each group\n",
    "- we will not use them"
   ]
  },
  {
   "cell_type": "markdown",
   "id": "ea9de8bb-f922-4156-8408-12b50ee0413a",
   "metadata": {},
   "source": [
    "## Comparing the measures of Position (means or medians) \n",
    "\n",
    "### ANOVA(analysis of variance)\n",
    "- test the equality of mean values \n",
    "- $H_0: \\mu_1 = \\mu_2 = \\mu_3 = \\ldots$\n",
    "- $H_A: \\neg H_0$\n",
    "- prerequisites:\n",
    "    - normality dat\n",
    "    - homoskedasticity(identical variances)\n",
    "    - (and of course independence and continuity)\n",
    "- if we reject $H_0$ Post-Hoc analysis is required\n",
    "    - using TukeyHSD test\n",
    "    - we want the result in the form of letter scheme and effects"
   ]
  },
  {
   "cell_type": "code",
   "execution_count": null,
   "id": "brief-humor",
   "metadata": {},
   "outputs": [],
   "source": [
    "# ANOVA\n",
    "# H0: mu1=mu2=mu3=mu4\n",
    "# HA:~H0(H0 negation)\n",
    "\n",
    "res = aov(data$value~ data$type)\n",
    "summary(res)"
   ]
  },
  {
   "cell_type": "code",
   "execution_count": null,
   "id": "verbal-marketplace",
   "metadata": {},
   "outputs": [],
   "source": [
    "# Post-Hoc analysis\n",
    "\n",
    "TukeyHSD(res)"
   ]
  },
  {
   "cell_type": "code",
   "execution_count": null,
   "id": "special-brother",
   "metadata": {},
   "outputs": [],
   "source": [
    "# effect computation\n",
    "library(dplyr)\n",
    "\n",
    "# overall average\n",
    "mean_overall = mean(data$value)\n",
    "mean_overall\n",
    "\n",
    "# averages in groups\n",
    "effects = data %>% group_by(type) %>% \n",
    "    summarize(mean_group = mean(value))\n",
    "\n",
    "# effects\n",
    "effects$effect = effects$mean_group - mean_overall\n",
    "\n",
    "# list them sorted\n",
    "effects %>% arrange(desc(effect))"
   ]
  },
  {
   "cell_type": "code",
   "execution_count": null,
   "id": "dd8d4edd-b5fd-4ac6-9b20-09404fab41e4",
   "metadata": {},
   "outputs": [],
   "source": [
    "# letter scheme, library rcompanion\n",
    "\n",
    "# install.packages(\"rcompanion\")\n",
    "posthoc = TukeyHSD(res)\n",
    "\n",
    "# how to get the matrix of values out of the result\n",
    "matrix_posthoc = posthoc[[1]]\n",
    "matrix_posthoc\n",
    "# now we make a dataframe with columns of pairs and pvalues\n",
    "posthoc_DF = data.frame(pairs = rownames(matrix_posthoc), \n",
    "                   pval = matrix_posthoc[,'p adj'])\n",
    "posthoc_DF"
   ]
  },
  {
   "cell_type": "code",
   "execution_count": null,
   "id": "40fc0dda-0676-4795-9a7d-990c134130bd",
   "metadata": {},
   "outputs": [],
   "source": [
    "rcompanion::cldList(pval ~ pairs, \n",
    "        data = posthoc_DF,\n",
    "        threshold = 0.05)"
   ]
  },
  {
   "cell_type": "markdown",
   "id": "immune-trouble",
   "metadata": {},
   "source": [
    "### Kruskal - Wallis test\n",
    " \n",
    "- verifiesthe equality of medians\n",
    "- $H_0: X_{0.5,1} = X_{0.5,2} = X_{0.5,3} = \\ldots$\n",
    "- $H_A: \\neg H_0$\n",
    "- prerequisites:\n",
    "    - data symmetry\n",
    "    - (and of course independence and continuity)\n",
    "- if we reject $H_0$ Post-Hoc analysis is required\n",
    "    - using the Dunn test\n",
    "        - method = \"bonferroni\" \n",
    "    - we want the result in the form of letter scheme and effects"
   ]
  },
  {
   "cell_type": "code",
   "execution_count": null,
   "id": "acting-shopping",
   "metadata": {},
   "outputs": [],
   "source": [
    "# KW test\n",
    "# H0: X0.5,1=X0.5,2=X0.5,3=X0.5,4\n",
    "# HA:~H0(H0 negation)\n",
    "\n",
    "kruskal.test(data$value ~ data$type)"
   ]
  },
  {
   "cell_type": "code",
   "execution_count": null,
   "id": "exotic-acrylic",
   "metadata": {},
   "outputs": [],
   "source": [
    "# Post-Hoc analysis\n",
    "\n",
    "# install.packages(\"FSA\")\n",
    "FSA::dunnTest(data$value ~ data$type,   # FSA library\n",
    "              method=\"bonferroni\")"
   ]
  },
  {
   "cell_type": "code",
   "execution_count": null,
   "id": "trying-orbit",
   "metadata": {},
   "outputs": [],
   "source": [
    "# effects\n",
    "\n",
    "# overall median\n",
    "median_overall = median(data$value)\n",
    "median_overall\n",
    "\n",
    "# medians in groups\n",
    "effects = data %>% group_by(type) %>% \n",
    "    summarize(median_group = median(value))\n",
    "\n",
    "# effects\n",
    "effects$effect = effects$median_group - median_overall\n",
    "\n",
    "# list them sorted\n",
    "effects %>% arrange(desc(effect))"
   ]
  },
  {
   "cell_type": "code",
   "execution_count": null,
   "id": "50882068-963f-4c45-831e-65d24363671f",
   "metadata": {},
   "outputs": [],
   "source": [
    "# letter scheme, library rcompanion\n",
    "\n",
    "# install.packages(\"rcompanion\")\n",
    "posthoc = FSA::dunnTest(data$value ~ data$type,   # FSA library\n",
    "              method=\"bonferroni\")\n",
    "\n",
    "# how to get the matrix of values out of the result\n",
    "posthoc_DF = posthoc$res\n",
    "posthoc_DF\n",
    "# its in the data frame form already"
   ]
  },
  {
   "cell_type": "code",
   "execution_count": null,
   "id": "08b7e1d5-92c3-4d26-9865-668e3949b42e",
   "metadata": {},
   "outputs": [],
   "source": [
    "rcompanion::cldList(P.adj ~ Comparison, \n",
    "        data = posthoc_DF,\n",
    "        threshold = 0.05)"
   ]
  },
  {
   "cell_type": "markdown",
   "id": "367dce58-180b-453a-a758-1f2f7e54ae6c",
   "metadata": {},
   "source": [
    "# Examples"
   ]
  },
  {
   "cell_type": "markdown",
   "id": "experimental-montana",
   "metadata": {},
   "source": [
    "## Example 1.\n",
    "\n",
    "122 patients who underwent heart surgery were randomly divided into three groups \n",
    "- **Group 1:** Patients received 50% nitrous oxide and 50% oxygen mixed continuously for 24 hours.\n",
    "- **Group 2:** Patients received 50% nitric oxide and 50% oxygen only during surgery.\n",
    "- **Group 3:** Patients received no nitrous oxide but received 35-50% oxygen for 24 hours.\n",
    "\n",
    "The data in the sheet 1 of testy_vicevyberove.xlsx file correspond to the folic acid salt concentrations in the red blood cells in all three groups 24 hours after the surgery. Verify that the observed differences between the folic acid salt concentrations are statistically significant, i.e. that there is an effect of the composition of the mixture on the monitored parameter."
   ]
  },
  {
   "cell_type": "code",
   "execution_count": null,
   "id": "special-helen",
   "metadata": {
    "tags": []
   },
   "outputs": [],
   "source": [
    "acid = readxl::read_excel(\"data/testy_vicevyberove.xlsx\", sheet=1)\n",
    "colnames(acid) = c(\"Group 1\",\"Group 2\",\"Group 3\")   # rename columns\n",
    "head(acid)"
   ]
  },
  {
   "cell_type": "code",
   "execution_count": null,
   "id": "pleased-november",
   "metadata": {
    "tags": []
   },
   "outputs": [],
   "source": [
    "# conversion to standard data format\n",
    "acid.s = stack(acid)\n",
    "colnames(acid.s) = c(\"values\",\"group\")\n",
    "acid.s = na.omit(acid.s)\n",
    "head(acid.s)"
   ]
  },
  {
   "cell_type": "code",
   "execution_count": null,
   "id": "million-temperature",
   "metadata": {},
   "outputs": [],
   "source": [
    "boxplot(acid.s$values ~ acid.s$group, xlab = \"Test groups\", ylab = \"Folic acid salt concentration\")\n",
    "# Data do not contain any outliars"
   ]
  },
  {
   "cell_type": "code",
   "execution_count": null,
   "id": "forward-trauma",
   "metadata": {},
   "outputs": [],
   "source": [
    "# we test the normality using S-W. test\n",
    "\n",
    "acid.s %>% group_by(group) %>% \n",
    "    summarise(pval_SW = shapiro.test(values)$p.value)"
   ]
  },
  {
   "cell_type": "code",
   "execution_count": null,
   "id": "fresh-wisdom",
   "metadata": {},
   "outputs": [],
   "source": [
    "# Information needed to set rounding\n",
    "\n",
    "acid.s %>% group_by(group) %>% \n",
    "    summarise(len = length(values), st.dev = sd(values))\n",
    "\n",
    "# sd is rounded to 3 valid digits\n",
    "# sd and position measures are rounded to tenths\n"
   ]
  },
  {
   "cell_type": "code",
   "execution_count": null,
   "id": "functional-browser",
   "metadata": {},
   "outputs": [],
   "source": [
    "# equality of variance\n",
    "s2 = acid.s %>% group_by(group) %>% \n",
    "        summarise(var = sd(values)^2)\n",
    "s2 # sampling variances\n",
    "\n",
    "max(s2$var)/min(s2$var)\n",
    "# According to the box chart and information on the ratio of the largest and smallest\n",
    "# variances(<2) we do not assume that the variances differ statistically significantly"
   ]
  },
  {
   "cell_type": "code",
   "execution_count": null,
   "id": "express-rabbit",
   "metadata": {},
   "outputs": [],
   "source": [
    "# The assumption of normality was not rejected -> Bartlett's test\n",
    "\n",
    "bartlett.test(acid.s$values ~ acid.s$group)\n",
    "\n",
    "# At the significance level of 0.05, there are no statistically significant differences in variances"
   ]
  },
  {
   "cell_type": "code",
   "execution_count": null,
   "id": "collect-navigator",
   "metadata": {},
   "outputs": [],
   "source": [
    "# We want to compare the mean values of independent samples from normal distributions\n",
    "# with same variances -> ANOVA\n",
    "# The aov() command requires data in the standard data format\n",
    "\n",
    "results = aov(acid.s$values ~ acid.s$group) \n",
    "summary(results)  \n",
    "\n",
    "# At the significance level of 0.05, there are statistically significant differences in mean values"
   ]
  },
  {
   "cell_type": "code",
   "execution_count": null,
   "id": "consecutive-authority",
   "metadata": {},
   "outputs": [],
   "source": [
    "# post-hoc analysis\n",
    "TukeyHSD(results)"
   ]
  },
  {
   "cell_type": "code",
   "execution_count": null,
   "id": "abstract-quebec",
   "metadata": {},
   "outputs": [],
   "source": [
    "# effect computation\n",
    "\n",
    "# overall average\n",
    "mean_overall = mean(acid.s$values)\n",
    "mean_overall\n",
    "\n",
    "# averages in groups\n",
    "effects = acid.s %>% group_by(group) %>% \n",
    "    summarize(mean_group = mean(values))\n",
    "\n",
    "# effects\n",
    "effects$effect = effects$mean_group - mean_overall\n",
    "\n",
    "# list them sorted\n",
    "effects %>% arrange(desc(effect))"
   ]
  },
  {
   "cell_type": "code",
   "execution_count": null,
   "id": "ecb79672-6989-4e0f-8fd2-65c54dda3adf",
   "metadata": {},
   "outputs": [],
   "source": [
    "# letter scheme, library rcompanion\n",
    "\n",
    "# make a dataframe with columns of pairs and pvalues\n",
    "matrix_posthoc = TukeyHSD(results)[[1]]\n",
    "posthoc_DF = data.frame(pairs = rownames(matrix_posthoc), \n",
    "                   pval = matrix_posthoc[,'p adj'])\n",
    "# letter scheme\n",
    "rcompanion::cldList(pval ~ pairs, \n",
    "        data = posthoc_DF,\n",
    "        threshold = 0.05)"
   ]
  },
  {
   "cell_type": "markdown",
   "id": "inner-marathon",
   "metadata": {},
   "source": [
    "## Example 2.\n",
    " \n",
    "Three breeds of rabbits are bred on the farm. An experiment was performed on sheet 2 of testy_vicevyberove.xlsx, the aim of which was to find out whether, even if we keep all the rabbits for the same time and under the same conditions (food, environment), there is a statistically significant difference between breeds in rabbit weights. Verify."
   ]
  },
  {
   "cell_type": "code",
   "execution_count": null,
   "id": "jewish-exhibit",
   "metadata": {
    "tags": []
   },
   "outputs": [],
   "source": [
    "rabbits = readxl::read_excel(\"data/testy_vicevyberove.xlsx\", sheet=2)\n",
    "colnames(rabbits) = c(\"Vienna\",\"Czech\",\"Kalif\")   # rename columns\n",
    "head(rabbits)"
   ]
  },
  {
   "cell_type": "code",
   "execution_count": null,
   "id": "fatal-sister",
   "metadata": {},
   "outputs": [],
   "source": [
    "# conversion to standard data format\n",
    "rabbits.s = stack(rabbits)\n",
    "colnames(rabbits.s) = c(\"value\",\"group\")\n",
    "rabbits.s = na.omit(rabbits.s)\n",
    "head(rabbits.s)"
   ]
  },
  {
   "cell_type": "code",
   "execution_count": null,
   "id": "about-gnome",
   "metadata": {},
   "outputs": [],
   "source": [
    "boxplot(rabbits.s$value ~ rabbits.s$group)\n",
    "# data contains an outliar"
   ]
  },
  {
   "cell_type": "code",
   "execution_count": null,
   "id": "professional-egyptian",
   "metadata": {},
   "outputs": [],
   "source": [
    "# Eliminate outliar\n",
    "\n",
    "rabbits.s$id = seq(1,length(rabbits.s$value))\n",
    "\n",
    "outliars = rabbits.s %>% group_by(group) %>% rstatix::identify_outliers(value)\n",
    "outliars\n",
    "\n",
    "rabbits.s$value_cleared = ifelse(rabbits.s$id %in% outliars$id, NA, rabbits.s$value)\n",
    "\n",
    "# Box chart\n",
    "boxplot(rabbits.s$value_cleared ~ rabbits.s$group)"
   ]
  },
  {
   "cell_type": "code",
   "execution_count": null,
   "id": "increased-daughter",
   "metadata": {},
   "outputs": [],
   "source": [
    "library(dplyr)\n",
    "\n",
    "rabbits.s %>% group_by(group) %>% \n",
    "    summarise(norm.pval = shapiro.test(value_cleared)$p.value)\n",
    "\n",
    "# At the significance level of 0.05, we do not reject the assumption of normality."
   ]
  },
  {
   "cell_type": "code",
   "execution_count": null,
   "id": "norman-transmission",
   "metadata": {},
   "outputs": [],
   "source": [
    "# Information needed for correct rounding\n",
    "rabbits.s %>% group_by(group) %>%\n",
    "    summarize(len = sum(!is.nan(value_cleared)), \n",
    "              sd = sd(value_cleared, na.rm = TRUE))\n",
    "\n",
    "# sd is rounded to 2 valid digits\n",
    "# sd and position measurements round to hundredths"
   ]
  },
  {
   "cell_type": "code",
   "execution_count": null,
   "id": "eastern-harvest",
   "metadata": {},
   "outputs": [],
   "source": [
    "# The assumption of normality was not rejected ->Bartlett's test\n",
    "bartlett.test(rabbits.s$value_cleared ~ rabbits.s$group) \n",
    "\n",
    "# At the significance level of 0.05, the equality of variances cannot be rejected"
   ]
  },
  {
   "cell_type": "code",
   "execution_count": null,
   "id": "dried-parker",
   "metadata": {},
   "outputs": [],
   "source": [
    "# We want to compare the mean values of independent samples from normal\n",
    "# distributions with the same variances -> ANOVA\n",
    "# The aov() command requires data in the standard data format\n",
    "\n",
    "results = aov(rabbits.s$value_cleared ~ rabbits.s$group)\n",
    "summary(results)  \n",
    "\n",
    "# At the significance level of 0.05, we reject the hypothesis of equality of the mean values"
   ]
  },
  {
   "cell_type": "code",
   "execution_count": null,
   "id": "valid-darkness",
   "metadata": {},
   "outputs": [],
   "source": [
    "# post-hoc analysis\n",
    "TukeyHSD(results)"
   ]
  },
  {
   "cell_type": "code",
   "execution_count": null,
   "id": "nutritional-hamilton",
   "metadata": {},
   "outputs": [],
   "source": [
    "# effect computation\n",
    "\n",
    "# overall average\n",
    "mean_overall = mean(rabbits.s$value_cleared, na.rm = TRUE)\n",
    "mean_overall\n",
    "\n",
    "# averages in groups\n",
    "effects = rabbits.s %>% group_by(group) %>% \n",
    "    summarize(mean_group = mean(value_cleared, na.rm = TRUE))\n",
    "\n",
    "# effects\n",
    "effects$effect = effects$mean_group - mean_overall\n",
    "\n",
    "# list them sorted\n",
    "effects %>% arrange(desc(effect))"
   ]
  },
  {
   "cell_type": "markdown",
   "id": "tough-lemon",
   "metadata": {},
   "source": [
    "## Example 3.\n",
    " \n",
    "Four manufacturers A, B, C, D sent a total of 66 products to the competition for the best product quality. The jury compiled the ranking (only the position of the product in the list of 66 from best to worst), which is listed in the sheet 3 of the file testy_vicevyberove.xlsx. On the basis of the above data, assess whether the origin of the products affects its quality."
   ]
  },
  {
   "cell_type": "code",
   "execution_count": null,
   "id": "continuous-water",
   "metadata": {},
   "outputs": [],
   "source": [
    "quality = readxl::read_excel(\"data/testy_vicevyberove.xlsx\", sheet = 3)\n",
    "colnames(quality) = c(\"ranking\", \"manufacturer\")   # rename columns\n",
    "head(quality)\n",
    "# data is already in standard format"
   ]
  },
  {
   "cell_type": "code",
   "execution_count": null,
   "id": "compressed-somalia",
   "metadata": {},
   "outputs": [],
   "source": [
    "boxplot(quality$ranking ~ quality$manufacturer)\n",
    "\n",
    "# the data are not independent by nature, also they are not continuous!\n",
    "# outliars should not be present by the nature of the dataset\n",
    "# the assumptions are corrupted for all tests -> our best bet is the most robust test in our arsenal\n",
    "# we skip directly into KW test"
   ]
  },
  {
   "cell_type": "code",
   "execution_count": null,
   "id": "modular-forum",
   "metadata": {},
   "outputs": [],
   "source": [
    "# Symmetry verification\n",
    "\n",
    "quality %>% group_by(manufacturer) %>% \n",
    "    summarize(skewness = moments::skewness(ranking))"
   ]
  },
  {
   "cell_type": "code",
   "execution_count": null,
   "id": "pediatric-football",
   "metadata": {},
   "outputs": [],
   "source": [
    "# We want to compare the medians of \"independent\" samples -> Kruskal-Wallis test\n",
    "kruskal.test(quality$ranking ~ quality$manufacturer)\n",
    "\n",
    "# At the significance level of 0.05, there are no statistically significant differences in medians"
   ]
  },
  {
   "cell_type": "markdown",
   "id": "complex-bottle",
   "metadata": {},
   "source": [
    "## Example 4.\n",
    " \n",
    "The effect of three types of medicaments on blood clotting was studied (so called thrombin time). Data of 42 monitored persons are recorded in the sheet 4 of the file testy_vicevyberove.xlsx. Does the thrombin time depend on which preparation was used?"
   ]
  },
  {
   "cell_type": "code",
   "execution_count": null,
   "id": "defensive-fiction",
   "metadata": {},
   "outputs": [],
   "source": [
    "trombin.s = readxl::read_excel(\"data/testy_vicevyberove.xlsx\", \n",
    "                               sheet=4, skip = 1)\n",
    "colnames(trombin.s) = c(\"value\",\"group\")   # rename columns\n",
    "\n",
    "head(trombin.s)\n",
    "# data is already in standard format\n"
   ]
  },
  {
   "cell_type": "code",
   "execution_count": null,
   "id": "referenced-relations",
   "metadata": {},
   "outputs": [],
   "source": [
    "# exploratory analysis\n",
    "boxplot(trombin.s$value ~ trombin.s$group)\n",
    "# no outliars"
   ]
  },
  {
   "cell_type": "code",
   "execution_count": null,
   "id": "digital-latitude",
   "metadata": {},
   "outputs": [],
   "source": [
    "# verification of normality\n",
    "library(dplyr)\n",
    "\n",
    "trombin.s %>% group_by(group) %>%\n",
    "    summarize(norm.pval = shapiro.test(value)$p.value)\n",
    "\n",
    "# At the significance level of 0.05 we reject the assumption of normality(for A)"
   ]
  },
  {
   "cell_type": "code",
   "execution_count": null,
   "id": "useful-wells",
   "metadata": {},
   "outputs": [],
   "source": [
    "# we can at least test the equality of variances -> same variances\n",
    "# means better KW test result in terms of type II error\n",
    "\n",
    "# The assumption of normality was rejected -> Levene's test\n",
    "\n",
    "car::leveneTest(trombin.s$value ~ trombin.s$group) \n",
    "\n",
    "# the assumption of homoskedasticity was rejected (at significance 0.05)"
   ]
  },
  {
   "cell_type": "code",
   "execution_count": null,
   "id": "caroline-citizen",
   "metadata": {},
   "outputs": [],
   "source": [
    "# Symmetry verification\n",
    "trombin.s %>% group_by(group) %>% \n",
    "  summarize(skewness = moments::skewness(value))\n",
    "# we do not reject the assumption of data symmetry"
   ]
  },
  {
   "cell_type": "code",
   "execution_count": null,
   "id": "coordinated-velvet",
   "metadata": {},
   "outputs": [],
   "source": [
    "# We want to compare medians (data not from normal dist.)-> Kruskal - Wallis test\n",
    "\n",
    "kruskal.test(trombin.s$value,trombin.s$group)\n",
    "\n",
    "# At the significance level of 0.05, we found statistically significant differences in medians"
   ]
  },
  {
   "cell_type": "code",
   "execution_count": null,
   "id": "suited-trouble",
   "metadata": {},
   "outputs": [],
   "source": [
    "FSA::dunnTest(trombin.s$value~trombin.s$group,method = \"bonferroni\")      "
   ]
  },
  {
   "cell_type": "code",
   "execution_count": null,
   "id": "sustainable-executive",
   "metadata": {},
   "outputs": [],
   "source": [
    "# effect counting\n",
    "library(dplyr)\n",
    "\n",
    "# overall average\n",
    "median_overall = median(trombin.s$value)\n",
    "median_overall\n",
    "\n",
    "# averages in groups\n",
    "effects = trombin.s %>% group_by(group) %>% \n",
    "    summarize(median_group = median(value))\n",
    "\n",
    "# effects\n",
    "effects$effect = effects$median_group - median_overall\n",
    "\n",
    "# List sorted\n",
    "effects %>% arrange(desc(effect))"
   ]
  },
  {
   "cell_type": "markdown",
   "id": "extended-parks",
   "metadata": {},
   "source": [
    "## Example 5.(multiple groups)\n",
    " \n",
    "When Snow White got to the seven dwarves, she sensed an opportunity to make a lot of money. The Dwarves basically fell in love with the Snow White and immediately handed over all of their mined gold. However, even this is not enough for Snow White and she feels that she could benefit more from the dwarves. Therefore, she began to record how many kilograms of gold a day she received from each of the dwarves(snehurka.xlsx). Verify that the dwarves differ in the amount of gold mined."
   ]
  },
  {
   "cell_type": "code",
   "execution_count": null,
   "id": "activated-cooking",
   "metadata": {},
   "outputs": [],
   "source": [
    "gold = readxl::read_excel(\"data/snehurka.xlsx\")\n",
    "colnames(gold) = c(\"ammount\",\"dwarf\")\n",
    "head(gold)\n",
    "# data is in the standard data format"
   ]
  },
  {
   "cell_type": "code",
   "execution_count": null,
   "id": "czech-jaguar",
   "metadata": {},
   "outputs": [],
   "source": [
    "boxplot(gold$ammount ~ gold$dwarf)\n",
    "# data does not outliars"
   ]
  },
  {
   "cell_type": "code",
   "execution_count": null,
   "id": "international-douglas",
   "metadata": {},
   "outputs": [],
   "source": [
    "# verification of normality\n",
    "library(dplyr)\n",
    "\n",
    "gold %>% group_by(dwarf) %>%\n",
    "    summarize(p.val = shapiro.test(ammount)$p.value)"
   ]
  },
  {
   "cell_type": "code",
   "execution_count": null,
   "id": "chicken-lambda",
   "metadata": {},
   "outputs": [],
   "source": [
    "# The assumption of normality was not rejected -> Bartlett's test\n",
    "bartlett.test(gold$ammount ~ gold$dwarf) \n",
    "\n",
    "# At the significance level of 0.05, there are no statistically significant differences in variances"
   ]
  },
  {
   "cell_type": "code",
   "execution_count": null,
   "id": "international-tokyo",
   "metadata": {},
   "outputs": [],
   "source": [
    "# ANOVA\n",
    "results = aov(gold$ammount ~ gold$dwarf) \n",
    "summary(results)  "
   ]
  },
  {
   "cell_type": "code",
   "execution_count": null,
   "id": "entitled-middle",
   "metadata": {},
   "outputs": [],
   "source": [
    "# POST-HOC\n",
    "res = TukeyHSD(results)[[1]]\n",
    "res"
   ]
  },
  {
   "cell_type": "code",
   "execution_count": null,
   "id": "blank-challenge",
   "metadata": {},
   "outputs": [],
   "source": [
    "# effects computation\n",
    "library(dplyr)\n",
    "\n",
    "# overall average\n",
    "overall = mean(gold$ammount)\n",
    "overall\n",
    "\n",
    "# averages in groups\n",
    "effects = gold %>% group_by(dwarf) %>% \n",
    "    summarize(mean_dwarf = mean(ammount))\n",
    "\n",
    "# effects\n",
    "effects$effect = effects$mean_dwarf - overall\n",
    "\n",
    "# list sorted\n",
    "effects %>% arrange(desc(effect))"
   ]
  },
  {
   "cell_type": "code",
   "execution_count": null,
   "id": "necessary-moral",
   "metadata": {},
   "outputs": [],
   "source": [
    "# letter scheme, library rcompanion\n",
    "\n",
    "# make a dataframe with columns of pairs and pvalues\n",
    "matrix_posthoc = TukeyHSD(results)[[1]]\n",
    "posthoc_DF = data.frame(pairs = rownames(matrix_posthoc), \n",
    "                   pval = matrix_posthoc[,'p adj'])\n",
    "# letter scheme\n",
    "rcompanion::cldList(pval ~ pairs, \n",
    "        data = posthoc_DF,\n",
    "        threshold = 0.05)"
   ]
  },
  {
   "cell_type": "code",
   "execution_count": null,
   "id": "2031fa4e-a38a-4c22-a3d5-8354577f4a6a",
   "metadata": {},
   "outputs": [],
   "source": []
  }
 ],
 "metadata": {
  "kernelspec": {
   "display_name": "R",
   "language": "R",
   "name": "ir"
  },
  "language_info": {
   "codemirror_mode": "r",
   "file_extension": ".r",
   "mimetype": "text/x-r-source",
   "name": "R",
   "pygments_lexer": "r",
   "version": "4.1.3"
  }
 },
 "nbformat": 4,
 "nbformat_minor": 5
}
