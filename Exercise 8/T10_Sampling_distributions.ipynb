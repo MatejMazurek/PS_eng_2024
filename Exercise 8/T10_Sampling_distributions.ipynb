{
 "cells": [
  {
   "cell_type": "markdown",
   "metadata": {},
   "source": [
    "# Exercise 8. Sampling distributions\n",
    "## Michal Béreš"
   ]
  },
  {
   "cell_type": "markdown",
   "metadata": {},
   "source": [
    "# Other selected continuous distributions\n",
    " \n",
    "## $\\chi^2$ - Chi-square distribution(Pearns distribution)\n",
    " \n",
    "- Use: when estimating the standard deviation(using sampling)\n",
    " \n",
    "- Has a single parameter - the number of degrees of freedom\n",
    " \n",
    "- $\\frac{S^2}{\\sigma^2}(n-1) \\sim \\chi^2_{n-1}$\n",
    " \n",
    "- $S$ is the sample standard deviation\n",
    " \n"
   ]
  },
  {
   "cell_type": "code",
   "execution_count": null,
   "metadata": {},
   "outputs": [],
   "source": [
    "n =  5 # number of degrees of freedom\n",
    "x = seq(from = 0, to = 30, by = 0.01) # x-axis\n",
    "fx = dchisq(x = x, df = n) # chi-sq probability density. distribution\n",
    "\n",
    "plot(x, fx, type='l')"
   ]
  },
  {
   "cell_type": "code",
   "execution_count": null,
   "metadata": {},
   "outputs": [],
   "source": [
    "Fx = pchisq(q = x, df = n) # distrib. f. of chi-sq. distribution\n",
    "\n",
    "plot(x, Fx, type='l')"
   ]
  },
  {
   "cell_type": "markdown",
   "metadata": {},
   "source": [
    "## $t$ - Student's distribution\n",
    " \n",
    "- Application: when estimating the mean without exact knowledge of variance(sampling only)\n",
    " \n",
    "- $\\frac{\\bar X - \\mu}{S}\\sqrt{n} \\sim t_{n-1} $\n",
    " \n",
    "- $\\bar X$ is the sample average\n",
    " \n",
    "- $S$ is the sample standard deviation\n",
    " \n",
    "- converges to a normalized normal distribution with increasing number of degrees of freedom\n",
    " \n"
   ]
  },
  {
   "cell_type": "code",
   "execution_count": null,
   "metadata": {},
   "outputs": [],
   "source": [
    "n =  5 # number of degrees of freedom\n",
    "x = seq(from = -3, to = 3, by = 0.01) # x-axis\n",
    "fx = dt(x = x, df = n) # probability density of the student's distribution\n",
    "\n",
    "plot(x, fx, type='l')\n",
    "\n",
    "fnorm = dnorm(x, mean=0, sd=1)  # norm values. normal dist\n",
    "lines(x, fnorm, col=\"red\")      # to the last graph\n"
   ]
  },
  {
   "cell_type": "code",
   "execution_count": null,
   "metadata": {},
   "outputs": [],
   "source": [
    "Fx = pt(q = x, df = n) # probability density of the student's distribution\n",
    "\n",
    "plot(x, Fx, type='l')\n",
    "\n",
    "Fnorm = pnorm(x, mean=0, sd=1)  # norm values. normal birth\n",
    "lines(x, Fnorm, col=\"red\")      # to the last graph\n"
   ]
  },
  {
   "cell_type": "markdown",
   "metadata": {},
   "source": [
    "## $F$ - Fisher-Snedecor distribution\n",
    " \n",
    "- Used to test ratio of variances\n",
    " \n",
    "- $\\frac{S_1^2/\\sigma_1^2}{S_2^2/\\sigma_2^2} \\sim F_{n_1 - 1, n_2 - 1}$\n",
    " \n"
   ]
  },
  {
   "cell_type": "code",
   "execution_count": null,
   "metadata": {},
   "outputs": [],
   "source": [
    "n = 5  # number of degrees of freedom selection. 1\n",
    "m = 6  # number of degrees of freedom selection. 2\n",
    "x = seq(from = 0, to = 10, by = 0.01) # x-axis\n",
    "fx = df(x = x, df1 = n, df2 = m) # chi-quad probability density. distribution\n",
    "\n",
    "plot(x, fx, type='l')"
   ]
  },
  {
   "cell_type": "code",
   "execution_count": null,
   "metadata": {},
   "outputs": [],
   "source": [
    "Fx = pf(q = x, df1 = n, df2 = m) # chi-quad probability density. distribution\n",
    "\n",
    "plot(x, Fx, type='l')"
   ]
  },
  {
   "cell_type": "markdown",
   "metadata": {},
   "source": [
    "# How does the average of the values from the normal distribution behave?\n",
    " \n",
    "The function **rnorm(n, mean, sd)** generates **n** values from the normal distribution with themeanvalue **mean** and the standard deviation **sd**.\n",
    " \n"
   ]
  },
  {
   "cell_type": "code",
   "execution_count": null,
   "metadata": {},
   "outputs": [],
   "source": [
    "selection_size = 30\n",
    "mu = 10\n",
    "sigma = 3\n",
    "random_selection = rnorm(n=selection_size, mean=mu, sd=sigma) \n",
    "random_selection"
   ]
  },
  {
   "cell_type": "code",
   "execution_count": null,
   "metadata": {},
   "outputs": [],
   "source": [
    "mean(random_selection)\n",
    "sd(random_selection)"
   ]
  },
  {
   "cell_type": "markdown",
   "metadata": {},
   "source": [
    "### Random variable: average of values\n",
    " \n"
   ]
  },
  {
   "cell_type": "code",
   "execution_count": null,
   "metadata": {},
   "outputs": [],
   "source": [
    "n_selections = 1000\n",
    "means = numeric(n_selections) # numeric produces vector 0\n",
    "st_deviations = numeric(n_selections)\n",
    "for(i in 1:n_selections){\n",
    "  random_selection = rnorm(n=selection_size,mean=mu,sd=sigma)\n",
    "  means[i] = mean(random_selection)\n",
    "  st_deviations[i] = sd(random_selection)\n",
    "}"
   ]
  },
  {
   "cell_type": "code",
   "execution_count": null,
   "metadata": {},
   "outputs": [],
   "source": [
    "hist(means)"
   ]
  },
  {
   "cell_type": "code",
   "execution_count": null,
   "metadata": {},
   "outputs": [],
   "source": [
    "qqnorm(means)\n",
    "qqline(means)"
   ]
  },
  {
   "cell_type": "code",
   "execution_count": null,
   "metadata": {},
   "outputs": [],
   "source": [
    "mean(means)\n",
    "sd(means)\n",
    "sigma/sqrt(selection_size)"
   ]
  },
  {
   "cell_type": "markdown",
   "metadata": {},
   "source": [
    "# How does the average of values from the uniform distribution behave?\n",
    " \n",
    "The function **runif(n, min, max)** generates **n** values from the uniform distribution U(**min, max**).\n",
    " \n"
   ]
  },
  {
   "cell_type": "code",
   "execution_count": null,
   "metadata": {},
   "outputs": [],
   "source": [
    "selection_size = 30\n",
    "a = 1\n",
    "b = 7\n",
    "random_selection=runif(n=selection_size, min=a, max=b)\n",
    "# random sample"
   ]
  },
  {
   "cell_type": "code",
   "execution_count": null,
   "metadata": {},
   "outputs": [],
   "source": [
    "hist(random_selection)"
   ]
  },
  {
   "cell_type": "code",
   "execution_count": null,
   "metadata": {},
   "outputs": [],
   "source": [
    "mu = (a+b)/2\n",
    "mu\n",
    "mean(random_selection)\n",
    "sigma = sqrt((b-a)^2/12)\n",
    "sigma\n",
    "sd(random_selection)"
   ]
  },
  {
   "cell_type": "markdown",
   "metadata": {},
   "source": [
    "### Random variable: average of values\n",
    " \n"
   ]
  },
  {
   "cell_type": "code",
   "execution_count": null,
   "metadata": {},
   "outputs": [],
   "source": [
    "n_selections = 1000\n",
    "means = numeric(n_selections)\n",
    "st_deviations = numeric(n_selections)\n",
    "for(i in 1:n_selections){\n",
    "  random_selection = runif(n=selection_size, min=a, max=b)\n",
    "  means[i] = mean(random_selection)\n",
    "  st_deviations[i] = sd(random_selection)\n",
    "}"
   ]
  },
  {
   "cell_type": "code",
   "execution_count": null,
   "metadata": {},
   "outputs": [],
   "source": [
    "hist(means)"
   ]
  },
  {
   "cell_type": "code",
   "execution_count": null,
   "metadata": {},
   "outputs": [],
   "source": [
    "qqnorm(means)\n",
    "qqline(means)"
   ]
  },
  {
   "cell_type": "code",
   "execution_count": null,
   "metadata": {},
   "outputs": [],
   "source": [
    "mean(means)\n",
    "sd(means)\n",
    "sigma/sqrt(selection_size)"
   ]
  },
  {
   "cell_type": "markdown",
   "metadata": {},
   "source": [
    "# Examples\n",
    " \n",
    "## Example 1.\n",
    " \n",
    "The load on an aircraft with 64 seats shall not exceed 6,000 kg. What is the probability that this value will be exceeded at full occupancy if the passenger mass has a mean value of 90 kg and a standard deviation of 10 kg?\n",
    " \n"
   ]
  },
  {
   "cell_type": "code",
   "execution_count": null,
   "metadata": {},
   "outputs": [],
   "source": [
    "# X... weight 64 passengers\n",
    "# X~N(64 * 90; 64 * 100)\n",
    "# P(X>6000)=1 - F(6000)\n",
    "\n",
    "1 - pnorm(q=6000, mean=64*90, sd=sqrt(64*100))"
   ]
  },
  {
   "cell_type": "markdown",
   "metadata": {},
   "source": [
    "## Example 2.\n",
    " \n",
    "The consignment contains 300 products of a certain type. It is known that the probability of making a defective product of this type is 0.04.\n",
    " \n",
    "### a)\n",
    " \n",
    "Estimate the probability that the proportion of defective products in the consignment (300 products) will differ from the probability of producing a defective product by less than 1% (i.e. $p-\\pi \\in <-0.01,0.01>$).\n",
    " \n"
   ]
  },
  {
   "cell_type": "code",
   "execution_count": null,
   "metadata": {},
   "outputs": [],
   "source": [
    "# p-pi from -0.01 to 0.01\n",
    "# for pi = 0.04, p is from 0.03 to 0.05\n",
    "# having 300 products, we should observe between 9 and 15 defective ones\n",
    "\n",
    "# X...number of defective products out of 300\n",
    "# X~Binom(n=300, pi=0.04)\n",
    "# P(9 <= X <= 15)=P(X<=15)-P(X<9)\n",
    "pbinom(15,300,0.04)-pbinom(9-1,300,0.04)"
   ]
  },
  {
   "cell_type": "code",
   "execution_count": null,
   "metadata": {},
   "outputs": [],
   "source": [
    "# X=(p - π)/sqrt(π*(1 - π)) * sqrt(n) ∼ N(0, 1)\n",
    "# P(-0.01/sqrt(π*(1-π))*sqrt(n) < X < 0.01/sqrt(π*(1-π))*sqrt(n))\n",
    "pi = 0.04\n",
    "n = 300\n",
    "bound = 0.01/sqrt(pi*(1-pi))*sqrt(n)\n",
    "pnorm(q=bound, mean=0, sd=1) - pnorm(q=-bound, mean=0, sd=1)"
   ]
  },
  {
   "cell_type": "markdown",
   "metadata": {},
   "source": [
    "### b)\n",
    " \n",
    "How will the result change if the shipment contains 3,000 products?\n",
    " \n"
   ]
  },
  {
   "cell_type": "code",
   "execution_count": null,
   "metadata": {},
   "outputs": [],
   "source": [
    "pbinom(150,3000,0.04)-pbinom(90-1,3000,0.04)"
   ]
  },
  {
   "cell_type": "code",
   "execution_count": null,
   "metadata": {},
   "outputs": [],
   "source": [
    "n = 3000\n",
    "bound = 0.01/sqrt(pi*(1-pi))*sqrt(n)\n",
    "pnorm(q=bound, mean=0, sd=1) - pnorm(q=-bound, mean=0, sd=1)"
   ]
  },
  {
   "cell_type": "markdown",
   "metadata": {},
   "source": [
    "## Example 3.\n",
    " \n",
    "Passenger regularly travel to and from work using public transport. It is known that the waiting time for the arrival of public transport ranges from 0 to 3 minutes. What is the probability that the total waiting time for a passenger during in 23 working days will be less than 80 minutes?\n",
    " \n"
   ]
  },
  {
   "cell_type": "code",
   "execution_count": null,
   "metadata": {},
   "outputs": [],
   "source": [
    "# Y... time of the i-th waiting for public transport\n",
    "# y~R(0; 3)\n",
    "# X... total waiting time in 23 days(round trip ⇒ 46 waitings)\n",
    "# X~N(46 * EY; 46 * DY)\n",
    "# P(X<80)\n",
    "\n",
    "a = 0\n",
    "b = 3\n",
    "n = 46\n",
    "EY = (a+b)/2\n",
    "DY = (b-a)^2/12\n",
    "\n",
    "pnorm(q=80, mean=n*EY, sd=sqrt(n*DY))"
   ]
  },
  {
   "cell_type": "markdown",
   "metadata": {},
   "source": [
    "## Example 4.\n",
    " \n",
    "Assume that the average electricity consumption of households in a given city in January is 120 kWh and the standard deviation of consumption is 100 kWh. Determine the probability that the average consumption of 100 randomly selected households will be greater than 140 kWh.\n"
   ]
  },
  {
   "cell_type": "code",
   "execution_count": null,
   "metadata": {},
   "outputs": [],
   "source": [
    "# Xi... consumption of the i-th household\n",
    "# X... average consumption of 100 households\n",
    "# X~N(EXi; Dxi/n)\n",
    "# P(X>140)\n",
    "\n",
    "EXi = 120\n",
    "DXi = 100^2\n",
    "n = 100\n",
    "1 - pnorm(q=140, mean=EXi, sd=sqrt(DXi/n))"
   ]
  },
  {
   "cell_type": "markdown",
   "metadata": {},
   "source": [
    "## Example 5.\n",
    " \n",
    "The Acme Battery Company has developed a new type of mobile phone battery. On average, batteries last 60 minutes on a single charge. The standard deviation of this time is 4 minutes. Assume that the production department runs a quality control test after 6 months. They performed two random selections with a range of 10 batteries and in both found a standard deviation of battery life greater than 6 minutes. How likely were they to expect such a result?\n",
    " \n"
   ]
  },
  {
   "cell_type": "code",
   "execution_count": null,
   "metadata": {},
   "outputs": [],
   "source": [
    "# X=(n - 1) * S^2/σ^2\n",
    "# X ∼ χ_n-1\n",
    "# P(S>6)=P(X>...)\n",
    "\n",
    "n = 10\n",
    "S_obs = 6\n",
    "sigma = 4\n",
    "X_obs = (n - 1)*S_obs^2/sigma^2\n",
    "\n",
    "P_one_observation = 1 - pchisq(q=X_obs, df=n-1)\n",
    "P_one_observation\n",
    "P_one_observation^2"
   ]
  },
  {
   "cell_type": "markdown",
   "metadata": {},
   "source": [
    "## Example 6.\n",
    " \n",
    "The mortality tables show a probability of 0.99 that a 35-year-old man will live another year. The annual premium for this age group is CZK 2,000, in the event of death the insurance company will pay CZK 100,000. What is the probability that the profit of the company insuring 500 men aged 35 will be at least CZK 500,000?(Solve in two ways - using the binomial distribution and using the binomial distribution approximation by the normal distribution.)\n"
   ]
  },
  {
   "cell_type": "code",
   "execution_count": null,
   "metadata": {},
   "outputs": [],
   "source": [
    "# X... number of men out of 500 who won't live to see another year\n",
    "# X~Bi(500; 0.01)\n",
    "# Z=500 · 2,000 - X · 100,000\n",
    "# P(Z ≥ 500,000)=P(X ≤ 5)\n",
    "\n",
    "pbinom(5, size=500, prob=0.01)"
   ]
  },
  {
   "cell_type": "code",
   "execution_count": null,
   "metadata": {},
   "outputs": [],
   "source": [
    "# X~Bi(500; 0.01)~N(500 * 0.01; 500 * 0.01*(1-0.01))\n",
    "# P(X ≤ 5)~P(X<5.5)(continuity correction)\n",
    "\n",
    "pnorm(5.5, mean=500*0.01, sd=sqrt(500*0.01*(1-0.01)))"
   ]
  },
  {
   "cell_type": "markdown",
   "metadata": {},
   "source": [
    "## Example 7.\n",
    " \n",
    "Assume that approximately 60% of young men in the population have higher than recommended serum cholesterol levels. In a random selection of 200 young men, how likely will more than 120 of them have higher than recommended serum cholesterol levels?\n",
    " \n"
   ]
  },
  {
   "cell_type": "code",
   "execution_count": null,
   "metadata": {},
   "outputs": [],
   "source": [
    "# X... number of young men out of 200 with higher than recommended serum cholesterol levels\n",
    "# X ∼ Bi(200; 0.6)\n",
    "# P(X>120)=1 - P(X ≤ 120)\n",
    "\n",
    "1 - pbinom(120, size=200, prob=0.6)"
   ]
  },
  {
   "cell_type": "code",
   "execution_count": null,
   "metadata": {},
   "outputs": [],
   "source": [
    "# X~N(200 * 0.6; 200 * 0.6(1-0.6)), ie X ≈ N(120; 48)\n",
    "# 1 - P(X ≤ 120)~1 - P(X<120.5)(continuity correction)\n",
    "\n",
    "1 - pnorm(120.5, mean=200*0.6, sd=sqrt(200*0.6*(1-0.6)))"
   ]
  }
 ],
 "metadata": {
  "kernelspec": {
   "display_name": "R",
   "language": "R",
   "name": "ir"
  },
  "language_info": {
   "codemirror_mode": "r",
   "file_extension": ".r",
   "mimetype": "text/x-r-source",
   "name": "R",
   "pygments_lexer": "r",
   "version": "4.1.3"
  }
 },
 "nbformat": 4,
 "nbformat_minor": 4
}
